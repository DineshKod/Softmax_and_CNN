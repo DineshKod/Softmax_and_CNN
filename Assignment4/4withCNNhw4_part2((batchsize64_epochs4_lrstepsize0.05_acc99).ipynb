{
  "nbformat": 4,
  "nbformat_minor": 0,
  "metadata": {
    "colab": {
      "provenance": [],
      "gpuType": "T4"
    },
    "kernelspec": {
      "name": "python3",
      "display_name": "Python 3"
    },
    "accelerator": "GPU"
  },
  "cells": [
    {
      "cell_type": "markdown",
      "metadata": {
        "id": "9XHd5ExbUIUg"
      },
      "source": [
        "# Pytorch with the MNIST Dataset - MINST"
      ]
    },
    {
      "cell_type": "markdown",
      "source": [],
      "metadata": {
        "id": "7nkkVZE6sZiG"
      }
    },
    {
      "cell_type": "code",
      "metadata": {
        "id": "Su0COdCqT2Wk"
      },
      "source": [
        "## import libraries\n",
        "from __future__ import print_function\n",
        "import argparse\n",
        "import torch\n",
        "import torch.nn as nn\n",
        "import torch.nn.functional as F\n",
        "import torchvision\n",
        "\n",
        "import torch.optim as optim\n",
        "from torchvision import datasets, transforms\n",
        "from torch.autograd import Variable"
      ],
      "execution_count": 1,
      "outputs": []
    },
    {
      "cell_type": "code",
      "metadata": {
        "id": "rXCYmmjyVRq5",
        "outputId": "0097c3f1-ab90-4a0a-c14b-4c11e06e4caa",
        "colab": {
          "base_uri": "https://localhost:8080/"
        }
      },
      "source": [
        "print(torch.__version__)"
      ],
      "execution_count": 2,
      "outputs": [
        {
          "output_type": "stream",
          "name": "stdout",
          "text": [
            "2.5.0+cu121\n"
          ]
        }
      ]
    },
    {
      "cell_type": "code",
      "source": [
        "args={}\n",
        "kwargs={}\n",
        "args['batch_size']=64\n",
        "args['test_batch_size']=64\n",
        "args['epochs']=4  #The number of Epochs is the number of times you go through the full dataset.\n",
        "args['lr']=0.05 #Learning rate is how fast it will decend.\n",
        "args['momentum']=0.5 #SGD momentum (default: 0.5) Momentum is a moving average of our gradients (helps to keep direction).\n",
        "\n",
        "args['seed']=1 #random seed\n",
        "args['log_interval']=10\n",
        "args['cuda']=True #if the computer has a GPU, type True, otherwise, False"
      ],
      "metadata": {
        "id": "Fp3VqwxU9teg"
      },
      "execution_count": 3,
      "outputs": []
    },
    {
      "cell_type": "markdown",
      "source": [
        "This code is adopted from the pytorch examples repository. It is licensed under BSD 3-Clause \"New\" or \"Revised\" License. Source: https://github.com/pytorch/examples/ LICENSE: https://github.com/pytorch/examples/blob/master/LICENSE"
      ],
      "metadata": {
        "id": "ys8268Yr6sAC"
      }
    },
    {
      "cell_type": "markdown",
      "metadata": {
        "id": "hhuQyU7AYE6K"
      },
      "source": [
        "## Load Dataset\n",
        "The first step before training the model is to import the data. We will use the [MNIST dataset](http://yann.lecun.com/exdb/mnist/) which is like the Hello World dataset of machine learning.\n",
        "\n",
        "Besides importing the data, we will also do a few more things:\n",
        "- We will tranform the data into tensors using the `transforms` module\n",
        "- We will use `DataLoader` to build convenient data loaders or what are referred to as iterators, which makes it easy to efficiently feed data in batches to deep learning models.\n",
        "- As hinted above, we will also create batches of the data by setting the `batch` parameter inside the data loader. Notice we use batches of `32` in this tutorial but you can change it to `64` if you like. I encourage you to experiment with different batches."
      ]
    },
    {
      "cell_type": "code",
      "metadata": {
        "id": "tSjjLXrOVWBy",
        "colab": {
          "base_uri": "https://localhost:8080/"
        },
        "outputId": "1541c6b5-abda-41b6-bf34-01b5443c664f"
      },
      "source": [
        "## transformations\n",
        "transform = transforms.Compose([\n",
        "                       transforms.ToTensor(),\n",
        "                       transforms.Normalize((0.1307,), (0.3081,))\n",
        "                   ])\n",
        "\n",
        "## download and load training dataset\n",
        "trainset = datasets.MNIST(root='../data', train=True, download=True, transform=transform)\n",
        "train_loader = torch.utils.data.DataLoader(trainset, batch_size=args['batch_size'], shuffle=True, **kwargs)\n",
        "\n",
        "## download and load testing dataset\n",
        "testset = torchvision.datasets.MNIST(root='./data', train=False, download=True, transform=transform)\n",
        "test_loader = torch.utils.data.DataLoader(testset, batch_size=args['test_batch_size'], shuffle=True, **kwargs)"
      ],
      "execution_count": 4,
      "outputs": [
        {
          "output_type": "stream",
          "name": "stdout",
          "text": [
            "Downloading http://yann.lecun.com/exdb/mnist/train-images-idx3-ubyte.gz\n",
            "Failed to download (trying next):\n",
            "<urlopen error [SSL: CERTIFICATE_VERIFY_FAILED] certificate verify failed: certificate has expired (_ssl.c:1007)>\n",
            "\n",
            "Downloading https://ossci-datasets.s3.amazonaws.com/mnist/train-images-idx3-ubyte.gz\n",
            "Downloading https://ossci-datasets.s3.amazonaws.com/mnist/train-images-idx3-ubyte.gz to ../data/MNIST/raw/train-images-idx3-ubyte.gz\n"
          ]
        },
        {
          "output_type": "stream",
          "name": "stderr",
          "text": [
            "100%|██████████| 9.91M/9.91M [00:00<00:00, 18.1MB/s]\n"
          ]
        },
        {
          "output_type": "stream",
          "name": "stdout",
          "text": [
            "Extracting ../data/MNIST/raw/train-images-idx3-ubyte.gz to ../data/MNIST/raw\n",
            "\n",
            "Downloading http://yann.lecun.com/exdb/mnist/train-labels-idx1-ubyte.gz\n",
            "Failed to download (trying next):\n",
            "<urlopen error [SSL: CERTIFICATE_VERIFY_FAILED] certificate verify failed: certificate has expired (_ssl.c:1007)>\n",
            "\n",
            "Downloading https://ossci-datasets.s3.amazonaws.com/mnist/train-labels-idx1-ubyte.gz\n",
            "Downloading https://ossci-datasets.s3.amazonaws.com/mnist/train-labels-idx1-ubyte.gz to ../data/MNIST/raw/train-labels-idx1-ubyte.gz\n"
          ]
        },
        {
          "output_type": "stream",
          "name": "stderr",
          "text": [
            "100%|██████████| 28.9k/28.9k [00:00<00:00, 497kB/s]\n"
          ]
        },
        {
          "output_type": "stream",
          "name": "stdout",
          "text": [
            "Extracting ../data/MNIST/raw/train-labels-idx1-ubyte.gz to ../data/MNIST/raw\n",
            "\n",
            "Downloading http://yann.lecun.com/exdb/mnist/t10k-images-idx3-ubyte.gz\n",
            "Failed to download (trying next):\n",
            "<urlopen error [SSL: CERTIFICATE_VERIFY_FAILED] certificate verify failed: certificate has expired (_ssl.c:1007)>\n",
            "\n",
            "Downloading https://ossci-datasets.s3.amazonaws.com/mnist/t10k-images-idx3-ubyte.gz\n",
            "Downloading https://ossci-datasets.s3.amazonaws.com/mnist/t10k-images-idx3-ubyte.gz to ../data/MNIST/raw/t10k-images-idx3-ubyte.gz\n"
          ]
        },
        {
          "output_type": "stream",
          "name": "stderr",
          "text": [
            "100%|██████████| 1.65M/1.65M [00:00<00:00, 4.54MB/s]\n"
          ]
        },
        {
          "output_type": "stream",
          "name": "stdout",
          "text": [
            "Extracting ../data/MNIST/raw/t10k-images-idx3-ubyte.gz to ../data/MNIST/raw\n",
            "\n",
            "Downloading http://yann.lecun.com/exdb/mnist/t10k-labels-idx1-ubyte.gz\n",
            "Failed to download (trying next):\n",
            "<urlopen error [SSL: CERTIFICATE_VERIFY_FAILED] certificate verify failed: certificate has expired (_ssl.c:1007)>\n",
            "\n",
            "Downloading https://ossci-datasets.s3.amazonaws.com/mnist/t10k-labels-idx1-ubyte.gz\n",
            "Downloading https://ossci-datasets.s3.amazonaws.com/mnist/t10k-labels-idx1-ubyte.gz to ../data/MNIST/raw/t10k-labels-idx1-ubyte.gz\n"
          ]
        },
        {
          "output_type": "stream",
          "name": "stderr",
          "text": [
            "100%|██████████| 4.54k/4.54k [00:00<00:00, 5.56MB/s]\n"
          ]
        },
        {
          "output_type": "stream",
          "name": "stdout",
          "text": [
            "Extracting ../data/MNIST/raw/t10k-labels-idx1-ubyte.gz to ../data/MNIST/raw\n",
            "\n",
            "Downloading http://yann.lecun.com/exdb/mnist/train-images-idx3-ubyte.gz\n",
            "Failed to download (trying next):\n",
            "<urlopen error [SSL: CERTIFICATE_VERIFY_FAILED] certificate verify failed: certificate has expired (_ssl.c:1007)>\n",
            "\n",
            "Downloading https://ossci-datasets.s3.amazonaws.com/mnist/train-images-idx3-ubyte.gz\n",
            "Downloading https://ossci-datasets.s3.amazonaws.com/mnist/train-images-idx3-ubyte.gz to ./data/MNIST/raw/train-images-idx3-ubyte.gz\n"
          ]
        },
        {
          "output_type": "stream",
          "name": "stderr",
          "text": [
            "100%|██████████| 9.91M/9.91M [00:00<00:00, 16.2MB/s]\n"
          ]
        },
        {
          "output_type": "stream",
          "name": "stdout",
          "text": [
            "Extracting ./data/MNIST/raw/train-images-idx3-ubyte.gz to ./data/MNIST/raw\n",
            "\n",
            "Downloading http://yann.lecun.com/exdb/mnist/train-labels-idx1-ubyte.gz\n",
            "Failed to download (trying next):\n",
            "<urlopen error [SSL: CERTIFICATE_VERIFY_FAILED] certificate verify failed: certificate has expired (_ssl.c:1007)>\n",
            "\n",
            "Downloading https://ossci-datasets.s3.amazonaws.com/mnist/train-labels-idx1-ubyte.gz\n",
            "Downloading https://ossci-datasets.s3.amazonaws.com/mnist/train-labels-idx1-ubyte.gz to ./data/MNIST/raw/train-labels-idx1-ubyte.gz\n"
          ]
        },
        {
          "output_type": "stream",
          "name": "stderr",
          "text": [
            "100%|██████████| 28.9k/28.9k [00:00<00:00, 498kB/s]\n"
          ]
        },
        {
          "output_type": "stream",
          "name": "stdout",
          "text": [
            "Extracting ./data/MNIST/raw/train-labels-idx1-ubyte.gz to ./data/MNIST/raw\n",
            "\n",
            "Downloading http://yann.lecun.com/exdb/mnist/t10k-images-idx3-ubyte.gz\n",
            "Failed to download (trying next):\n",
            "<urlopen error [SSL: CERTIFICATE_VERIFY_FAILED] certificate verify failed: certificate has expired (_ssl.c:1007)>\n",
            "\n",
            "Downloading https://ossci-datasets.s3.amazonaws.com/mnist/t10k-images-idx3-ubyte.gz\n",
            "Downloading https://ossci-datasets.s3.amazonaws.com/mnist/t10k-images-idx3-ubyte.gz to ./data/MNIST/raw/t10k-images-idx3-ubyte.gz\n"
          ]
        },
        {
          "output_type": "stream",
          "name": "stderr",
          "text": [
            "100%|██████████| 1.65M/1.65M [00:00<00:00, 4.54MB/s]\n"
          ]
        },
        {
          "output_type": "stream",
          "name": "stdout",
          "text": [
            "Extracting ./data/MNIST/raw/t10k-images-idx3-ubyte.gz to ./data/MNIST/raw\n",
            "\n",
            "Downloading http://yann.lecun.com/exdb/mnist/t10k-labels-idx1-ubyte.gz\n",
            "Failed to download (trying next):\n",
            "<urlopen error [SSL: CERTIFICATE_VERIFY_FAILED] certificate verify failed: certificate has expired (_ssl.c:1007)>\n",
            "\n",
            "Downloading https://ossci-datasets.s3.amazonaws.com/mnist/t10k-labels-idx1-ubyte.gz\n",
            "Downloading https://ossci-datasets.s3.amazonaws.com/mnist/t10k-labels-idx1-ubyte.gz to ./data/MNIST/raw/t10k-labels-idx1-ubyte.gz\n"
          ]
        },
        {
          "output_type": "stream",
          "name": "stderr",
          "text": [
            "100%|██████████| 4.54k/4.54k [00:00<00:00, 3.28MB/s]"
          ]
        },
        {
          "output_type": "stream",
          "name": "stdout",
          "text": [
            "Extracting ./data/MNIST/raw/t10k-labels-idx1-ubyte.gz to ./data/MNIST/raw\n",
            "\n"
          ]
        },
        {
          "output_type": "stream",
          "name": "stderr",
          "text": [
            "\n"
          ]
        }
      ]
    },
    {
      "cell_type": "markdown",
      "metadata": {
        "id": "0nZwZukWXUDn"
      },
      "source": [
        "## Exploring the Data\n",
        "As a practioner and researcher, I am always spending a bit of time and effort exploring and understanding the dataset. It's fun and this is a good practise to ensure that everything is in order."
      ]
    },
    {
      "cell_type": "markdown",
      "metadata": {
        "id": "NW_loWKga7CH"
      },
      "source": [
        "Let's check what the train and test dataset contains. I will use `matplotlib` to print out some of the images from our dataset."
      ]
    },
    {
      "cell_type": "code",
      "metadata": {
        "id": "zWd9Pt1Ca6K9",
        "colab": {
          "base_uri": "https://localhost:8080/",
          "height": 452
        },
        "outputId": "fd916c35-1b00-43b5-b971-db2fd980773e"
      },
      "source": [
        "import matplotlib.pyplot as plt\n",
        "import numpy as np\n",
        "\n",
        "## functions to show an image\n",
        "def imshow(img):\n",
        "    #img = img / 2 + 0.5     # unnormalize\n",
        "    npimg = img.numpy()\n",
        "    plt.imshow(np.transpose(npimg, (1, 2, 0)))\n",
        "\n",
        "## get some random training images\n",
        "dataiter = iter(train_loader)\n",
        "images, labels = next(dataiter)\n",
        "\n",
        "## show images\n",
        "imshow(torchvision.utils.make_grid(images))"
      ],
      "execution_count": 5,
      "outputs": [
        {
          "output_type": "stream",
          "name": "stderr",
          "text": [
            "WARNING:matplotlib.image:Clipping input data to the valid range for imshow with RGB data ([0..1] for floats or [0..255] for integers).\n"
          ]
        },
        {
          "output_type": "display_data",
          "data": {
            "text/plain": [
              "<Figure size 640x480 with 1 Axes>"
            ],
            "image/png": "[encoded data removed]"
          },
          "metadata": {}
        }
      ]
    },
    {
      "cell_type": "markdown",
      "metadata": {
        "id": "d9mXAVmRvhrq"
      },
      "source": [
        "Let's check the dimensions of a batch."
      ]
    },
    {
      "cell_type": "code",
      "metadata": {
        "id": "cNFKWz1GZ4R5",
        "colab": {
          "base_uri": "https://localhost:8080/"
        },
        "outputId": "c2c40115-7700-44de-fcca-fe22b25e22e1"
      },
      "source": [
        "for images, labels in train_loader:\n",
        "    print(\"Image batch dimensions:\", images.shape)\n",
        "    print(\"Image label dimensions:\", labels.shape)\n",
        "    break"
      ],
      "execution_count": 6,
      "outputs": [
        {
          "output_type": "stream",
          "name": "stdout",
          "text": [
            "Image batch dimensions: torch.Size([64, 1, 28, 28])\n",
            "Image label dimensions: torch.Size([64])\n"
          ]
        }
      ]
    },
    {
      "cell_type": "markdown",
      "metadata": {
        "id": "tmaCTw5tXowR"
      },
      "source": [
        "## The Model\n",
        "We provide two fully-connected neural net as the initial architecture.\n",
        "\n",
        "Here are a few notes for those who are beginning with PyTorch:\n",
        "- The model below consists of an `__init__()` portion which is where you include the layers and components of the neural network. In our model, we have two fully-connected netork network. We are dealing with an image dataset that is in a grayscale so we only need one channel going in, hence `in_channels=1`.\n",
        "\n",
        "- After the first layer, we also apply an activation function such as `ReLU`. For prediction purposes, we then apply a `softmax` layer to the last transformation and return the output of that.  "
      ]
    },
    {
      "cell_type": "code",
      "metadata": {
        "id": "_IYnV4ZBa3cJ"
      },
      "source": [
        "class Net(nn.Module):\n",
        "    #This defines the structure of the NN.\n",
        "    def __init__(self):\n",
        "        super(Net, self).__init__()\n",
        "        self.conv1 = nn.Conv2d(1, 25, 3) #1x28x28 --> 25x26x26\n",
        "        self.pool = nn.MaxPool2d(2, 2) #25x26x26 --> 25x13x13\n",
        "        self.conv2 = nn.Conv2d(25, 50, 3) #25x13x13 --> 50x11x11\n",
        "        self.pool2 = nn.MaxPool2d(2, 2) #50x11x11 --> 50x5x5\n",
        "        self.fc1 = nn.Linear(50 * 5 * 5, 256)\n",
        "        self.fc2 = nn.Linear(256, 10)\n",
        "\n",
        "    def forward(self, x):\n",
        "        x = torch.sigmoid(self.conv1(x))\n",
        "        x = self.pool(x)\n",
        "        x = torch.sigmoid(self.conv2(x))\n",
        "        x = self.pool2(x)\n",
        "        x=x.view(-1, 50 * 5 * 5)\n",
        "        x = torch.sigmoid(self.fc1(x))\n",
        "        x = self.fc2(x)\n",
        "        #Softmax gets probabilities.\n",
        "        return F.log_softmax(x, dim=1)\n"
      ],
      "execution_count": 19,
      "outputs": []
    },
    {
      "cell_type": "markdown",
      "source": [
        "**Now, add one CNN layer with a pooling to the above neural network and rerun the code to see whether you get higher prediction accuracy on the test set.**\n",
        "\n",
        "For example, you may try `out_channels=32`. Kernel size is 5, and for the rest of parameters we use the default values which you can find [here](https://pytorch.org/docs/stable/nn.html?highlight=conv2d#conv2d).\n",
        "\n",
        "- In short, the convolutional layer transforms the input data into a specific dimension that has to be considered in the linear layer.\n",
        "\n",
        "Make sure your flatten the output of CNN layer excluding # of batch so that the input of each example/batch has the same size of the first neural net.\n",
        "\n",
        "Tips: You can use x.view(-1, # of input size of the first fully-connected layer) or you can use torch.flatten(x, 1)."
      ],
      "metadata": {
        "id": "ZqgR0prhZD3z"
      }
    },
    {
      "cell_type": "markdown",
      "metadata": {
        "id": "evsFbkq_X6bc"
      },
      "source": [
        "I always encourage to test the model with 1 batch to ensure that the output dimensions are what we expect."
      ]
    },
    {
      "cell_type": "code",
      "source": [],
      "metadata": {
        "id": "tRkFvePEZCHd"
      },
      "execution_count": 19,
      "outputs": []
    },
    {
      "cell_type": "code",
      "metadata": {
        "id": "1poxFYqftKov",
        "colab": {
          "base_uri": "https://localhost:8080/"
        },
        "outputId": "b8297298-010f-494f-e8cb-cfa5f8ebcea4"
      },
      "source": [
        "## test the model with 1 batch\n",
        "model = Net()\n",
        "#print(model)\n",
        "for images, labels in train_loader:\n",
        "    print(\"batch size:\", args['batch_size'])\n",
        "    out = model(images)\n",
        "    print(out.shape)\n",
        "    break"
      ],
      "execution_count": 20,
      "outputs": [
        {
          "output_type": "stream",
          "name": "stdout",
          "text": [
            "batch size: 64\n",
            "torch.Size([64, 10])\n"
          ]
        }
      ]
    },
    {
      "cell_type": "markdown",
      "metadata": {
        "id": "9h_3eZQRHV_P"
      },
      "source": [
        "## Training the Model\n",
        "Now we are ready to train the model."
      ]
    },
    {
      "cell_type": "code",
      "metadata": {
        "id": "E59hwZlAIVcL"
      },
      "source": [
        "def train(epoch):\n",
        "    model.train()\n",
        "    for batch_idx, (data, target) in enumerate(train_loader):\n",
        "        if args['cuda']:\n",
        "            data, target = data.cuda(), target.cuda()\n",
        "        #Variables in Pytorch are differenciable.\n",
        "        data, target = Variable(data), Variable(target)\n",
        "        #This will zero out the gradients for this batch.\n",
        "        optimizer.zero_grad()\n",
        "        output = model(data)\n",
        "        # Calculate the loss The negative log likelihood loss. It is useful to train a classification problem with C classes.\n",
        "        loss = F.nll_loss(output, target)\n",
        "        #dloss/dx for every Variable\n",
        "        loss.backward()\n",
        "        #to do a one-step update on our parameter.\n",
        "        optimizer.step()\n",
        "        #Print out the loss periodically.\n",
        "        if batch_idx % args['log_interval'] == 0:\n",
        "            print('Train Epoch: {} [{}/{} ({:.0f}%)]\\tLoss: {:.6f}'.format(\n",
        "                epoch, batch_idx * len(data), len(train_loader.dataset),\n",
        "                100. * batch_idx / len(train_loader), loss.data.item()))"
      ],
      "execution_count": 21,
      "outputs": []
    },
    {
      "cell_type": "code",
      "source": [
        "def test():\n",
        "    model.eval()\n",
        "    test_loss = 0\n",
        "    correct = 0\n",
        "\n",
        "    with torch.no_grad():\n",
        "      for data, target in test_loader:\n",
        "          if args['cuda']:\n",
        "              data, target = data.cuda(), target.cuda()\n",
        "          data, target = Variable(data), Variable(target)\n",
        "          output = model(data)\n",
        "          test_loss += F.nll_loss(output, target, size_average=False).data.item() # sum up batch loss\n",
        "          pred = output.data.max(1, keepdim=True)[1] # get the index of the max log-probability\n",
        "          correct += pred.eq(target.data.view_as(pred)).long().cpu().sum()\n",
        "\n",
        "    test_loss /= len(test_loader.dataset)\n",
        "    print('\\nTest set: Average loss: {:.4f}, Accuracy: {}/{} ({:.0f}%)\\n'.format(\n",
        "        test_loss, correct, len(test_loader.dataset),\n",
        "        100. * correct / len(test_loader.dataset)))"
      ],
      "metadata": {
        "id": "dmoO9DlN_Ir6"
      },
      "execution_count": 22,
      "outputs": []
    },
    {
      "cell_type": "code",
      "source": [
        "model = Net()\n",
        "if args['cuda']:\n",
        "    model.cuda()\n",
        "\n",
        "optimizer = optim.SGD(model.parameters(), lr=args['lr'], momentum=args['momentum'])\n",
        "\n",
        "for epoch in range(1, args['epochs'] + 1):\n",
        "    train(epoch)\n",
        "    test()"
      ],
      "metadata": {
        "id": "PQcWwu_A_2gx",
        "colab": {
          "base_uri": "https://localhost:8080/"
        },
        "outputId": "08e26369-283c-43cc-f475-aaebae574262"
      },
      "execution_count": 23,
      "outputs": [
        {
          "output_type": "stream",
          "name": "stdout",
          "text": [
            "Train Epoch: 1 [0/60000 (0%)]\tLoss: 2.332230\n",
            "Train Epoch: 1 [640/60000 (1%)]\tLoss: 2.352387\n",
            "Train Epoch: 1 [1280/60000 (2%)]\tLoss: 2.342764\n",
            "Train Epoch: 1 [1920/60000 (3%)]\tLoss: 2.338468\n",
            "Train Epoch: 1 [2560/60000 (4%)]\tLoss: 2.332134\n",
            "Train Epoch: 1 [3200/60000 (5%)]\tLoss: 2.359130\n",
            "Train Epoch: 1 [3840/60000 (6%)]\tLoss: 2.319621\n",
            "Train Epoch: 1 [4480/60000 (7%)]\tLoss: 2.290757\n",
            "Train Epoch: 1 [5120/60000 (9%)]\tLoss: 2.324882\n",
            "Train Epoch: 1 [5760/60000 (10%)]\tLoss: 2.352702\n",
            "Train Epoch: 1 [6400/60000 (11%)]\tLoss: 2.276189\n",
            "Train Epoch: 1 [7040/60000 (12%)]\tLoss: 2.386851\n",
            "Train Epoch: 1 [7680/60000 (13%)]\tLoss: 2.337225\n",
            "Train Epoch: 1 [8320/60000 (14%)]\tLoss: 2.343331\n",
            "Train Epoch: 1 [8960/60000 (15%)]\tLoss: 2.326425\n",
            "Train Epoch: 1 [9600/60000 (16%)]\tLoss: 2.293749\n",
            "Train Epoch: 1 [10240/60000 (17%)]\tLoss: 2.351182\n",
            "Train Epoch: 1 [10880/60000 (18%)]\tLoss: 2.300830\n",
            "Train Epoch: 1 [11520/60000 (19%)]\tLoss: 2.315797\n",
            "Train Epoch: 1 [12160/60000 (20%)]\tLoss: 2.313698\n",
            "Train Epoch: 1 [12800/60000 (21%)]\tLoss: 2.295173\n",
            "Train Epoch: 1 [13440/60000 (22%)]\tLoss: 2.297009\n",
            "Train Epoch: 1 [14080/60000 (23%)]\tLoss: 2.311767\n",
            "Train Epoch: 1 [14720/60000 (25%)]\tLoss: 2.331637\n",
            "Train Epoch: 1 [15360/60000 (26%)]\tLoss: 2.300806\n",
            "Train Epoch: 1 [16000/60000 (27%)]\tLoss: 2.324141\n",
            "Train Epoch: 1 [16640/60000 (28%)]\tLoss: 2.296863\n",
            "Train Epoch: 1 [17280/60000 (29%)]\tLoss: 2.308341\n",
            "Train Epoch: 1 [17920/60000 (30%)]\tLoss: 2.342911\n",
            "Train Epoch: 1 [18560/60000 (31%)]\tLoss: 2.285388\n",
            "Train Epoch: 1 [19200/60000 (32%)]\tLoss: 2.307969\n",
            "Train Epoch: 1 [19840/60000 (33%)]\tLoss: 2.313121\n",
            "Train Epoch: 1 [20480/60000 (34%)]\tLoss: 2.311303\n",
            "Train Epoch: 1 [21120/60000 (35%)]\tLoss: 2.306007\n",
            "Train Epoch: 1 [21760/60000 (36%)]\tLoss: 2.309441\n",
            "Train Epoch: 1 [22400/60000 (37%)]\tLoss: 2.271508\n",
            "Train Epoch: 1 [23040/60000 (38%)]\tLoss: 2.298423\n",
            "Train Epoch: 1 [23680/60000 (39%)]\tLoss: 2.298779\n",
            "Train Epoch: 1 [24320/60000 (41%)]\tLoss: 2.287183\n",
            "Train Epoch: 1 [24960/60000 (42%)]\tLoss: 2.280919\n",
            "Train Epoch: 1 [25600/60000 (43%)]\tLoss: 2.290869\n",
            "Train Epoch: 1 [26240/60000 (44%)]\tLoss: 2.275599\n",
            "Train Epoch: 1 [26880/60000 (45%)]\tLoss: 2.309617\n",
            "Train Epoch: 1 [27520/60000 (46%)]\tLoss: 2.292376\n",
            "Train Epoch: 1 [28160/60000 (47%)]\tLoss: 2.255226\n",
            "Train Epoch: 1 [28800/60000 (48%)]\tLoss: 2.289767\n",
            "Train Epoch: 1 [29440/60000 (49%)]\tLoss: 2.302547\n",
            "Train Epoch: 1 [30080/60000 (50%)]\tLoss: 2.280344\n",
            "Train Epoch: 1 [30720/60000 (51%)]\tLoss: 2.303531\n",
            "Train Epoch: 1 [31360/60000 (52%)]\tLoss: 2.261724\n",
            "Train Epoch: 1 [32000/60000 (53%)]\tLoss: 2.225095\n",
            "Train Epoch: 1 [32640/60000 (54%)]\tLoss: 2.256950\n",
            "Train Epoch: 1 [33280/60000 (55%)]\tLoss: 2.246627\n",
            "Train Epoch: 1 [33920/60000 (57%)]\tLoss: 2.209347\n",
            "Train Epoch: 1 [34560/60000 (58%)]\tLoss: 2.223056\n",
            "Train Epoch: 1 [35200/60000 (59%)]\tLoss: 2.181377\n",
            "Train Epoch: 1 [35840/60000 (60%)]\tLoss: 2.247922\n",
            "Train Epoch: 1 [36480/60000 (61%)]\tLoss: 2.178880\n",
            "Train Epoch: 1 [37120/60000 (62%)]\tLoss: 2.149047\n",
            "Train Epoch: 1 [37760/60000 (63%)]\tLoss: 2.188838\n",
            "Train Epoch: 1 [38400/60000 (64%)]\tLoss: 2.194324\n",
            "Train Epoch: 1 [39040/60000 (65%)]\tLoss: 2.088721\n",
            "Train Epoch: 1 [39680/60000 (66%)]\tLoss: 2.079343\n",
            "Train Epoch: 1 [40320/60000 (67%)]\tLoss: 2.054615\n",
            "Train Epoch: 1 [40960/60000 (68%)]\tLoss: 2.035154\n",
            "Train Epoch: 1 [41600/60000 (69%)]\tLoss: 1.929430\n",
            "Train Epoch: 1 [42240/60000 (70%)]\tLoss: 1.851631\n",
            "Train Epoch: 1 [42880/60000 (71%)]\tLoss: 1.866700\n",
            "Train Epoch: 1 [43520/60000 (72%)]\tLoss: 1.758733\n",
            "Train Epoch: 1 [44160/60000 (74%)]\tLoss: 1.665303\n",
            "Train Epoch: 1 [44800/60000 (75%)]\tLoss: 1.621050\n",
            "Train Epoch: 1 [45440/60000 (76%)]\tLoss: 1.552273\n",
            "Train Epoch: 1 [46080/60000 (77%)]\tLoss: 1.608064\n",
            "Train Epoch: 1 [46720/60000 (78%)]\tLoss: 1.549726\n",
            "Train Epoch: 1 [47360/60000 (79%)]\tLoss: 1.547374\n",
            "Train Epoch: 1 [48000/60000 (80%)]\tLoss: 1.350143\n",
            "Train Epoch: 1 [48640/60000 (81%)]\tLoss: 1.156138\n",
            "Train Epoch: 1 [49280/60000 (82%)]\tLoss: 1.156462\n",
            "Train Epoch: 1 [49920/60000 (83%)]\tLoss: 1.169414\n",
            "Train Epoch: 1 [50560/60000 (84%)]\tLoss: 1.125407\n",
            "Train Epoch: 1 [51200/60000 (85%)]\tLoss: 1.091189\n",
            "Train Epoch: 1 [51840/60000 (86%)]\tLoss: 1.092833\n",
            "Train Epoch: 1 [52480/60000 (87%)]\tLoss: 1.079199\n",
            "Train Epoch: 1 [53120/60000 (88%)]\tLoss: 0.860125\n",
            "Train Epoch: 1 [53760/60000 (90%)]\tLoss: 1.035424\n",
            "Train Epoch: 1 [54400/60000 (91%)]\tLoss: 0.810780\n",
            "Train Epoch: 1 [55040/60000 (92%)]\tLoss: 0.957001\n",
            "Train Epoch: 1 [55680/60000 (93%)]\tLoss: 0.854181\n",
            "Train Epoch: 1 [56320/60000 (94%)]\tLoss: 0.763941\n",
            "Train Epoch: 1 [56960/60000 (95%)]\tLoss: 0.872387\n",
            "Train Epoch: 1 [57600/60000 (96%)]\tLoss: 0.657904\n",
            "Train Epoch: 1 [58240/60000 (97%)]\tLoss: 0.680844\n",
            "Train Epoch: 1 [58880/60000 (98%)]\tLoss: 0.694343\n",
            "Train Epoch: 1 [59520/60000 (99%)]\tLoss: 0.621928\n"
          ]
        },
        {
          "output_type": "stream",
          "name": "stderr",
          "text": [
            "/usr/local/lib/python3.10/dist-packages/torch/nn/_reduction.py:51: UserWarning: size_average and reduce args will be deprecated, please use reduction='sum' instead.\n",
            "  warnings.warn(warning.format(ret))\n"
          ]
        },
        {
          "output_type": "stream",
          "name": "stdout",
          "text": [
            "\n",
            "Test set: Average loss: 0.7022, Accuracy: 8153/10000 (82%)\n",
            "\n",
            "Train Epoch: 2 [0/60000 (0%)]\tLoss: 0.494192\n",
            "Train Epoch: 2 [640/60000 (1%)]\tLoss: 0.764001\n",
            "Train Epoch: 2 [1280/60000 (2%)]\tLoss: 0.655934\n",
            "Train Epoch: 2 [1920/60000 (3%)]\tLoss: 0.667587\n",
            "Train Epoch: 2 [2560/60000 (4%)]\tLoss: 0.751194\n",
            "Train Epoch: 2 [3200/60000 (5%)]\tLoss: 0.650824\n",
            "Train Epoch: 2 [3840/60000 (6%)]\tLoss: 0.795617\n",
            "Train Epoch: 2 [4480/60000 (7%)]\tLoss: 0.591310\n",
            "Train Epoch: 2 [5120/60000 (9%)]\tLoss: 0.471134\n",
            "Train Epoch: 2 [5760/60000 (10%)]\tLoss: 0.598798\n",
            "Train Epoch: 2 [6400/60000 (11%)]\tLoss: 0.602898\n",
            "Train Epoch: 2 [7040/60000 (12%)]\tLoss: 0.570648\n",
            "Train Epoch: 2 [7680/60000 (13%)]\tLoss: 0.454899\n",
            "Train Epoch: 2 [8320/60000 (14%)]\tLoss: 0.595283\n",
            "Train Epoch: 2 [8960/60000 (15%)]\tLoss: 0.506879\n",
            "Train Epoch: 2 [9600/60000 (16%)]\tLoss: 0.526152\n",
            "Train Epoch: 2 [10240/60000 (17%)]\tLoss: 0.617483\n",
            "Train Epoch: 2 [10880/60000 (18%)]\tLoss: 0.751370\n",
            "Train Epoch: 2 [11520/60000 (19%)]\tLoss: 0.415236\n",
            "Train Epoch: 2 [12160/60000 (20%)]\tLoss: 0.481506\n",
            "Train Epoch: 2 [12800/60000 (21%)]\tLoss: 0.328401\n",
            "Train Epoch: 2 [13440/60000 (22%)]\tLoss: 0.657285\n",
            "Train Epoch: 2 [14080/60000 (23%)]\tLoss: 0.525117\n",
            "Train Epoch: 2 [14720/60000 (25%)]\tLoss: 0.386611\n",
            "Train Epoch: 2 [15360/60000 (26%)]\tLoss: 0.513573\n",
            "Train Epoch: 2 [16000/60000 (27%)]\tLoss: 0.480249\n",
            "Train Epoch: 2 [16640/60000 (28%)]\tLoss: 0.653221\n",
            "Train Epoch: 2 [17280/60000 (29%)]\tLoss: 0.501596\n",
            "Train Epoch: 2 [17920/60000 (30%)]\tLoss: 0.479965\n",
            "Train Epoch: 2 [18560/60000 (31%)]\tLoss: 0.440581\n",
            "Train Epoch: 2 [19200/60000 (32%)]\tLoss: 0.606562\n",
            "Train Epoch: 2 [19840/60000 (33%)]\tLoss: 0.648977\n",
            "Train Epoch: 2 [20480/60000 (34%)]\tLoss: 0.649374\n",
            "Train Epoch: 2 [21120/60000 (35%)]\tLoss: 0.474709\n",
            "Train Epoch: 2 [21760/60000 (36%)]\tLoss: 0.538621\n",
            "Train Epoch: 2 [22400/60000 (37%)]\tLoss: 0.304989\n",
            "Train Epoch: 2 [23040/60000 (38%)]\tLoss: 0.490387\n",
            "Train Epoch: 2 [23680/60000 (39%)]\tLoss: 0.355810\n",
            "Train Epoch: 2 [24320/60000 (41%)]\tLoss: 0.483954\n",
            "Train Epoch: 2 [24960/60000 (42%)]\tLoss: 0.484634\n",
            "Train Epoch: 2 [25600/60000 (43%)]\tLoss: 0.304059\n",
            "Train Epoch: 2 [26240/60000 (44%)]\tLoss: 0.411641\n",
            "Train Epoch: 2 [26880/60000 (45%)]\tLoss: 0.377669\n",
            "Train Epoch: 2 [27520/60000 (46%)]\tLoss: 0.305102\n",
            "Train Epoch: 2 [28160/60000 (47%)]\tLoss: 0.489859\n",
            "Train Epoch: 2 [28800/60000 (48%)]\tLoss: 0.535213\n",
            "Train Epoch: 2 [29440/60000 (49%)]\tLoss: 0.521576\n",
            "Train Epoch: 2 [30080/60000 (50%)]\tLoss: 0.499386\n",
            "Train Epoch: 2 [30720/60000 (51%)]\tLoss: 0.374378\n",
            "Train Epoch: 2 [31360/60000 (52%)]\tLoss: 0.477395\n",
            "Train Epoch: 2 [32000/60000 (53%)]\tLoss: 0.463177\n",
            "Train Epoch: 2 [32640/60000 (54%)]\tLoss: 0.351658\n",
            "Train Epoch: 2 [33280/60000 (55%)]\tLoss: 0.314213\n",
            "Train Epoch: 2 [33920/60000 (57%)]\tLoss: 0.429757\n",
            "Train Epoch: 2 [34560/60000 (58%)]\tLoss: 0.290076\n",
            "Train Epoch: 2 [35200/60000 (59%)]\tLoss: 0.228993\n",
            "Train Epoch: 2 [35840/60000 (60%)]\tLoss: 0.350441\n",
            "Train Epoch: 2 [36480/60000 (61%)]\tLoss: 0.320845\n",
            "Train Epoch: 2 [37120/60000 (62%)]\tLoss: 0.368131\n",
            "Train Epoch: 2 [37760/60000 (63%)]\tLoss: 0.501614\n",
            "Train Epoch: 2 [38400/60000 (64%)]\tLoss: 0.336266\n",
            "Train Epoch: 2 [39040/60000 (65%)]\tLoss: 0.418628\n",
            "Train Epoch: 2 [39680/60000 (66%)]\tLoss: 0.290010\n",
            "Train Epoch: 2 [40320/60000 (67%)]\tLoss: 0.355260\n",
            "Train Epoch: 2 [40960/60000 (68%)]\tLoss: 0.232119\n",
            "Train Epoch: 2 [41600/60000 (69%)]\tLoss: 0.343380\n",
            "Train Epoch: 2 [42240/60000 (70%)]\tLoss: 0.389040\n",
            "Train Epoch: 2 [42880/60000 (71%)]\tLoss: 0.323137\n",
            "Train Epoch: 2 [43520/60000 (72%)]\tLoss: 0.532906\n",
            "Train Epoch: 2 [44160/60000 (74%)]\tLoss: 0.436272\n",
            "Train Epoch: 2 [44800/60000 (75%)]\tLoss: 0.234009\n",
            "Train Epoch: 2 [45440/60000 (76%)]\tLoss: 0.394107\n",
            "Train Epoch: 2 [46080/60000 (77%)]\tLoss: 0.604615\n",
            "Train Epoch: 2 [46720/60000 (78%)]\tLoss: 0.431147\n",
            "Train Epoch: 2 [47360/60000 (79%)]\tLoss: 0.198168\n",
            "Train Epoch: 2 [48000/60000 (80%)]\tLoss: 0.284399\n",
            "Train Epoch: 2 [48640/60000 (81%)]\tLoss: 0.353139\n",
            "Train Epoch: 2 [49280/60000 (82%)]\tLoss: 0.271470\n",
            "Train Epoch: 2 [49920/60000 (83%)]\tLoss: 0.290096\n",
            "Train Epoch: 2 [50560/60000 (84%)]\tLoss: 0.314760\n",
            "Train Epoch: 2 [51200/60000 (85%)]\tLoss: 0.274265\n",
            "Train Epoch: 2 [51840/60000 (86%)]\tLoss: 0.344802\n",
            "Train Epoch: 2 [52480/60000 (87%)]\tLoss: 0.239162\n",
            "Train Epoch: 2 [53120/60000 (88%)]\tLoss: 0.192588\n",
            "Train Epoch: 2 [53760/60000 (90%)]\tLoss: 0.363078\n",
            "Train Epoch: 2 [54400/60000 (91%)]\tLoss: 0.276033\n",
            "Train Epoch: 2 [55040/60000 (92%)]\tLoss: 0.621188\n",
            "Train Epoch: 2 [55680/60000 (93%)]\tLoss: 0.279180\n",
            "Train Epoch: 2 [56320/60000 (94%)]\tLoss: 0.229296\n",
            "Train Epoch: 2 [56960/60000 (95%)]\tLoss: 0.218346\n",
            "Train Epoch: 2 [57600/60000 (96%)]\tLoss: 0.424132\n",
            "Train Epoch: 2 [58240/60000 (97%)]\tLoss: 0.250287\n",
            "Train Epoch: 2 [58880/60000 (98%)]\tLoss: 0.465497\n",
            "Train Epoch: 2 [59520/60000 (99%)]\tLoss: 0.412571\n",
            "\n",
            "Test set: Average loss: 0.3086, Accuracy: 9076/10000 (91%)\n",
            "\n",
            "Train Epoch: 3 [0/60000 (0%)]\tLoss: 0.354615\n",
            "Train Epoch: 3 [640/60000 (1%)]\tLoss: 0.190949\n",
            "Train Epoch: 3 [1280/60000 (2%)]\tLoss: 0.385055\n",
            "Train Epoch: 3 [1920/60000 (3%)]\tLoss: 0.313387\n",
            "Train Epoch: 3 [2560/60000 (4%)]\tLoss: 0.410878\n",
            "Train Epoch: 3 [3200/60000 (5%)]\tLoss: 0.264734\n",
            "Train Epoch: 3 [3840/60000 (6%)]\tLoss: 0.291029\n",
            "Train Epoch: 3 [4480/60000 (7%)]\tLoss: 0.285469\n",
            "Train Epoch: 3 [5120/60000 (9%)]\tLoss: 0.193329\n",
            "Train Epoch: 3 [5760/60000 (10%)]\tLoss: 0.478281\n",
            "Train Epoch: 3 [6400/60000 (11%)]\tLoss: 0.343109\n",
            "Train Epoch: 3 [7040/60000 (12%)]\tLoss: 0.232239\n",
            "Train Epoch: 3 [7680/60000 (13%)]\tLoss: 0.413986\n",
            "Train Epoch: 3 [8320/60000 (14%)]\tLoss: 0.482095\n",
            "Train Epoch: 3 [8960/60000 (15%)]\tLoss: 0.389761\n",
            "Train Epoch: 3 [9600/60000 (16%)]\tLoss: 0.270679\n",
            "Train Epoch: 3 [10240/60000 (17%)]\tLoss: 0.199610\n",
            "Train Epoch: 3 [10880/60000 (18%)]\tLoss: 0.228918\n",
            "Train Epoch: 3 [11520/60000 (19%)]\tLoss: 0.334206\n",
            "Train Epoch: 3 [12160/60000 (20%)]\tLoss: 0.221988\n",
            "Train Epoch: 3 [12800/60000 (21%)]\tLoss: 0.242505\n",
            "Train Epoch: 3 [13440/60000 (22%)]\tLoss: 0.438357\n",
            "Train Epoch: 3 [14080/60000 (23%)]\tLoss: 0.188189\n",
            "Train Epoch: 3 [14720/60000 (25%)]\tLoss: 0.287471\n",
            "Train Epoch: 3 [15360/60000 (26%)]\tLoss: 0.316520\n",
            "Train Epoch: 3 [16000/60000 (27%)]\tLoss: 0.210733\n",
            "Train Epoch: 3 [16640/60000 (28%)]\tLoss: 0.258165\n",
            "Train Epoch: 3 [17280/60000 (29%)]\tLoss: 0.263838\n",
            "Train Epoch: 3 [17920/60000 (30%)]\tLoss: 0.223845\n",
            "Train Epoch: 3 [18560/60000 (31%)]\tLoss: 0.304674\n",
            "Train Epoch: 3 [19200/60000 (32%)]\tLoss: 0.279813\n",
            "Train Epoch: 3 [19840/60000 (33%)]\tLoss: 0.150493\n",
            "Train Epoch: 3 [20480/60000 (34%)]\tLoss: 0.156870\n",
            "Train Epoch: 3 [21120/60000 (35%)]\tLoss: 0.350436\n",
            "Train Epoch: 3 [21760/60000 (36%)]\tLoss: 0.231927\n",
            "Train Epoch: 3 [22400/60000 (37%)]\tLoss: 0.235279\n",
            "Train Epoch: 3 [23040/60000 (38%)]\tLoss: 0.186618\n",
            "Train Epoch: 3 [23680/60000 (39%)]\tLoss: 0.143944\n",
            "Train Epoch: 3 [24320/60000 (41%)]\tLoss: 0.401361\n",
            "Train Epoch: 3 [24960/60000 (42%)]\tLoss: 0.189766\n",
            "Train Epoch: 3 [25600/60000 (43%)]\tLoss: 0.369728\n",
            "Train Epoch: 3 [26240/60000 (44%)]\tLoss: 0.274281\n",
            "Train Epoch: 3 [26880/60000 (45%)]\tLoss: 0.331496\n",
            "Train Epoch: 3 [27520/60000 (46%)]\tLoss: 0.174481\n",
            "Train Epoch: 3 [28160/60000 (47%)]\tLoss: 0.232057\n",
            "Train Epoch: 3 [28800/60000 (48%)]\tLoss: 0.389195\n",
            "Train Epoch: 3 [29440/60000 (49%)]\tLoss: 0.325367\n",
            "Train Epoch: 3 [30080/60000 (50%)]\tLoss: 0.239017\n",
            "Train Epoch: 3 [30720/60000 (51%)]\tLoss: 0.362060\n",
            "Train Epoch: 3 [31360/60000 (52%)]\tLoss: 0.058529\n",
            "Train Epoch: 3 [32000/60000 (53%)]\tLoss: 0.271151\n",
            "Train Epoch: 3 [32640/60000 (54%)]\tLoss: 0.384241\n",
            "Train Epoch: 3 [33280/60000 (55%)]\tLoss: 0.169696\n",
            "Train Epoch: 3 [33920/60000 (57%)]\tLoss: 0.179247\n",
            "Train Epoch: 3 [34560/60000 (58%)]\tLoss: 0.214773\n",
            "Train Epoch: 3 [35200/60000 (59%)]\tLoss: 0.359594\n",
            "Train Epoch: 3 [35840/60000 (60%)]\tLoss: 0.318743\n",
            "Train Epoch: 3 [36480/60000 (61%)]\tLoss: 0.271580\n",
            "Train Epoch: 3 [37120/60000 (62%)]\tLoss: 0.143940\n",
            "Train Epoch: 3 [37760/60000 (63%)]\tLoss: 0.193528\n",
            "Train Epoch: 3 [38400/60000 (64%)]\tLoss: 0.430972\n",
            "Train Epoch: 3 [39040/60000 (65%)]\tLoss: 0.392742\n",
            "Train Epoch: 3 [39680/60000 (66%)]\tLoss: 0.175794\n",
            "Train Epoch: 3 [40320/60000 (67%)]\tLoss: 0.205252\n",
            "Train Epoch: 3 [40960/60000 (68%)]\tLoss: 0.336336\n",
            "Train Epoch: 3 [41600/60000 (69%)]\tLoss: 0.247016\n",
            "Train Epoch: 3 [42240/60000 (70%)]\tLoss: 0.215112\n",
            "Train Epoch: 3 [42880/60000 (71%)]\tLoss: 0.102563\n",
            "Train Epoch: 3 [43520/60000 (72%)]\tLoss: 0.158100\n",
            "Train Epoch: 3 [44160/60000 (74%)]\tLoss: 0.221590\n",
            "Train Epoch: 3 [44800/60000 (75%)]\tLoss: 0.248087\n",
            "Train Epoch: 3 [45440/60000 (76%)]\tLoss: 0.167703\n",
            "Train Epoch: 3 [46080/60000 (77%)]\tLoss: 0.134652\n",
            "Train Epoch: 3 [46720/60000 (78%)]\tLoss: 0.293001\n",
            "Train Epoch: 3 [47360/60000 (79%)]\tLoss: 0.216865\n",
            "Train Epoch: 3 [48000/60000 (80%)]\tLoss: 0.346242\n",
            "Train Epoch: 3 [48640/60000 (81%)]\tLoss: 0.275104\n",
            "Train Epoch: 3 [49280/60000 (82%)]\tLoss: 0.186825\n",
            "Train Epoch: 3 [49920/60000 (83%)]\tLoss: 0.166554\n",
            "Train Epoch: 3 [50560/60000 (84%)]\tLoss: 0.239323\n",
            "Train Epoch: 3 [51200/60000 (85%)]\tLoss: 0.429958\n",
            "Train Epoch: 3 [51840/60000 (86%)]\tLoss: 0.355842\n",
            "Train Epoch: 3 [52480/60000 (87%)]\tLoss: 0.107791\n",
            "Train Epoch: 3 [53120/60000 (88%)]\tLoss: 0.185186\n",
            "Train Epoch: 3 [53760/60000 (90%)]\tLoss: 0.084798\n",
            "Train Epoch: 3 [54400/60000 (91%)]\tLoss: 0.170950\n",
            "Train Epoch: 3 [55040/60000 (92%)]\tLoss: 0.222297\n",
            "Train Epoch: 3 [55680/60000 (93%)]\tLoss: 0.169525\n",
            "Train Epoch: 3 [56320/60000 (94%)]\tLoss: 0.120478\n",
            "Train Epoch: 3 [56960/60000 (95%)]\tLoss: 0.114742\n",
            "Train Epoch: 3 [57600/60000 (96%)]\tLoss: 0.219660\n",
            "Train Epoch: 3 [58240/60000 (97%)]\tLoss: 0.368099\n",
            "Train Epoch: 3 [58880/60000 (98%)]\tLoss: 0.289273\n",
            "Train Epoch: 3 [59520/60000 (99%)]\tLoss: 0.230407\n",
            "\n",
            "Test set: Average loss: 0.2034, Accuracy: 9398/10000 (94%)\n",
            "\n",
            "Train Epoch: 4 [0/60000 (0%)]\tLoss: 0.256449\n",
            "Train Epoch: 4 [640/60000 (1%)]\tLoss: 0.184159\n",
            "Train Epoch: 4 [1280/60000 (2%)]\tLoss: 0.320094\n",
            "Train Epoch: 4 [1920/60000 (3%)]\tLoss: 0.189713\n",
            "Train Epoch: 4 [2560/60000 (4%)]\tLoss: 0.150297\n",
            "Train Epoch: 4 [3200/60000 (5%)]\tLoss: 0.308624\n",
            "Train Epoch: 4 [3840/60000 (6%)]\tLoss: 0.107102\n",
            "Train Epoch: 4 [4480/60000 (7%)]\tLoss: 0.241733\n",
            "Train Epoch: 4 [5120/60000 (9%)]\tLoss: 0.135457\n",
            "Train Epoch: 4 [5760/60000 (10%)]\tLoss: 0.274539\n",
            "Train Epoch: 4 [6400/60000 (11%)]\tLoss: 0.107145\n",
            "Train Epoch: 4 [7040/60000 (12%)]\tLoss: 0.231646\n",
            "Train Epoch: 4 [7680/60000 (13%)]\tLoss: 0.205268\n",
            "Train Epoch: 4 [8320/60000 (14%)]\tLoss: 0.232384\n",
            "Train Epoch: 4 [8960/60000 (15%)]\tLoss: 0.250552\n",
            "Train Epoch: 4 [9600/60000 (16%)]\tLoss: 0.154611\n",
            "Train Epoch: 4 [10240/60000 (17%)]\tLoss: 0.176995\n",
            "Train Epoch: 4 [10880/60000 (18%)]\tLoss: 0.175927\n",
            "Train Epoch: 4 [11520/60000 (19%)]\tLoss: 0.188530\n",
            "Train Epoch: 4 [12160/60000 (20%)]\tLoss: 0.299872\n",
            "Train Epoch: 4 [12800/60000 (21%)]\tLoss: 0.176632\n",
            "Train Epoch: 4 [13440/60000 (22%)]\tLoss: 0.307702\n",
            "Train Epoch: 4 [14080/60000 (23%)]\tLoss: 0.133435\n",
            "Train Epoch: 4 [14720/60000 (25%)]\tLoss: 0.128588\n",
            "Train Epoch: 4 [15360/60000 (26%)]\tLoss: 0.247655\n",
            "Train Epoch: 4 [16000/60000 (27%)]\tLoss: 0.141084\n",
            "Train Epoch: 4 [16640/60000 (28%)]\tLoss: 0.329082\n",
            "Train Epoch: 4 [17280/60000 (29%)]\tLoss: 0.227220\n",
            "Train Epoch: 4 [17920/60000 (30%)]\tLoss: 0.255661\n",
            "Train Epoch: 4 [18560/60000 (31%)]\tLoss: 0.205927\n",
            "Train Epoch: 4 [19200/60000 (32%)]\tLoss: 0.206763\n",
            "Train Epoch: 4 [19840/60000 (33%)]\tLoss: 0.126596\n",
            "Train Epoch: 4 [20480/60000 (34%)]\tLoss: 0.155611\n",
            "Train Epoch: 4 [21120/60000 (35%)]\tLoss: 0.115842\n",
            "Train Epoch: 4 [21760/60000 (36%)]\tLoss: 0.273673\n",
            "Train Epoch: 4 [22400/60000 (37%)]\tLoss: 0.111379\n",
            "Train Epoch: 4 [23040/60000 (38%)]\tLoss: 0.147606\n",
            "Train Epoch: 4 [23680/60000 (39%)]\tLoss: 0.163714\n",
            "Train Epoch: 4 [24320/60000 (41%)]\tLoss: 0.211615\n",
            "Train Epoch: 4 [24960/60000 (42%)]\tLoss: 0.089240\n",
            "Train Epoch: 4 [25600/60000 (43%)]\tLoss: 0.241407\n",
            "Train Epoch: 4 [26240/60000 (44%)]\tLoss: 0.107527\n",
            "Train Epoch: 4 [26880/60000 (45%)]\tLoss: 0.182496\n",
            "Train Epoch: 4 [27520/60000 (46%)]\tLoss: 0.165306\n",
            "Train Epoch: 4 [28160/60000 (47%)]\tLoss: 0.066749\n",
            "Train Epoch: 4 [28800/60000 (48%)]\tLoss: 0.140169\n",
            "Train Epoch: 4 [29440/60000 (49%)]\tLoss: 0.114101\n",
            "Train Epoch: 4 [30080/60000 (50%)]\tLoss: 0.123790\n",
            "Train Epoch: 4 [30720/60000 (51%)]\tLoss: 0.149026\n",
            "Train Epoch: 4 [31360/60000 (52%)]\tLoss: 0.131984\n",
            "Train Epoch: 4 [32000/60000 (53%)]\tLoss: 0.125516\n",
            "Train Epoch: 4 [32640/60000 (54%)]\tLoss: 0.333389\n",
            "Train Epoch: 4 [33280/60000 (55%)]\tLoss: 0.138131\n",
            "Train Epoch: 4 [33920/60000 (57%)]\tLoss: 0.156956\n",
            "Train Epoch: 4 [34560/60000 (58%)]\tLoss: 0.215980\n",
            "Train Epoch: 4 [35200/60000 (59%)]\tLoss: 0.216422\n",
            "Train Epoch: 4 [35840/60000 (60%)]\tLoss: 0.070920\n",
            "Train Epoch: 4 [36480/60000 (61%)]\tLoss: 0.107333\n",
            "Train Epoch: 4 [37120/60000 (62%)]\tLoss: 0.078312\n",
            "Train Epoch: 4 [37760/60000 (63%)]\tLoss: 0.141326\n",
            "Train Epoch: 4 [38400/60000 (64%)]\tLoss: 0.191572\n",
            "Train Epoch: 4 [39040/60000 (65%)]\tLoss: 0.194356\n",
            "Train Epoch: 4 [39680/60000 (66%)]\tLoss: 0.236260\n",
            "Train Epoch: 4 [40320/60000 (67%)]\tLoss: 0.093082\n",
            "Train Epoch: 4 [40960/60000 (68%)]\tLoss: 0.169967\n",
            "Train Epoch: 4 [41600/60000 (69%)]\tLoss: 0.205078\n",
            "Train Epoch: 4 [42240/60000 (70%)]\tLoss: 0.145077\n",
            "Train Epoch: 4 [42880/60000 (71%)]\tLoss: 0.146700\n",
            "Train Epoch: 4 [43520/60000 (72%)]\tLoss: 0.225965\n",
            "Train Epoch: 4 [44160/60000 (74%)]\tLoss: 0.267766\n",
            "Train Epoch: 4 [44800/60000 (75%)]\tLoss: 0.253699\n",
            "Train Epoch: 4 [45440/60000 (76%)]\tLoss: 0.097311\n",
            "Train Epoch: 4 [46080/60000 (77%)]\tLoss: 0.243509\n",
            "Train Epoch: 4 [46720/60000 (78%)]\tLoss: 0.106653\n",
            "Train Epoch: 4 [47360/60000 (79%)]\tLoss: 0.140863\n",
            "Train Epoch: 4 [48000/60000 (80%)]\tLoss: 0.123506\n",
            "Train Epoch: 4 [48640/60000 (81%)]\tLoss: 0.226273\n",
            "Train Epoch: 4 [49280/60000 (82%)]\tLoss: 0.157002\n",
            "Train Epoch: 4 [49920/60000 (83%)]\tLoss: 0.136526\n",
            "Train Epoch: 4 [50560/60000 (84%)]\tLoss: 0.113068\n",
            "Train Epoch: 4 [51200/60000 (85%)]\tLoss: 0.291818\n",
            "Train Epoch: 4 [51840/60000 (86%)]\tLoss: 0.151826\n",
            "Train Epoch: 4 [52480/60000 (87%)]\tLoss: 0.195532\n",
            "Train Epoch: 4 [53120/60000 (88%)]\tLoss: 0.113721\n",
            "Train Epoch: 4 [53760/60000 (90%)]\tLoss: 0.169511\n",
            "Train Epoch: 4 [54400/60000 (91%)]\tLoss: 0.261565\n",
            "Train Epoch: 4 [55040/60000 (92%)]\tLoss: 0.092936\n",
            "Train Epoch: 4 [55680/60000 (93%)]\tLoss: 0.136535\n",
            "Train Epoch: 4 [56320/60000 (94%)]\tLoss: 0.186073\n",
            "Train Epoch: 4 [56960/60000 (95%)]\tLoss: 0.088882\n",
            "Train Epoch: 4 [57600/60000 (96%)]\tLoss: 0.176351\n",
            "Train Epoch: 4 [58240/60000 (97%)]\tLoss: 0.106062\n",
            "Train Epoch: 4 [58880/60000 (98%)]\tLoss: 0.102101\n",
            "Train Epoch: 4 [59520/60000 (99%)]\tLoss: 0.244612\n",
            "\n",
            "Test set: Average loss: 0.1534, Accuracy: 9547/10000 (95%)\n",
            "\n"
          ]
        }
      ]
    },
    {
      "cell_type": "code",
      "source": [],
      "metadata": {
        "id": "9m3--4A-nDL-"
      },
      "execution_count": null,
      "outputs": []
    }
  ]
}