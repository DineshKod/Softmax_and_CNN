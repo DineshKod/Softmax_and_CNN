{
  "nbformat": 4,
  "nbformat_minor": 0,
  "metadata": {
    "colab": {
      "provenance": [],
      "gpuType": "T4"
    },
    "kernelspec": {
      "name": "python3",
      "display_name": "Python 3"
    },
    "accelerator": "GPU"
  },
  "cells": [
    {
      "cell_type": "markdown",
      "metadata": {
        "id": "9XHd5ExbUIUg"
      },
      "source": [
        "# Pytorch with the MNIST Dataset - MINST"
      ]
    },
    {
      "cell_type": "markdown",
      "source": [],
      "metadata": {
        "id": "7nkkVZE6sZiG"
      }
    },
    {
      "cell_type": "code",
      "metadata": {
        "id": "Su0COdCqT2Wk"
      },
      "source": [
        "## import libraries\n",
        "from __future__ import print_function\n",
        "import argparse\n",
        "import torch\n",
        "import torch.nn as nn\n",
        "import torch.nn.functional as F\n",
        "import torchvision\n",
        "\n",
        "import torch.optim as optim\n",
        "from torchvision import datasets, transforms\n",
        "from torch.autograd import Variable"
      ],
      "execution_count": 12,
      "outputs": []
    },
    {
      "cell_type": "code",
      "metadata": {
        "id": "rXCYmmjyVRq5",
        "outputId": "70e8b776-5712-4380-9fb6-7d35acd551ed",
        "colab": {
          "base_uri": "https://localhost:8080/"
        }
      },
      "source": [
        "print(torch.__version__)"
      ],
      "execution_count": 13,
      "outputs": [
        {
          "output_type": "stream",
          "name": "stdout",
          "text": [
            "2.5.0+cu121\n"
          ]
        }
      ]
    },
    {
      "cell_type": "code",
      "source": [
        "args={}\n",
        "kwargs={}\n",
        "args['batch_size']=64\n",
        "args['test_batch_size']=64\n",
        "args['epochs']=4  #The number of Epochs is the number of times you go through the full dataset.\n",
        "args['lr']=0.01 #Learning rate is how fast it will decend.\n",
        "args['momentum']=0.5 #SGD momentum (default: 0.5) Momentum is a moving average of our gradients (helps to keep direction).\n",
        "\n",
        "args['seed']=1 #random seed\n",
        "args['log_interval']=10\n",
        "args['cuda']=True #if the computer has a GPU, type True, otherwise, False"
      ],
      "metadata": {
        "id": "Fp3VqwxU9teg"
      },
      "execution_count": 14,
      "outputs": []
    },
    {
      "cell_type": "markdown",
      "source": [
        "This code is adopted from the pytorch examples repository. It is licensed under BSD 3-Clause \"New\" or \"Revised\" License. Source: https://github.com/pytorch/examples/ LICENSE: https://github.com/pytorch/examples/blob/master/LICENSE"
      ],
      "metadata": {
        "id": "ys8268Yr6sAC"
      }
    },
    {
      "cell_type": "markdown",
      "metadata": {
        "id": "hhuQyU7AYE6K"
      },
      "source": [
        "## Load Dataset\n",
        "The first step before training the model is to import the data. We will use the [MNIST dataset](http://yann.lecun.com/exdb/mnist/) which is like the Hello World dataset of machine learning.\n",
        "\n",
        "Besides importing the data, we will also do a few more things:\n",
        "- We will tranform the data into tensors using the `transforms` module\n",
        "- We will use `DataLoader` to build convenient data loaders or what are referred to as iterators, which makes it easy to efficiently feed data in batches to deep learning models.\n",
        "- As hinted above, we will also create batches of the data by setting the `batch` parameter inside the data loader. Notice we use batches of `32` in this tutorial but you can change it to `64` if you like. I encourage you to experiment with different batches."
      ]
    },
    {
      "cell_type": "code",
      "metadata": {
        "id": "tSjjLXrOVWBy"
      },
      "source": [
        "## transformations\n",
        "transform = transforms.Compose([\n",
        "                       transforms.ToTensor(),\n",
        "                       transforms.Normalize((0.1307,), (0.3081,))\n",
        "                   ])\n",
        "\n",
        "## download and load training dataset\n",
        "trainset = datasets.MNIST(root='../data', train=True, download=True, transform=transform)\n",
        "train_loader = torch.utils.data.DataLoader(trainset, batch_size=args['batch_size'], shuffle=True, **kwargs)\n",
        "\n",
        "## download and load testing dataset\n",
        "testset = torchvision.datasets.MNIST(root='./data', train=False, download=True, transform=transform)\n",
        "test_loader = torch.utils.data.DataLoader(testset, batch_size=args['test_batch_size'], shuffle=True, **kwargs)"
      ],
      "execution_count": 15,
      "outputs": []
    },
    {
      "cell_type": "markdown",
      "metadata": {
        "id": "0nZwZukWXUDn"
      },
      "source": [
        "## Exploring the Data\n",
        "As a practioner and researcher, I am always spending a bit of time and effort exploring and understanding the dataset. It's fun and this is a good practise to ensure that everything is in order."
      ]
    },
    {
      "cell_type": "markdown",
      "metadata": {
        "id": "NW_loWKga7CH"
      },
      "source": [
        "Let's check what the train and test dataset contains. I will use `matplotlib` to print out some of the images from our dataset."
      ]
    },
    {
      "cell_type": "code",
      "metadata": {
        "id": "zWd9Pt1Ca6K9",
        "colab": {
          "base_uri": "https://localhost:8080/",
          "height": 452
        },
        "outputId": "d4b617b1-efab-4466-d139-8c77233580b6"
      },
      "source": [
        "import matplotlib.pyplot as plt\n",
        "import numpy as np\n",
        "\n",
        "## functions to show an image\n",
        "def imshow(img):\n",
        "    #img = img / 2 + 0.5     # unnormalize\n",
        "    npimg = img.numpy()\n",
        "    plt.imshow(np.transpose(npimg, (1, 2, 0)))\n",
        "\n",
        "## get some random training images\n",
        "dataiter = iter(train_loader)\n",
        "images, labels = next(dataiter)\n",
        "\n",
        "## show images\n",
        "imshow(torchvision.utils.make_grid(images))"
      ],
      "execution_count": 16,
      "outputs": [
        {
          "output_type": "stream",
          "name": "stderr",
          "text": [
            "WARNING:matplotlib.image:Clipping input data to the valid range for imshow with RGB data ([0..1] for floats or [0..255] for integers).\n"
          ]
        },
        {
          "output_type": "display_data",
          "data": {
            "text/plain": [
              "<Figure size 640x480 with 1 Axes>"
            ],
            "image/png": "[encoded data removed]"
          },
          "metadata": {}
        }
      ]
    },
    {
      "cell_type": "markdown",
      "metadata": {
        "id": "d9mXAVmRvhrq"
      },
      "source": [
        "Let's check the dimensions of a batch."
      ]
    },
    {
      "cell_type": "code",
      "metadata": {
        "id": "cNFKWz1GZ4R5",
        "colab": {
          "base_uri": "https://localhost:8080/"
        },
        "outputId": "44ec85a2-c356-4491-814c-05138bad83ff"
      },
      "source": [
        "for images, labels in train_loader:\n",
        "    print(\"Image batch dimensions:\", images.shape)\n",
        "    print(\"Image label dimensions:\", labels.shape)\n",
        "    break"
      ],
      "execution_count": 17,
      "outputs": [
        {
          "output_type": "stream",
          "name": "stdout",
          "text": [
            "Image batch dimensions: torch.Size([64, 1, 28, 28])\n",
            "Image label dimensions: torch.Size([64])\n"
          ]
        }
      ]
    },
    {
      "cell_type": "markdown",
      "metadata": {
        "id": "tmaCTw5tXowR"
      },
      "source": [
        "## The Model\n",
        "We provide two fully-connected neural net as the initial architecture.\n",
        "\n",
        "Here are a few notes for those who are beginning with PyTorch:\n",
        "- The model below consists of an `__init__()` portion which is where you include the layers and components of the neural network. In our model, we have two fully-connected netork network. We are dealing with an image dataset that is in a grayscale so we only need one channel going in, hence `in_channels=1`.\n",
        "\n",
        "- After the first layer, we also apply an activation function such as `ReLU`. For prediction purposes, we then apply a `softmax` layer to the last transformation and return the output of that.  "
      ]
    },
    {
      "cell_type": "code",
      "metadata": {
        "id": "_IYnV4ZBa3cJ"
      },
      "source": [
        "class Net(nn.Module):\n",
        "    #This defines the structure of the NN.\n",
        "    def __init__(self):\n",
        "        super(Net, self).__init__()\n",
        "        self.conv1 = nn.Conv2d(1, 25, 3) #1x28x28 --> 25x26x26\n",
        "        self.pool = nn.MaxPool2d(2, 2) #25x26x26 --> 25x13x13\n",
        "        self.fc1 = nn.Linear(25 * 13 * 13, 256)\n",
        "        self.fc2 = nn.Linear(256, 10)\n",
        "\n",
        "    def forward(self, x):\n",
        "        x = F.relu(self.conv1(x))\n",
        "        x = self.pool(x)\n",
        "        x=x.view(-1,25 * 13 * 13)\n",
        "        x = F.relu(self.fc1(x))\n",
        "        x = self.fc2(x)\n",
        "        #Softmax gets probabilities.\n",
        "        return F.log_softmax(x, dim=1)\n"
      ],
      "execution_count": 18,
      "outputs": []
    },
    {
      "cell_type": "markdown",
      "source": [
        "**Now, add one CNN layer with a pooling to the above neural network and rerun the code to see whether you get higher prediction accuracy on the test set.**\n",
        "\n",
        "For example, you may try `out_channels=32`. Kernel size is 5, and for the rest of parameters we use the default values which you can find [here](https://pytorch.org/docs/stable/nn.html?highlight=conv2d#conv2d).\n",
        "\n",
        "- In short, the convolutional layer transforms the input data into a specific dimension that has to be considered in the linear layer.\n",
        "\n",
        "Make sure your flatten the output of CNN layer excluding # of batch so that the input of each example/batch has the same size of the first neural net.\n",
        "\n",
        "Tips: You can use x.view(-1, # of input size of the first fully-connected layer) or you can use torch.flatten(x, 1)."
      ],
      "metadata": {
        "id": "ZqgR0prhZD3z"
      }
    },
    {
      "cell_type": "markdown",
      "metadata": {
        "id": "evsFbkq_X6bc"
      },
      "source": [
        "I always encourage to test the model with 1 batch to ensure that the output dimensions are what we expect."
      ]
    },
    {
      "cell_type": "code",
      "source": [],
      "metadata": {
        "id": "tRkFvePEZCHd"
      },
      "execution_count": 18,
      "outputs": []
    },
    {
      "cell_type": "code",
      "metadata": {
        "id": "1poxFYqftKov",
        "colab": {
          "base_uri": "https://localhost:8080/"
        },
        "outputId": "b3086120-7843-4cbf-da42-061d2d1436ea"
      },
      "source": [
        "## test the model with 1 batch\n",
        "model = Net()\n",
        "#print(model)\n",
        "for images, labels in train_loader:\n",
        "    print(\"batch size:\", args['batch_size'])\n",
        "    out = model(images)\n",
        "    print(out.shape)\n",
        "    break"
      ],
      "execution_count": 19,
      "outputs": [
        {
          "output_type": "stream",
          "name": "stdout",
          "text": [
            "batch size: 64\n",
            "torch.Size([64, 10])\n"
          ]
        }
      ]
    },
    {
      "cell_type": "markdown",
      "metadata": {
        "id": "9h_3eZQRHV_P"
      },
      "source": [
        "## Training the Model\n",
        "Now we are ready to train the model."
      ]
    },
    {
      "cell_type": "code",
      "metadata": {
        "id": "E59hwZlAIVcL"
      },
      "source": [
        "def train(epoch):\n",
        "    model.train()\n",
        "    for batch_idx, (data, target) in enumerate(train_loader):\n",
        "        if args['cuda']:\n",
        "            data, target = data.cuda(), target.cuda()\n",
        "        #Variables in Pytorch are differenciable.\n",
        "        data, target = Variable(data), Variable(target)\n",
        "        #This will zero out the gradients for this batch.\n",
        "        optimizer.zero_grad()\n",
        "        output = model(data)\n",
        "        # Calculate the loss The negative log likelihood loss. It is useful to train a classification problem with C classes.\n",
        "        loss = F.nll_loss(output, target)\n",
        "        #dloss/dx for every Variable\n",
        "        loss.backward()\n",
        "        #to do a one-step update on our parameter.\n",
        "        optimizer.step()\n",
        "        #Print out the loss periodically.\n",
        "        if batch_idx % args['log_interval'] == 0:\n",
        "            print('Train Epoch: {} [{}/{} ({:.0f}%)]\\tLoss: {:.6f}'.format(\n",
        "                epoch, batch_idx * len(data), len(train_loader.dataset),\n",
        "                100. * batch_idx / len(train_loader), loss.data.item()))"
      ],
      "execution_count": 20,
      "outputs": []
    },
    {
      "cell_type": "code",
      "source": [
        "def test():\n",
        "    model.eval()\n",
        "    test_loss = 0\n",
        "    correct = 0\n",
        "\n",
        "    with torch.no_grad():\n",
        "      for data, target in test_loader:\n",
        "          if args['cuda']:\n",
        "              data, target = data.cuda(), target.cuda()\n",
        "          data, target = Variable(data), Variable(target)\n",
        "          output = model(data)\n",
        "          test_loss += F.nll_loss(output, target, size_average=False).data.item() # sum up batch loss\n",
        "          pred = output.data.max(1, keepdim=True)[1] # get the index of the max log-probability\n",
        "          correct += pred.eq(target.data.view_as(pred)).long().cpu().sum()\n",
        "\n",
        "    test_loss /= len(test_loader.dataset)\n",
        "    print('\\nTest set: Average loss: {:.4f}, Accuracy: {}/{} ({:.0f}%)\\n'.format(\n",
        "        test_loss, correct, len(test_loader.dataset),\n",
        "        100. * correct / len(test_loader.dataset)))"
      ],
      "metadata": {
        "id": "dmoO9DlN_Ir6"
      },
      "execution_count": 21,
      "outputs": []
    },
    {
      "cell_type": "code",
      "source": [
        "model = Net()\n",
        "if args['cuda']:\n",
        "    model.cuda()\n",
        "\n",
        "optimizer = optim.SGD(model.parameters(), lr=args['lr'], momentum=args['momentum'])\n",
        "\n",
        "for epoch in range(1, args['epochs'] + 1):\n",
        "    train(epoch)\n",
        "    test()"
      ],
      "metadata": {
        "id": "PQcWwu_A_2gx",
        "colab": {
          "base_uri": "https://localhost:8080/"
        },
        "outputId": "6759f68f-de67-45dd-a039-58c326573986"
      },
      "execution_count": 22,
      "outputs": [
        {
          "output_type": "stream",
          "name": "stdout",
          "text": [
            "Train Epoch: 1 [0/60000 (0%)]\tLoss: 2.324889\n",
            "Train Epoch: 1 [640/60000 (1%)]\tLoss: 1.565066\n",
            "Train Epoch: 1 [1280/60000 (2%)]\tLoss: 1.160685\n",
            "Train Epoch: 1 [1920/60000 (3%)]\tLoss: 0.748515\n",
            "Train Epoch: 1 [2560/60000 (4%)]\tLoss: 0.660610\n",
            "Train Epoch: 1 [3200/60000 (5%)]\tLoss: 0.633203\n",
            "Train Epoch: 1 [3840/60000 (6%)]\tLoss: 0.507430\n",
            "Train Epoch: 1 [4480/60000 (7%)]\tLoss: 0.428382\n",
            "Train Epoch: 1 [5120/60000 (9%)]\tLoss: 0.506917\n",
            "Train Epoch: 1 [5760/60000 (10%)]\tLoss: 0.424653\n",
            "Train Epoch: 1 [6400/60000 (11%)]\tLoss: 0.586023\n",
            "Train Epoch: 1 [7040/60000 (12%)]\tLoss: 0.309937\n",
            "Train Epoch: 1 [7680/60000 (13%)]\tLoss: 0.330842\n",
            "Train Epoch: 1 [8320/60000 (14%)]\tLoss: 0.312364\n",
            "Train Epoch: 1 [8960/60000 (15%)]\tLoss: 0.295069\n",
            "Train Epoch: 1 [9600/60000 (16%)]\tLoss: 0.378622\n",
            "Train Epoch: 1 [10240/60000 (17%)]\tLoss: 0.420281\n",
            "Train Epoch: 1 [10880/60000 (18%)]\tLoss: 0.264078\n",
            "Train Epoch: 1 [11520/60000 (19%)]\tLoss: 0.463440\n",
            "Train Epoch: 1 [12160/60000 (20%)]\tLoss: 0.362058\n",
            "Train Epoch: 1 [12800/60000 (21%)]\tLoss: 0.330395\n",
            "Train Epoch: 1 [13440/60000 (22%)]\tLoss: 0.487817\n",
            "Train Epoch: 1 [14080/60000 (23%)]\tLoss: 0.306532\n",
            "Train Epoch: 1 [14720/60000 (25%)]\tLoss: 0.307146\n",
            "Train Epoch: 1 [15360/60000 (26%)]\tLoss: 0.351177\n",
            "Train Epoch: 1 [16000/60000 (27%)]\tLoss: 0.324964\n",
            "Train Epoch: 1 [16640/60000 (28%)]\tLoss: 0.347246\n",
            "Train Epoch: 1 [17280/60000 (29%)]\tLoss: 0.408094\n",
            "Train Epoch: 1 [17920/60000 (30%)]\tLoss: 0.134016\n",
            "Train Epoch: 1 [18560/60000 (31%)]\tLoss: 0.229830\n",
            "Train Epoch: 1 [19200/60000 (32%)]\tLoss: 0.290996\n",
            "Train Epoch: 1 [19840/60000 (33%)]\tLoss: 0.342365\n",
            "Train Epoch: 1 [20480/60000 (34%)]\tLoss: 0.372924\n",
            "Train Epoch: 1 [21120/60000 (35%)]\tLoss: 0.343303\n",
            "Train Epoch: 1 [21760/60000 (36%)]\tLoss: 0.147852\n",
            "Train Epoch: 1 [22400/60000 (37%)]\tLoss: 0.230831\n",
            "Train Epoch: 1 [23040/60000 (38%)]\tLoss: 0.276571\n",
            "Train Epoch: 1 [23680/60000 (39%)]\tLoss: 0.280564\n",
            "Train Epoch: 1 [24320/60000 (41%)]\tLoss: 0.133005\n",
            "Train Epoch: 1 [24960/60000 (42%)]\tLoss: 0.173724\n",
            "Train Epoch: 1 [25600/60000 (43%)]\tLoss: 0.285588\n",
            "Train Epoch: 1 [26240/60000 (44%)]\tLoss: 0.209676\n",
            "Train Epoch: 1 [26880/60000 (45%)]\tLoss: 0.101732\n",
            "Train Epoch: 1 [27520/60000 (46%)]\tLoss: 0.179321\n",
            "Train Epoch: 1 [28160/60000 (47%)]\tLoss: 0.413303\n",
            "Train Epoch: 1 [28800/60000 (48%)]\tLoss: 0.356881\n",
            "Train Epoch: 1 [29440/60000 (49%)]\tLoss: 0.227172\n",
            "Train Epoch: 1 [30080/60000 (50%)]\tLoss: 0.251715\n",
            "Train Epoch: 1 [30720/60000 (51%)]\tLoss: 0.445245\n",
            "Train Epoch: 1 [31360/60000 (52%)]\tLoss: 0.189319\n",
            "Train Epoch: 1 [32000/60000 (53%)]\tLoss: 0.229543\n",
            "Train Epoch: 1 [32640/60000 (54%)]\tLoss: 0.348524\n",
            "Train Epoch: 1 [33280/60000 (55%)]\tLoss: 0.393111\n",
            "Train Epoch: 1 [33920/60000 (57%)]\tLoss: 0.270112\n",
            "Train Epoch: 1 [34560/60000 (58%)]\tLoss: 0.273174\n",
            "Train Epoch: 1 [35200/60000 (59%)]\tLoss: 0.180552\n",
            "Train Epoch: 1 [35840/60000 (60%)]\tLoss: 0.118142\n",
            "Train Epoch: 1 [36480/60000 (61%)]\tLoss: 0.170732\n",
            "Train Epoch: 1 [37120/60000 (62%)]\tLoss: 0.360083\n",
            "Train Epoch: 1 [37760/60000 (63%)]\tLoss: 0.206024\n",
            "Train Epoch: 1 [38400/60000 (64%)]\tLoss: 0.114359\n",
            "Train Epoch: 1 [39040/60000 (65%)]\tLoss: 0.312332\n",
            "Train Epoch: 1 [39680/60000 (66%)]\tLoss: 0.223168\n",
            "Train Epoch: 1 [40320/60000 (67%)]\tLoss: 0.363983\n",
            "Train Epoch: 1 [40960/60000 (68%)]\tLoss: 0.135176\n",
            "Train Epoch: 1 [41600/60000 (69%)]\tLoss: 0.135478\n",
            "Train Epoch: 1 [42240/60000 (70%)]\tLoss: 0.233698\n",
            "Train Epoch: 1 [42880/60000 (71%)]\tLoss: 0.126983\n",
            "Train Epoch: 1 [43520/60000 (72%)]\tLoss: 0.343889\n",
            "Train Epoch: 1 [44160/60000 (74%)]\tLoss: 0.180989\n",
            "Train Epoch: 1 [44800/60000 (75%)]\tLoss: 0.191378\n",
            "Train Epoch: 1 [45440/60000 (76%)]\tLoss: 0.126238\n",
            "Train Epoch: 1 [46080/60000 (77%)]\tLoss: 0.231709\n",
            "Train Epoch: 1 [46720/60000 (78%)]\tLoss: 0.220376\n",
            "Train Epoch: 1 [47360/60000 (79%)]\tLoss: 0.213542\n",
            "Train Epoch: 1 [48000/60000 (80%)]\tLoss: 0.164807\n",
            "Train Epoch: 1 [48640/60000 (81%)]\tLoss: 0.290901\n",
            "Train Epoch: 1 [49280/60000 (82%)]\tLoss: 0.225382\n",
            "Train Epoch: 1 [49920/60000 (83%)]\tLoss: 0.381478\n",
            "Train Epoch: 1 [50560/60000 (84%)]\tLoss: 0.155699\n",
            "Train Epoch: 1 [51200/60000 (85%)]\tLoss: 0.131048\n",
            "Train Epoch: 1 [51840/60000 (86%)]\tLoss: 0.157986\n",
            "Train Epoch: 1 [52480/60000 (87%)]\tLoss: 0.255184\n",
            "Train Epoch: 1 [53120/60000 (88%)]\tLoss: 0.201813\n",
            "Train Epoch: 1 [53760/60000 (90%)]\tLoss: 0.205327\n",
            "Train Epoch: 1 [54400/60000 (91%)]\tLoss: 0.232413\n",
            "Train Epoch: 1 [55040/60000 (92%)]\tLoss: 0.375036\n",
            "Train Epoch: 1 [55680/60000 (93%)]\tLoss: 0.060544\n",
            "Train Epoch: 1 [56320/60000 (94%)]\tLoss: 0.050192\n",
            "Train Epoch: 1 [56960/60000 (95%)]\tLoss: 0.108687\n",
            "Train Epoch: 1 [57600/60000 (96%)]\tLoss: 0.139111\n",
            "Train Epoch: 1 [58240/60000 (97%)]\tLoss: 0.119893\n",
            "Train Epoch: 1 [58880/60000 (98%)]\tLoss: 0.275481\n",
            "Train Epoch: 1 [59520/60000 (99%)]\tLoss: 0.090380\n",
            "\n",
            "Test set: Average loss: 0.1625, Accuracy: 9535/10000 (95%)\n",
            "\n",
            "Train Epoch: 2 [0/60000 (0%)]\tLoss: 0.113106\n",
            "Train Epoch: 2 [640/60000 (1%)]\tLoss: 0.230402\n",
            "Train Epoch: 2 [1280/60000 (2%)]\tLoss: 0.168162\n",
            "Train Epoch: 2 [1920/60000 (3%)]\tLoss: 0.206318\n",
            "Train Epoch: 2 [2560/60000 (4%)]\tLoss: 0.111074\n",
            "Train Epoch: 2 [3200/60000 (5%)]\tLoss: 0.198797\n",
            "Train Epoch: 2 [3840/60000 (6%)]\tLoss: 0.244160\n",
            "Train Epoch: 2 [4480/60000 (7%)]\tLoss: 0.172970\n",
            "Train Epoch: 2 [5120/60000 (9%)]\tLoss: 0.062371\n",
            "Train Epoch: 2 [5760/60000 (10%)]\tLoss: 0.217392\n",
            "Train Epoch: 2 [6400/60000 (11%)]\tLoss: 0.109015\n",
            "Train Epoch: 2 [7040/60000 (12%)]\tLoss: 0.183635\n",
            "Train Epoch: 2 [7680/60000 (13%)]\tLoss: 0.147479\n",
            "Train Epoch: 2 [8320/60000 (14%)]\tLoss: 0.131320\n",
            "Train Epoch: 2 [8960/60000 (15%)]\tLoss: 0.136275\n",
            "Train Epoch: 2 [9600/60000 (16%)]\tLoss: 0.101903\n",
            "Train Epoch: 2 [10240/60000 (17%)]\tLoss: 0.274461\n",
            "Train Epoch: 2 [10880/60000 (18%)]\tLoss: 0.109561\n",
            "Train Epoch: 2 [11520/60000 (19%)]\tLoss: 0.227291\n",
            "Train Epoch: 2 [12160/60000 (20%)]\tLoss: 0.110667\n",
            "Train Epoch: 2 [12800/60000 (21%)]\tLoss: 0.133593\n",
            "Train Epoch: 2 [13440/60000 (22%)]\tLoss: 0.249843\n",
            "Train Epoch: 2 [14080/60000 (23%)]\tLoss: 0.110621\n",
            "Train Epoch: 2 [14720/60000 (25%)]\tLoss: 0.043721\n",
            "Train Epoch: 2 [15360/60000 (26%)]\tLoss: 0.123545\n",
            "Train Epoch: 2 [16000/60000 (27%)]\tLoss: 0.151916\n",
            "Train Epoch: 2 [16640/60000 (28%)]\tLoss: 0.133802\n",
            "Train Epoch: 2 [17280/60000 (29%)]\tLoss: 0.133910\n",
            "Train Epoch: 2 [17920/60000 (30%)]\tLoss: 0.060925\n",
            "Train Epoch: 2 [18560/60000 (31%)]\tLoss: 0.100515\n",
            "Train Epoch: 2 [19200/60000 (32%)]\tLoss: 0.110763\n",
            "Train Epoch: 2 [19840/60000 (33%)]\tLoss: 0.129620\n",
            "Train Epoch: 2 [20480/60000 (34%)]\tLoss: 0.163337\n",
            "Train Epoch: 2 [21120/60000 (35%)]\tLoss: 0.144678\n",
            "Train Epoch: 2 [21760/60000 (36%)]\tLoss: 0.263458\n",
            "Train Epoch: 2 [22400/60000 (37%)]\tLoss: 0.150102\n",
            "Train Epoch: 2 [23040/60000 (38%)]\tLoss: 0.034523\n",
            "Train Epoch: 2 [23680/60000 (39%)]\tLoss: 0.056234\n",
            "Train Epoch: 2 [24320/60000 (41%)]\tLoss: 0.143285\n",
            "Train Epoch: 2 [24960/60000 (42%)]\tLoss: 0.232922\n",
            "Train Epoch: 2 [25600/60000 (43%)]\tLoss: 0.039226\n",
            "Train Epoch: 2 [26240/60000 (44%)]\tLoss: 0.064641\n",
            "Train Epoch: 2 [26880/60000 (45%)]\tLoss: 0.051973\n",
            "Train Epoch: 2 [27520/60000 (46%)]\tLoss: 0.166756\n",
            "Train Epoch: 2 [28160/60000 (47%)]\tLoss: 0.139606\n",
            "Train Epoch: 2 [28800/60000 (48%)]\tLoss: 0.111406\n",
            "Train Epoch: 2 [29440/60000 (49%)]\tLoss: 0.221274\n",
            "Train Epoch: 2 [30080/60000 (50%)]\tLoss: 0.066896\n",
            "Train Epoch: 2 [30720/60000 (51%)]\tLoss: 0.190354\n",
            "Train Epoch: 2 [31360/60000 (52%)]\tLoss: 0.111369\n",
            "Train Epoch: 2 [32000/60000 (53%)]\tLoss: 0.144195\n",
            "Train Epoch: 2 [32640/60000 (54%)]\tLoss: 0.097775\n",
            "Train Epoch: 2 [33280/60000 (55%)]\tLoss: 0.224917\n",
            "Train Epoch: 2 [33920/60000 (57%)]\tLoss: 0.113522\n",
            "Train Epoch: 2 [34560/60000 (58%)]\tLoss: 0.080335\n",
            "Train Epoch: 2 [35200/60000 (59%)]\tLoss: 0.130847\n",
            "Train Epoch: 2 [35840/60000 (60%)]\tLoss: 0.091821\n",
            "Train Epoch: 2 [36480/60000 (61%)]\tLoss: 0.082902\n",
            "Train Epoch: 2 [37120/60000 (62%)]\tLoss: 0.106316\n",
            "Train Epoch: 2 [37760/60000 (63%)]\tLoss: 0.146204\n",
            "Train Epoch: 2 [38400/60000 (64%)]\tLoss: 0.160631\n",
            "Train Epoch: 2 [39040/60000 (65%)]\tLoss: 0.183774\n",
            "Train Epoch: 2 [39680/60000 (66%)]\tLoss: 0.090538\n",
            "Train Epoch: 2 [40320/60000 (67%)]\tLoss: 0.123579\n",
            "Train Epoch: 2 [40960/60000 (68%)]\tLoss: 0.114708\n",
            "Train Epoch: 2 [41600/60000 (69%)]\tLoss: 0.033411\n",
            "Train Epoch: 2 [42240/60000 (70%)]\tLoss: 0.129216\n",
            "Train Epoch: 2 [42880/60000 (71%)]\tLoss: 0.210458\n",
            "Train Epoch: 2 [43520/60000 (72%)]\tLoss: 0.107244\n",
            "Train Epoch: 2 [44160/60000 (74%)]\tLoss: 0.038886\n",
            "Train Epoch: 2 [44800/60000 (75%)]\tLoss: 0.081290\n",
            "Train Epoch: 2 [45440/60000 (76%)]\tLoss: 0.166846\n",
            "Train Epoch: 2 [46080/60000 (77%)]\tLoss: 0.075130\n",
            "Train Epoch: 2 [46720/60000 (78%)]\tLoss: 0.178659\n",
            "Train Epoch: 2 [47360/60000 (79%)]\tLoss: 0.095978\n",
            "Train Epoch: 2 [48000/60000 (80%)]\tLoss: 0.058989\n",
            "Train Epoch: 2 [48640/60000 (81%)]\tLoss: 0.111770\n",
            "Train Epoch: 2 [49280/60000 (82%)]\tLoss: 0.162992\n",
            "Train Epoch: 2 [49920/60000 (83%)]\tLoss: 0.070424\n",
            "Train Epoch: 2 [50560/60000 (84%)]\tLoss: 0.263351\n",
            "Train Epoch: 2 [51200/60000 (85%)]\tLoss: 0.133657\n",
            "Train Epoch: 2 [51840/60000 (86%)]\tLoss: 0.079774\n",
            "Train Epoch: 2 [52480/60000 (87%)]\tLoss: 0.048975\n",
            "Train Epoch: 2 [53120/60000 (88%)]\tLoss: 0.061679\n",
            "Train Epoch: 2 [53760/60000 (90%)]\tLoss: 0.173186\n",
            "Train Epoch: 2 [54400/60000 (91%)]\tLoss: 0.074992\n",
            "Train Epoch: 2 [55040/60000 (92%)]\tLoss: 0.059700\n",
            "Train Epoch: 2 [55680/60000 (93%)]\tLoss: 0.076290\n",
            "Train Epoch: 2 [56320/60000 (94%)]\tLoss: 0.082872\n",
            "Train Epoch: 2 [56960/60000 (95%)]\tLoss: 0.075399\n",
            "Train Epoch: 2 [57600/60000 (96%)]\tLoss: 0.055044\n",
            "Train Epoch: 2 [58240/60000 (97%)]\tLoss: 0.208031\n",
            "Train Epoch: 2 [58880/60000 (98%)]\tLoss: 0.081951\n",
            "Train Epoch: 2 [59520/60000 (99%)]\tLoss: 0.092661\n",
            "\n",
            "Test set: Average loss: 0.0977, Accuracy: 9706/10000 (97%)\n",
            "\n",
            "Train Epoch: 3 [0/60000 (0%)]\tLoss: 0.062560\n",
            "Train Epoch: 3 [640/60000 (1%)]\tLoss: 0.192154\n",
            "Train Epoch: 3 [1280/60000 (2%)]\tLoss: 0.034340\n",
            "Train Epoch: 3 [1920/60000 (3%)]\tLoss: 0.116484\n",
            "Train Epoch: 3 [2560/60000 (4%)]\tLoss: 0.110366\n",
            "Train Epoch: 3 [3200/60000 (5%)]\tLoss: 0.155753\n",
            "Train Epoch: 3 [3840/60000 (6%)]\tLoss: 0.115697\n",
            "Train Epoch: 3 [4480/60000 (7%)]\tLoss: 0.047662\n",
            "Train Epoch: 3 [5120/60000 (9%)]\tLoss: 0.051076\n",
            "Train Epoch: 3 [5760/60000 (10%)]\tLoss: 0.030714\n",
            "Train Epoch: 3 [6400/60000 (11%)]\tLoss: 0.269668\n",
            "Train Epoch: 3 [7040/60000 (12%)]\tLoss: 0.130629\n",
            "Train Epoch: 3 [7680/60000 (13%)]\tLoss: 0.108696\n",
            "Train Epoch: 3 [8320/60000 (14%)]\tLoss: 0.211703\n",
            "Train Epoch: 3 [8960/60000 (15%)]\tLoss: 0.043222\n",
            "Train Epoch: 3 [9600/60000 (16%)]\tLoss: 0.051110\n",
            "Train Epoch: 3 [10240/60000 (17%)]\tLoss: 0.165120\n",
            "Train Epoch: 3 [10880/60000 (18%)]\tLoss: 0.135105\n",
            "Train Epoch: 3 [11520/60000 (19%)]\tLoss: 0.108466\n",
            "Train Epoch: 3 [12160/60000 (20%)]\tLoss: 0.075012\n",
            "Train Epoch: 3 [12800/60000 (21%)]\tLoss: 0.038832\n",
            "Train Epoch: 3 [13440/60000 (22%)]\tLoss: 0.108344\n",
            "Train Epoch: 3 [14080/60000 (23%)]\tLoss: 0.070312\n",
            "Train Epoch: 3 [14720/60000 (25%)]\tLoss: 0.079430\n",
            "Train Epoch: 3 [15360/60000 (26%)]\tLoss: 0.117978\n",
            "Train Epoch: 3 [16000/60000 (27%)]\tLoss: 0.056452\n",
            "Train Epoch: 3 [16640/60000 (28%)]\tLoss: 0.064812\n",
            "Train Epoch: 3 [17280/60000 (29%)]\tLoss: 0.109459\n",
            "Train Epoch: 3 [17920/60000 (30%)]\tLoss: 0.219158\n",
            "Train Epoch: 3 [18560/60000 (31%)]\tLoss: 0.073546\n",
            "Train Epoch: 3 [19200/60000 (32%)]\tLoss: 0.070430\n",
            "Train Epoch: 3 [19840/60000 (33%)]\tLoss: 0.073696\n",
            "Train Epoch: 3 [20480/60000 (34%)]\tLoss: 0.056758\n",
            "Train Epoch: 3 [21120/60000 (35%)]\tLoss: 0.104578\n",
            "Train Epoch: 3 [21760/60000 (36%)]\tLoss: 0.086769\n",
            "Train Epoch: 3 [22400/60000 (37%)]\tLoss: 0.088454\n",
            "Train Epoch: 3 [23040/60000 (38%)]\tLoss: 0.270189\n",
            "Train Epoch: 3 [23680/60000 (39%)]\tLoss: 0.090961\n",
            "Train Epoch: 3 [24320/60000 (41%)]\tLoss: 0.046347\n",
            "Train Epoch: 3 [24960/60000 (42%)]\tLoss: 0.102543\n",
            "Train Epoch: 3 [25600/60000 (43%)]\tLoss: 0.042594\n",
            "Train Epoch: 3 [26240/60000 (44%)]\tLoss: 0.026418\n",
            "Train Epoch: 3 [26880/60000 (45%)]\tLoss: 0.067391\n",
            "Train Epoch: 3 [27520/60000 (46%)]\tLoss: 0.223487\n",
            "Train Epoch: 3 [28160/60000 (47%)]\tLoss: 0.088424\n",
            "Train Epoch: 3 [28800/60000 (48%)]\tLoss: 0.168116\n",
            "Train Epoch: 3 [29440/60000 (49%)]\tLoss: 0.056979\n",
            "Train Epoch: 3 [30080/60000 (50%)]\tLoss: 0.084888\n",
            "Train Epoch: 3 [30720/60000 (51%)]\tLoss: 0.127033\n",
            "Train Epoch: 3 [31360/60000 (52%)]\tLoss: 0.076898\n",
            "Train Epoch: 3 [32000/60000 (53%)]\tLoss: 0.033121\n",
            "Train Epoch: 3 [32640/60000 (54%)]\tLoss: 0.090978\n",
            "Train Epoch: 3 [33280/60000 (55%)]\tLoss: 0.148169\n",
            "Train Epoch: 3 [33920/60000 (57%)]\tLoss: 0.238883\n",
            "Train Epoch: 3 [34560/60000 (58%)]\tLoss: 0.102934\n",
            "Train Epoch: 3 [35200/60000 (59%)]\tLoss: 0.043564\n",
            "Train Epoch: 3 [35840/60000 (60%)]\tLoss: 0.117665\n",
            "Train Epoch: 3 [36480/60000 (61%)]\tLoss: 0.069852\n",
            "Train Epoch: 3 [37120/60000 (62%)]\tLoss: 0.137436\n",
            "Train Epoch: 3 [37760/60000 (63%)]\tLoss: 0.133268\n",
            "Train Epoch: 3 [38400/60000 (64%)]\tLoss: 0.054240\n",
            "Train Epoch: 3 [39040/60000 (65%)]\tLoss: 0.053369\n",
            "Train Epoch: 3 [39680/60000 (66%)]\tLoss: 0.044199\n",
            "Train Epoch: 3 [40320/60000 (67%)]\tLoss: 0.028149\n",
            "Train Epoch: 3 [40960/60000 (68%)]\tLoss: 0.015926\n",
            "Train Epoch: 3 [41600/60000 (69%)]\tLoss: 0.048037\n",
            "Train Epoch: 3 [42240/60000 (70%)]\tLoss: 0.040830\n",
            "Train Epoch: 3 [42880/60000 (71%)]\tLoss: 0.022497\n",
            "Train Epoch: 3 [43520/60000 (72%)]\tLoss: 0.066923\n",
            "Train Epoch: 3 [44160/60000 (74%)]\tLoss: 0.092096\n",
            "Train Epoch: 3 [44800/60000 (75%)]\tLoss: 0.100130\n",
            "Train Epoch: 3 [45440/60000 (76%)]\tLoss: 0.019443\n",
            "Train Epoch: 3 [46080/60000 (77%)]\tLoss: 0.098596\n",
            "Train Epoch: 3 [46720/60000 (78%)]\tLoss: 0.023581\n",
            "Train Epoch: 3 [47360/60000 (79%)]\tLoss: 0.072777\n",
            "Train Epoch: 3 [48000/60000 (80%)]\tLoss: 0.083215\n",
            "Train Epoch: 3 [48640/60000 (81%)]\tLoss: 0.069547\n",
            "Train Epoch: 3 [49280/60000 (82%)]\tLoss: 0.081610\n",
            "Train Epoch: 3 [49920/60000 (83%)]\tLoss: 0.121593\n",
            "Train Epoch: 3 [50560/60000 (84%)]\tLoss: 0.104899\n",
            "Train Epoch: 3 [51200/60000 (85%)]\tLoss: 0.045203\n",
            "Train Epoch: 3 [51840/60000 (86%)]\tLoss: 0.033799\n",
            "Train Epoch: 3 [52480/60000 (87%)]\tLoss: 0.030184\n",
            "Train Epoch: 3 [53120/60000 (88%)]\tLoss: 0.027246\n",
            "Train Epoch: 3 [53760/60000 (90%)]\tLoss: 0.054982\n",
            "Train Epoch: 3 [54400/60000 (91%)]\tLoss: 0.016807\n",
            "Train Epoch: 3 [55040/60000 (92%)]\tLoss: 0.020123\n",
            "Train Epoch: 3 [55680/60000 (93%)]\tLoss: 0.076453\n",
            "Train Epoch: 3 [56320/60000 (94%)]\tLoss: 0.063248\n",
            "Train Epoch: 3 [56960/60000 (95%)]\tLoss: 0.078414\n",
            "Train Epoch: 3 [57600/60000 (96%)]\tLoss: 0.200786\n",
            "Train Epoch: 3 [58240/60000 (97%)]\tLoss: 0.027518\n",
            "Train Epoch: 3 [58880/60000 (98%)]\tLoss: 0.233627\n",
            "Train Epoch: 3 [59520/60000 (99%)]\tLoss: 0.050314\n",
            "\n",
            "Test set: Average loss: 0.0784, Accuracy: 9759/10000 (98%)\n",
            "\n",
            "Train Epoch: 4 [0/60000 (0%)]\tLoss: 0.053405\n",
            "Train Epoch: 4 [640/60000 (1%)]\tLoss: 0.024739\n",
            "Train Epoch: 4 [1280/60000 (2%)]\tLoss: 0.090380\n",
            "Train Epoch: 4 [1920/60000 (3%)]\tLoss: 0.228242\n",
            "Train Epoch: 4 [2560/60000 (4%)]\tLoss: 0.115676\n",
            "Train Epoch: 4 [3200/60000 (5%)]\tLoss: 0.066272\n",
            "Train Epoch: 4 [3840/60000 (6%)]\tLoss: 0.067175\n",
            "Train Epoch: 4 [4480/60000 (7%)]\tLoss: 0.019645\n",
            "Train Epoch: 4 [5120/60000 (9%)]\tLoss: 0.054493\n",
            "Train Epoch: 4 [5760/60000 (10%)]\tLoss: 0.063117\n",
            "Train Epoch: 4 [6400/60000 (11%)]\tLoss: 0.030460\n",
            "Train Epoch: 4 [7040/60000 (12%)]\tLoss: 0.232369\n",
            "Train Epoch: 4 [7680/60000 (13%)]\tLoss: 0.009590\n",
            "Train Epoch: 4 [8320/60000 (14%)]\tLoss: 0.069807\n",
            "Train Epoch: 4 [8960/60000 (15%)]\tLoss: 0.073790\n",
            "Train Epoch: 4 [9600/60000 (16%)]\tLoss: 0.011103\n",
            "Train Epoch: 4 [10240/60000 (17%)]\tLoss: 0.053678\n",
            "Train Epoch: 4 [10880/60000 (18%)]\tLoss: 0.053260\n",
            "Train Epoch: 4 [11520/60000 (19%)]\tLoss: 0.026053\n",
            "Train Epoch: 4 [12160/60000 (20%)]\tLoss: 0.037740\n",
            "Train Epoch: 4 [12800/60000 (21%)]\tLoss: 0.105654\n",
            "Train Epoch: 4 [13440/60000 (22%)]\tLoss: 0.042908\n",
            "Train Epoch: 4 [14080/60000 (23%)]\tLoss: 0.077700\n",
            "Train Epoch: 4 [14720/60000 (25%)]\tLoss: 0.122357\n",
            "Train Epoch: 4 [15360/60000 (26%)]\tLoss: 0.106364\n",
            "Train Epoch: 4 [16000/60000 (27%)]\tLoss: 0.044014\n",
            "Train Epoch: 4 [16640/60000 (28%)]\tLoss: 0.090348\n",
            "Train Epoch: 4 [17280/60000 (29%)]\tLoss: 0.059398\n",
            "Train Epoch: 4 [17920/60000 (30%)]\tLoss: 0.062235\n",
            "Train Epoch: 4 [18560/60000 (31%)]\tLoss: 0.064922\n",
            "Train Epoch: 4 [19200/60000 (32%)]\tLoss: 0.168951\n",
            "Train Epoch: 4 [19840/60000 (33%)]\tLoss: 0.043153\n",
            "Train Epoch: 4 [20480/60000 (34%)]\tLoss: 0.064886\n",
            "Train Epoch: 4 [21120/60000 (35%)]\tLoss: 0.095639\n",
            "Train Epoch: 4 [21760/60000 (36%)]\tLoss: 0.074093\n",
            "Train Epoch: 4 [22400/60000 (37%)]\tLoss: 0.032489\n",
            "Train Epoch: 4 [23040/60000 (38%)]\tLoss: 0.081066\n",
            "Train Epoch: 4 [23680/60000 (39%)]\tLoss: 0.046686\n",
            "Train Epoch: 4 [24320/60000 (41%)]\tLoss: 0.208200\n",
            "Train Epoch: 4 [24960/60000 (42%)]\tLoss: 0.069899\n",
            "Train Epoch: 4 [25600/60000 (43%)]\tLoss: 0.096302\n",
            "Train Epoch: 4 [26240/60000 (44%)]\tLoss: 0.084843\n",
            "Train Epoch: 4 [26880/60000 (45%)]\tLoss: 0.043715\n",
            "Train Epoch: 4 [27520/60000 (46%)]\tLoss: 0.130172\n",
            "Train Epoch: 4 [28160/60000 (47%)]\tLoss: 0.096968\n",
            "Train Epoch: 4 [28800/60000 (48%)]\tLoss: 0.032198\n",
            "Train Epoch: 4 [29440/60000 (49%)]\tLoss: 0.165011\n",
            "Train Epoch: 4 [30080/60000 (50%)]\tLoss: 0.126486\n",
            "Train Epoch: 4 [30720/60000 (51%)]\tLoss: 0.100231\n",
            "Train Epoch: 4 [31360/60000 (52%)]\tLoss: 0.092601\n",
            "Train Epoch: 4 [32000/60000 (53%)]\tLoss: 0.026503\n",
            "Train Epoch: 4 [32640/60000 (54%)]\tLoss: 0.154726\n",
            "Train Epoch: 4 [33280/60000 (55%)]\tLoss: 0.116846\n",
            "Train Epoch: 4 [33920/60000 (57%)]\tLoss: 0.007843\n",
            "Train Epoch: 4 [34560/60000 (58%)]\tLoss: 0.017321\n",
            "Train Epoch: 4 [35200/60000 (59%)]\tLoss: 0.048318\n",
            "Train Epoch: 4 [35840/60000 (60%)]\tLoss: 0.120830\n",
            "Train Epoch: 4 [36480/60000 (61%)]\tLoss: 0.052712\n",
            "Train Epoch: 4 [37120/60000 (62%)]\tLoss: 0.033921\n",
            "Train Epoch: 4 [37760/60000 (63%)]\tLoss: 0.093074\n",
            "Train Epoch: 4 [38400/60000 (64%)]\tLoss: 0.049113\n",
            "Train Epoch: 4 [39040/60000 (65%)]\tLoss: 0.031000\n",
            "Train Epoch: 4 [39680/60000 (66%)]\tLoss: 0.021236\n",
            "Train Epoch: 4 [40320/60000 (67%)]\tLoss: 0.206586\n",
            "Train Epoch: 4 [40960/60000 (68%)]\tLoss: 0.021068\n",
            "Train Epoch: 4 [41600/60000 (69%)]\tLoss: 0.035491\n",
            "Train Epoch: 4 [42240/60000 (70%)]\tLoss: 0.029229\n",
            "Train Epoch: 4 [42880/60000 (71%)]\tLoss: 0.024807\n",
            "Train Epoch: 4 [43520/60000 (72%)]\tLoss: 0.024318\n",
            "Train Epoch: 4 [44160/60000 (74%)]\tLoss: 0.205592\n",
            "Train Epoch: 4 [44800/60000 (75%)]\tLoss: 0.037531\n",
            "Train Epoch: 4 [45440/60000 (76%)]\tLoss: 0.073863\n",
            "Train Epoch: 4 [46080/60000 (77%)]\tLoss: 0.142845\n",
            "Train Epoch: 4 [46720/60000 (78%)]\tLoss: 0.036895\n",
            "Train Epoch: 4 [47360/60000 (79%)]\tLoss: 0.069754\n",
            "Train Epoch: 4 [48000/60000 (80%)]\tLoss: 0.023670\n",
            "Train Epoch: 4 [48640/60000 (81%)]\tLoss: 0.067439\n",
            "Train Epoch: 4 [49280/60000 (82%)]\tLoss: 0.030806\n",
            "Train Epoch: 4 [49920/60000 (83%)]\tLoss: 0.133715\n",
            "Train Epoch: 4 [50560/60000 (84%)]\tLoss: 0.129054\n",
            "Train Epoch: 4 [51200/60000 (85%)]\tLoss: 0.051700\n",
            "Train Epoch: 4 [51840/60000 (86%)]\tLoss: 0.069716\n",
            "Train Epoch: 4 [52480/60000 (87%)]\tLoss: 0.055737\n",
            "Train Epoch: 4 [53120/60000 (88%)]\tLoss: 0.065512\n",
            "Train Epoch: 4 [53760/60000 (90%)]\tLoss: 0.131699\n",
            "Train Epoch: 4 [54400/60000 (91%)]\tLoss: 0.135477\n",
            "Train Epoch: 4 [55040/60000 (92%)]\tLoss: 0.021219\n",
            "Train Epoch: 4 [55680/60000 (93%)]\tLoss: 0.046275\n",
            "Train Epoch: 4 [56320/60000 (94%)]\tLoss: 0.027906\n",
            "Train Epoch: 4 [56960/60000 (95%)]\tLoss: 0.035683\n",
            "Train Epoch: 4 [57600/60000 (96%)]\tLoss: 0.037856\n",
            "Train Epoch: 4 [58240/60000 (97%)]\tLoss: 0.031813\n",
            "Train Epoch: 4 [58880/60000 (98%)]\tLoss: 0.029938\n",
            "Train Epoch: 4 [59520/60000 (99%)]\tLoss: 0.048561\n",
            "\n",
            "Test set: Average loss: 0.0609, Accuracy: 9808/10000 (98%)\n",
            "\n"
          ]
        }
      ]
    },
    {
      "cell_type": "code",
      "source": [],
      "metadata": {
        "id": "9m3--4A-nDL-"
      },
      "execution_count": 22,
      "outputs": []
    }
  ]
}