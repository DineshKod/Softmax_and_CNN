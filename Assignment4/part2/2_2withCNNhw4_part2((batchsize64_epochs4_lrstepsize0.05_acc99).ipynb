{
  "nbformat": 4,
  "nbformat_minor": 0,
  "metadata": {
    "colab": {
      "provenance": [],
      "gpuType": "T4"
    },
    "kernelspec": {
      "name": "python3",
      "display_name": "Python 3"
    },
    "accelerator": "GPU"
  },
  "cells": [
    {
      "cell_type": "markdown",
      "metadata": {
        "id": "9XHd5ExbUIUg"
      },
      "source": [
        "# Pytorch with the MNIST Dataset - MINST"
      ]
    },
    {
      "cell_type": "markdown",
      "source": [],
      "metadata": {
        "id": "7nkkVZE6sZiG"
      }
    },
    {
      "cell_type": "code",
      "metadata": {
        "id": "Su0COdCqT2Wk"
      },
      "source": [
        "## import libraries\n",
        "from __future__ import print_function\n",
        "import argparse\n",
        "import torch\n",
        "import torch.nn as nn\n",
        "import torch.nn.functional as F\n",
        "import torchvision\n",
        "\n",
        "import torch.optim as optim\n",
        "from torchvision import datasets, transforms\n",
        "from torch.autograd import Variable"
      ],
      "execution_count": 23,
      "outputs": []
    },
    {
      "cell_type": "code",
      "metadata": {
        "id": "rXCYmmjyVRq5",
        "outputId": "7ecf05bc-63b2-4641-9c1e-73ce29f28a51",
        "colab": {
          "base_uri": "https://localhost:8080/"
        }
      },
      "source": [
        "print(torch.__version__)"
      ],
      "execution_count": 24,
      "outputs": [
        {
          "output_type": "stream",
          "name": "stdout",
          "text": [
            "2.5.0+cu121\n"
          ]
        }
      ]
    },
    {
      "cell_type": "code",
      "source": [
        "args={}\n",
        "kwargs={}\n",
        "args['batch_size']=64\n",
        "args['test_batch_size']=64\n",
        "args['epochs']=4  #The number of Epochs is the number of times you go through the full dataset.\n",
        "args['lr']=0.05 #Learning rate is how fast it will decend.\n",
        "args['momentum']=0.5 #SGD momentum (default: 0.5) Momentum is a moving average of our gradients (helps to keep direction).\n",
        "\n",
        "args['seed']=1 #random seed\n",
        "args['log_interval']=10\n",
        "args['cuda']=True #if the computer has a GPU, type True, otherwise, False"
      ],
      "metadata": {
        "id": "Fp3VqwxU9teg"
      },
      "execution_count": 25,
      "outputs": []
    },
    {
      "cell_type": "markdown",
      "source": [
        "This code is adopted from the pytorch examples repository. It is licensed under BSD 3-Clause \"New\" or \"Revised\" License. Source: https://github.com/pytorch/examples/ LICENSE: https://github.com/pytorch/examples/blob/master/LICENSE"
      ],
      "metadata": {
        "id": "ys8268Yr6sAC"
      }
    },
    {
      "cell_type": "markdown",
      "metadata": {
        "id": "hhuQyU7AYE6K"
      },
      "source": [
        "## Load Dataset\n",
        "The first step before training the model is to import the data. We will use the [MNIST dataset](http://yann.lecun.com/exdb/mnist/) which is like the Hello World dataset of machine learning.\n",
        "\n",
        "Besides importing the data, we will also do a few more things:\n",
        "- We will tranform the data into tensors using the `transforms` module\n",
        "- We will use `DataLoader` to build convenient data loaders or what are referred to as iterators, which makes it easy to efficiently feed data in batches to deep learning models.\n",
        "- As hinted above, we will also create batches of the data by setting the `batch` parameter inside the data loader. Notice we use batches of `32` in this tutorial but you can change it to `64` if you like. I encourage you to experiment with different batches."
      ]
    },
    {
      "cell_type": "code",
      "metadata": {
        "id": "tSjjLXrOVWBy"
      },
      "source": [
        "## transformations\n",
        "transform = transforms.Compose([\n",
        "                       transforms.ToTensor(),\n",
        "                       transforms.Normalize((0.1307,), (0.3081,))\n",
        "                   ])\n",
        "\n",
        "## download and load training dataset\n",
        "trainset = datasets.MNIST(root='../data', train=True, download=True, transform=transform)\n",
        "train_loader = torch.utils.data.DataLoader(trainset, batch_size=args['batch_size'], shuffle=True, **kwargs)\n",
        "\n",
        "## download and load testing dataset\n",
        "testset = torchvision.datasets.MNIST(root='./data', train=False, download=True, transform=transform)\n",
        "test_loader = torch.utils.data.DataLoader(testset, batch_size=args['test_batch_size'], shuffle=True, **kwargs)"
      ],
      "execution_count": 26,
      "outputs": []
    },
    {
      "cell_type": "markdown",
      "metadata": {
        "id": "0nZwZukWXUDn"
      },
      "source": [
        "## Exploring the Data\n",
        "As a practioner and researcher, I am always spending a bit of time and effort exploring and understanding the dataset. It's fun and this is a good practise to ensure that everything is in order."
      ]
    },
    {
      "cell_type": "markdown",
      "metadata": {
        "id": "NW_loWKga7CH"
      },
      "source": [
        "Let's check what the train and test dataset contains. I will use `matplotlib` to print out some of the images from our dataset."
      ]
    },
    {
      "cell_type": "code",
      "metadata": {
        "id": "zWd9Pt1Ca6K9",
        "colab": {
          "base_uri": "https://localhost:8080/",
          "height": 452
        },
        "outputId": "ac9f6c60-5267-40b4-ab17-6b9db6d2afe7"
      },
      "source": [
        "import matplotlib.pyplot as plt\n",
        "import numpy as np\n",
        "\n",
        "## functions to show an image\n",
        "def imshow(img):\n",
        "    #img = img / 2 + 0.5     # unnormalize\n",
        "    npimg = img.numpy()\n",
        "    plt.imshow(np.transpose(npimg, (1, 2, 0)))\n",
        "\n",
        "## get some random training images\n",
        "dataiter = iter(train_loader)\n",
        "images, labels = next(dataiter)\n",
        "\n",
        "## show images\n",
        "imshow(torchvision.utils.make_grid(images))"
      ],
      "execution_count": 27,
      "outputs": [
        {
          "output_type": "stream",
          "name": "stderr",
          "text": [
            "WARNING:matplotlib.image:Clipping input data to the valid range for imshow with RGB data ([0..1] for floats or [0..255] for integers).\n"
          ]
        },
        {
          "output_type": "display_data",
          "data": {
            "text/plain": [
              "<Figure size 640x480 with 1 Axes>"
            ],
            "image/png": "[encoded data removed]"
          },
          "metadata": {}
        }
      ]
    },
    {
      "cell_type": "markdown",
      "metadata": {
        "id": "d9mXAVmRvhrq"
      },
      "source": [
        "Let's check the dimensions of a batch."
      ]
    },
    {
      "cell_type": "code",
      "metadata": {
        "id": "cNFKWz1GZ4R5",
        "colab": {
          "base_uri": "https://localhost:8080/"
        },
        "outputId": "67858564-25c1-4361-ae99-b4e6b8a047a9"
      },
      "source": [
        "for images, labels in train_loader:\n",
        "    print(\"Image batch dimensions:\", images.shape)\n",
        "    print(\"Image label dimensions:\", labels.shape)\n",
        "    break"
      ],
      "execution_count": 28,
      "outputs": [
        {
          "output_type": "stream",
          "name": "stdout",
          "text": [
            "Image batch dimensions: torch.Size([64, 1, 28, 28])\n",
            "Image label dimensions: torch.Size([64])\n"
          ]
        }
      ]
    },
    {
      "cell_type": "markdown",
      "metadata": {
        "id": "tmaCTw5tXowR"
      },
      "source": [
        "## The Model\n",
        "We provide two fully-connected neural net as the initial architecture.\n",
        "\n",
        "Here are a few notes for those who are beginning with PyTorch:\n",
        "- The model below consists of an `__init__()` portion which is where you include the layers and components of the neural network. In our model, we have two fully-connected netork network. We are dealing with an image dataset that is in a grayscale so we only need one channel going in, hence `in_channels=1`.\n",
        "\n",
        "- After the first layer, we also apply an activation function such as `ReLU`. For prediction purposes, we then apply a `softmax` layer to the last transformation and return the output of that.  "
      ]
    },
    {
      "cell_type": "code",
      "metadata": {
        "id": "_IYnV4ZBa3cJ"
      },
      "source": [
        "class Net(nn.Module):\n",
        "    #This defines the structure of the NN.\n",
        "    def __init__(self):\n",
        "        super(Net, self).__init__()\n",
        "        self.conv1 = nn.Conv2d(1, 25, 3) #1x28x28 --> 25x26x26\n",
        "        self.pool = nn.MaxPool2d(2, 2) #25x26x26 --> 25x13x13\n",
        "        self.fc1 = nn.Linear(25 * 13 * 13, 256)\n",
        "        self.fc2 = nn.Linear(256, 10)\n",
        "\n",
        "    def forward(self, x):\n",
        "        x = F.relu(self.conv1(x))\n",
        "        x = self.pool(x)\n",
        "        x=x.view(-1,25 * 13 * 13)\n",
        "        x = F.relu(self.fc1(x))\n",
        "        x = self.fc2(x)\n",
        "        #Softmax gets probabilities.\n",
        "        return F.log_softmax(x, dim=1)\n"
      ],
      "execution_count": 29,
      "outputs": []
    },
    {
      "cell_type": "markdown",
      "source": [
        "**Now, add one CNN layer with a pooling to the above neural network and rerun the code to see whether you get higher prediction accuracy on the test set.**\n",
        "\n",
        "For example, you may try `out_channels=32`. Kernel size is 5, and for the rest of parameters we use the default values which you can find [here](https://pytorch.org/docs/stable/nn.html?highlight=conv2d#conv2d).\n",
        "\n",
        "- In short, the convolutional layer transforms the input data into a specific dimension that has to be considered in the linear layer.\n",
        "\n",
        "Make sure your flatten the output of CNN layer excluding # of batch so that the input of each example/batch has the same size of the first neural net.\n",
        "\n",
        "Tips: You can use x.view(-1, # of input size of the first fully-connected layer) or you can use torch.flatten(x, 1)."
      ],
      "metadata": {
        "id": "ZqgR0prhZD3z"
      }
    },
    {
      "cell_type": "markdown",
      "metadata": {
        "id": "evsFbkq_X6bc"
      },
      "source": [
        "I always encourage to test the model with 1 batch to ensure that the output dimensions are what we expect."
      ]
    },
    {
      "cell_type": "code",
      "source": [],
      "metadata": {
        "id": "tRkFvePEZCHd"
      },
      "execution_count": 29,
      "outputs": []
    },
    {
      "cell_type": "code",
      "metadata": {
        "id": "1poxFYqftKov",
        "colab": {
          "base_uri": "https://localhost:8080/"
        },
        "outputId": "5d55ee4c-6388-4d9a-9ebd-53a2f847e203"
      },
      "source": [
        "## test the model with 1 batch\n",
        "model = Net()\n",
        "#print(model)\n",
        "for images, labels in train_loader:\n",
        "    print(\"batch size:\", args['batch_size'])\n",
        "    out = model(images)\n",
        "    print(out.shape)\n",
        "    break"
      ],
      "execution_count": 30,
      "outputs": [
        {
          "output_type": "stream",
          "name": "stdout",
          "text": [
            "batch size: 64\n",
            "torch.Size([64, 10])\n"
          ]
        }
      ]
    },
    {
      "cell_type": "markdown",
      "metadata": {
        "id": "9h_3eZQRHV_P"
      },
      "source": [
        "## Training the Model\n",
        "Now we are ready to train the model."
      ]
    },
    {
      "cell_type": "code",
      "metadata": {
        "id": "E59hwZlAIVcL"
      },
      "source": [
        "def train(epoch):\n",
        "    model.train()\n",
        "    for batch_idx, (data, target) in enumerate(train_loader):\n",
        "        if args['cuda']:\n",
        "            data, target = data.cuda(), target.cuda()\n",
        "        #Variables in Pytorch are differenciable.\n",
        "        data, target = Variable(data), Variable(target)\n",
        "        #This will zero out the gradients for this batch.\n",
        "        optimizer.zero_grad()\n",
        "        output = model(data)\n",
        "        # Calculate the loss The negative log likelihood loss. It is useful to train a classification problem with C classes.\n",
        "        loss = F.nll_loss(output, target)\n",
        "        #dloss/dx for every Variable\n",
        "        loss.backward()\n",
        "        #to do a one-step update on our parameter.\n",
        "        optimizer.step()\n",
        "        #Print out the loss periodically.\n",
        "        if batch_idx % args['log_interval'] == 0:\n",
        "            print('Train Epoch: {} [{}/{} ({:.0f}%)]\\tLoss: {:.6f}'.format(\n",
        "                epoch, batch_idx * len(data), len(train_loader.dataset),\n",
        "                100. * batch_idx / len(train_loader), loss.data.item()))"
      ],
      "execution_count": 31,
      "outputs": []
    },
    {
      "cell_type": "code",
      "source": [
        "def test():\n",
        "    model.eval()\n",
        "    test_loss = 0\n",
        "    correct = 0\n",
        "\n",
        "    with torch.no_grad():\n",
        "      for data, target in test_loader:\n",
        "          if args['cuda']:\n",
        "              data, target = data.cuda(), target.cuda()\n",
        "          data, target = Variable(data), Variable(target)\n",
        "          output = model(data)\n",
        "          test_loss += F.nll_loss(output, target, size_average=False).data.item() # sum up batch loss\n",
        "          pred = output.data.max(1, keepdim=True)[1] # get the index of the max log-probability\n",
        "          correct += pred.eq(target.data.view_as(pred)).long().cpu().sum()\n",
        "\n",
        "    test_loss /= len(test_loader.dataset)\n",
        "    print('\\nTest set: Average loss: {:.4f}, Accuracy: {}/{} ({:.0f}%)\\n'.format(\n",
        "        test_loss, correct, len(test_loader.dataset),\n",
        "        100. * correct / len(test_loader.dataset)))"
      ],
      "metadata": {
        "id": "dmoO9DlN_Ir6"
      },
      "execution_count": 32,
      "outputs": []
    },
    {
      "cell_type": "code",
      "source": [
        "model = Net()\n",
        "if args['cuda']:\n",
        "    model.cuda()\n",
        "\n",
        "optimizer = optim.SGD(model.parameters(), lr=args['lr'], momentum=args['momentum'])\n",
        "\n",
        "for epoch in range(1, args['epochs'] + 1):\n",
        "    train(epoch)\n",
        "    test()"
      ],
      "metadata": {
        "id": "PQcWwu_A_2gx",
        "colab": {
          "base_uri": "https://localhost:8080/"
        },
        "outputId": "793e3ebd-cc02-4fa9-f1b9-e46c3022e721"
      },
      "execution_count": 33,
      "outputs": [
        {
          "output_type": "stream",
          "name": "stdout",
          "text": [
            "Train Epoch: 1 [0/60000 (0%)]\tLoss: 2.318869\n",
            "Train Epoch: 1 [640/60000 (1%)]\tLoss: 0.763127\n",
            "Train Epoch: 1 [1280/60000 (2%)]\tLoss: 0.778307\n",
            "Train Epoch: 1 [1920/60000 (3%)]\tLoss: 0.345532\n",
            "Train Epoch: 1 [2560/60000 (4%)]\tLoss: 0.400721\n",
            "Train Epoch: 1 [3200/60000 (5%)]\tLoss: 0.556365\n",
            "Train Epoch: 1 [3840/60000 (6%)]\tLoss: 0.219242\n",
            "Train Epoch: 1 [4480/60000 (7%)]\tLoss: 0.382515\n",
            "Train Epoch: 1 [5120/60000 (9%)]\tLoss: 0.576377\n",
            "Train Epoch: 1 [5760/60000 (10%)]\tLoss: 0.342939\n",
            "Train Epoch: 1 [6400/60000 (11%)]\tLoss: 0.411583\n",
            "Train Epoch: 1 [7040/60000 (12%)]\tLoss: 0.299999\n",
            "Train Epoch: 1 [7680/60000 (13%)]\tLoss: 0.505843\n",
            "Train Epoch: 1 [8320/60000 (14%)]\tLoss: 0.348164\n",
            "Train Epoch: 1 [8960/60000 (15%)]\tLoss: 0.264332\n",
            "Train Epoch: 1 [9600/60000 (16%)]\tLoss: 0.288540\n",
            "Train Epoch: 1 [10240/60000 (17%)]\tLoss: 0.157787\n",
            "Train Epoch: 1 [10880/60000 (18%)]\tLoss: 0.290306\n",
            "Train Epoch: 1 [11520/60000 (19%)]\tLoss: 0.358763\n",
            "Train Epoch: 1 [12160/60000 (20%)]\tLoss: 0.207223\n",
            "Train Epoch: 1 [12800/60000 (21%)]\tLoss: 0.129074\n",
            "Train Epoch: 1 [13440/60000 (22%)]\tLoss: 0.103629\n",
            "Train Epoch: 1 [14080/60000 (23%)]\tLoss: 0.211671\n",
            "Train Epoch: 1 [14720/60000 (25%)]\tLoss: 0.174315\n",
            "Train Epoch: 1 [15360/60000 (26%)]\tLoss: 0.147053\n",
            "Train Epoch: 1 [16000/60000 (27%)]\tLoss: 0.137854\n",
            "Train Epoch: 1 [16640/60000 (28%)]\tLoss: 0.233026\n",
            "Train Epoch: 1 [17280/60000 (29%)]\tLoss: 0.173111\n",
            "Train Epoch: 1 [17920/60000 (30%)]\tLoss: 0.169873\n",
            "Train Epoch: 1 [18560/60000 (31%)]\tLoss: 0.195210\n",
            "Train Epoch: 1 [19200/60000 (32%)]\tLoss: 0.420744\n",
            "Train Epoch: 1 [19840/60000 (33%)]\tLoss: 0.195828\n",
            "Train Epoch: 1 [20480/60000 (34%)]\tLoss: 0.229463\n",
            "Train Epoch: 1 [21120/60000 (35%)]\tLoss: 0.133744\n",
            "Train Epoch: 1 [21760/60000 (36%)]\tLoss: 0.305500\n",
            "Train Epoch: 1 [22400/60000 (37%)]\tLoss: 0.085906\n",
            "Train Epoch: 1 [23040/60000 (38%)]\tLoss: 0.140140\n",
            "Train Epoch: 1 [23680/60000 (39%)]\tLoss: 0.133105\n",
            "Train Epoch: 1 [24320/60000 (41%)]\tLoss: 0.316274\n",
            "Train Epoch: 1 [24960/60000 (42%)]\tLoss: 0.140801\n",
            "Train Epoch: 1 [25600/60000 (43%)]\tLoss: 0.236437\n",
            "Train Epoch: 1 [26240/60000 (44%)]\tLoss: 0.150372\n",
            "Train Epoch: 1 [26880/60000 (45%)]\tLoss: 0.158918\n",
            "Train Epoch: 1 [27520/60000 (46%)]\tLoss: 0.107110\n",
            "Train Epoch: 1 [28160/60000 (47%)]\tLoss: 0.070807\n",
            "Train Epoch: 1 [28800/60000 (48%)]\tLoss: 0.150914\n",
            "Train Epoch: 1 [29440/60000 (49%)]\tLoss: 0.210860\n",
            "Train Epoch: 1 [30080/60000 (50%)]\tLoss: 0.061938\n",
            "Train Epoch: 1 [30720/60000 (51%)]\tLoss: 0.074880\n",
            "Train Epoch: 1 [31360/60000 (52%)]\tLoss: 0.242573\n",
            "Train Epoch: 1 [32000/60000 (53%)]\tLoss: 0.110740\n",
            "Train Epoch: 1 [32640/60000 (54%)]\tLoss: 0.133046\n",
            "Train Epoch: 1 [33280/60000 (55%)]\tLoss: 0.078351\n",
            "Train Epoch: 1 [33920/60000 (57%)]\tLoss: 0.044193\n",
            "Train Epoch: 1 [34560/60000 (58%)]\tLoss: 0.071739\n",
            "Train Epoch: 1 [35200/60000 (59%)]\tLoss: 0.065649\n",
            "Train Epoch: 1 [35840/60000 (60%)]\tLoss: 0.060695\n",
            "Train Epoch: 1 [36480/60000 (61%)]\tLoss: 0.093868\n",
            "Train Epoch: 1 [37120/60000 (62%)]\tLoss: 0.184658\n",
            "Train Epoch: 1 [37760/60000 (63%)]\tLoss: 0.150472\n",
            "Train Epoch: 1 [38400/60000 (64%)]\tLoss: 0.062838\n",
            "Train Epoch: 1 [39040/60000 (65%)]\tLoss: 0.085193\n",
            "Train Epoch: 1 [39680/60000 (66%)]\tLoss: 0.070175\n",
            "Train Epoch: 1 [40320/60000 (67%)]\tLoss: 0.137385\n",
            "Train Epoch: 1 [40960/60000 (68%)]\tLoss: 0.095261\n",
            "Train Epoch: 1 [41600/60000 (69%)]\tLoss: 0.073967\n",
            "Train Epoch: 1 [42240/60000 (70%)]\tLoss: 0.092163\n",
            "Train Epoch: 1 [42880/60000 (71%)]\tLoss: 0.017753\n",
            "Train Epoch: 1 [43520/60000 (72%)]\tLoss: 0.088854\n",
            "Train Epoch: 1 [44160/60000 (74%)]\tLoss: 0.136775\n",
            "Train Epoch: 1 [44800/60000 (75%)]\tLoss: 0.145408\n",
            "Train Epoch: 1 [45440/60000 (76%)]\tLoss: 0.086062\n",
            "Train Epoch: 1 [46080/60000 (77%)]\tLoss: 0.054604\n",
            "Train Epoch: 1 [46720/60000 (78%)]\tLoss: 0.106330\n",
            "Train Epoch: 1 [47360/60000 (79%)]\tLoss: 0.110807\n",
            "Train Epoch: 1 [48000/60000 (80%)]\tLoss: 0.071801\n",
            "Train Epoch: 1 [48640/60000 (81%)]\tLoss: 0.034469\n",
            "Train Epoch: 1 [49280/60000 (82%)]\tLoss: 0.089066\n",
            "Train Epoch: 1 [49920/60000 (83%)]\tLoss: 0.134789\n",
            "Train Epoch: 1 [50560/60000 (84%)]\tLoss: 0.015578\n",
            "Train Epoch: 1 [51200/60000 (85%)]\tLoss: 0.039940\n",
            "Train Epoch: 1 [51840/60000 (86%)]\tLoss: 0.106517\n",
            "Train Epoch: 1 [52480/60000 (87%)]\tLoss: 0.180737\n",
            "Train Epoch: 1 [53120/60000 (88%)]\tLoss: 0.170035\n",
            "Train Epoch: 1 [53760/60000 (90%)]\tLoss: 0.178511\n",
            "Train Epoch: 1 [54400/60000 (91%)]\tLoss: 0.038497\n",
            "Train Epoch: 1 [55040/60000 (92%)]\tLoss: 0.013365\n",
            "Train Epoch: 1 [55680/60000 (93%)]\tLoss: 0.037635\n",
            "Train Epoch: 1 [56320/60000 (94%)]\tLoss: 0.065799\n",
            "Train Epoch: 1 [56960/60000 (95%)]\tLoss: 0.042880\n",
            "Train Epoch: 1 [57600/60000 (96%)]\tLoss: 0.148032\n",
            "Train Epoch: 1 [58240/60000 (97%)]\tLoss: 0.108891\n",
            "Train Epoch: 1 [58880/60000 (98%)]\tLoss: 0.061097\n",
            "Train Epoch: 1 [59520/60000 (99%)]\tLoss: 0.109093\n",
            "\n",
            "Test set: Average loss: 0.0769, Accuracy: 9759/10000 (98%)\n",
            "\n",
            "Train Epoch: 2 [0/60000 (0%)]\tLoss: 0.055741\n",
            "Train Epoch: 2 [640/60000 (1%)]\tLoss: 0.040096\n",
            "Train Epoch: 2 [1280/60000 (2%)]\tLoss: 0.136739\n",
            "Train Epoch: 2 [1920/60000 (3%)]\tLoss: 0.012819\n",
            "Train Epoch: 2 [2560/60000 (4%)]\tLoss: 0.026286\n",
            "Train Epoch: 2 [3200/60000 (5%)]\tLoss: 0.016536\n",
            "Train Epoch: 2 [3840/60000 (6%)]\tLoss: 0.071874\n",
            "Train Epoch: 2 [4480/60000 (7%)]\tLoss: 0.031856\n",
            "Train Epoch: 2 [5120/60000 (9%)]\tLoss: 0.032423\n",
            "Train Epoch: 2 [5760/60000 (10%)]\tLoss: 0.044209\n",
            "Train Epoch: 2 [6400/60000 (11%)]\tLoss: 0.085290\n",
            "Train Epoch: 2 [7040/60000 (12%)]\tLoss: 0.100950\n",
            "Train Epoch: 2 [7680/60000 (13%)]\tLoss: 0.084755\n",
            "Train Epoch: 2 [8320/60000 (14%)]\tLoss: 0.181524\n",
            "Train Epoch: 2 [8960/60000 (15%)]\tLoss: 0.013318\n",
            "Train Epoch: 2 [9600/60000 (16%)]\tLoss: 0.042927\n",
            "Train Epoch: 2 [10240/60000 (17%)]\tLoss: 0.027635\n",
            "Train Epoch: 2 [10880/60000 (18%)]\tLoss: 0.064374\n",
            "Train Epoch: 2 [11520/60000 (19%)]\tLoss: 0.072026\n",
            "Train Epoch: 2 [12160/60000 (20%)]\tLoss: 0.114189\n",
            "Train Epoch: 2 [12800/60000 (21%)]\tLoss: 0.081328\n",
            "Train Epoch: 2 [13440/60000 (22%)]\tLoss: 0.051630\n",
            "Train Epoch: 2 [14080/60000 (23%)]\tLoss: 0.050457\n",
            "Train Epoch: 2 [14720/60000 (25%)]\tLoss: 0.019104\n",
            "Train Epoch: 2 [15360/60000 (26%)]\tLoss: 0.040293\n",
            "Train Epoch: 2 [16000/60000 (27%)]\tLoss: 0.077167\n",
            "Train Epoch: 2 [16640/60000 (28%)]\tLoss: 0.082881\n",
            "Train Epoch: 2 [17280/60000 (29%)]\tLoss: 0.051547\n",
            "Train Epoch: 2 [17920/60000 (30%)]\tLoss: 0.082647\n",
            "Train Epoch: 2 [18560/60000 (31%)]\tLoss: 0.012639\n",
            "Train Epoch: 2 [19200/60000 (32%)]\tLoss: 0.042648\n",
            "Train Epoch: 2 [19840/60000 (33%)]\tLoss: 0.078824\n",
            "Train Epoch: 2 [20480/60000 (34%)]\tLoss: 0.042233\n",
            "Train Epoch: 2 [21120/60000 (35%)]\tLoss: 0.053913\n",
            "Train Epoch: 2 [21760/60000 (36%)]\tLoss: 0.182091\n",
            "Train Epoch: 2 [22400/60000 (37%)]\tLoss: 0.029683\n",
            "Train Epoch: 2 [23040/60000 (38%)]\tLoss: 0.078818\n",
            "Train Epoch: 2 [23680/60000 (39%)]\tLoss: 0.013138\n",
            "Train Epoch: 2 [24320/60000 (41%)]\tLoss: 0.035315\n",
            "Train Epoch: 2 [24960/60000 (42%)]\tLoss: 0.022832\n",
            "Train Epoch: 2 [25600/60000 (43%)]\tLoss: 0.218375\n",
            "Train Epoch: 2 [26240/60000 (44%)]\tLoss: 0.264701\n",
            "Train Epoch: 2 [26880/60000 (45%)]\tLoss: 0.128672\n",
            "Train Epoch: 2 [27520/60000 (46%)]\tLoss: 0.107763\n",
            "Train Epoch: 2 [28160/60000 (47%)]\tLoss: 0.135969\n",
            "Train Epoch: 2 [28800/60000 (48%)]\tLoss: 0.062617\n",
            "Train Epoch: 2 [29440/60000 (49%)]\tLoss: 0.017581\n",
            "Train Epoch: 2 [30080/60000 (50%)]\tLoss: 0.105874\n",
            "Train Epoch: 2 [30720/60000 (51%)]\tLoss: 0.213352\n",
            "Train Epoch: 2 [31360/60000 (52%)]\tLoss: 0.241349\n",
            "Train Epoch: 2 [32000/60000 (53%)]\tLoss: 0.023179\n",
            "Train Epoch: 2 [32640/60000 (54%)]\tLoss: 0.067830\n",
            "Train Epoch: 2 [33280/60000 (55%)]\tLoss: 0.012484\n",
            "Train Epoch: 2 [33920/60000 (57%)]\tLoss: 0.017164\n",
            "Train Epoch: 2 [34560/60000 (58%)]\tLoss: 0.059241\n",
            "Train Epoch: 2 [35200/60000 (59%)]\tLoss: 0.004958\n",
            "Train Epoch: 2 [35840/60000 (60%)]\tLoss: 0.035234\n",
            "Train Epoch: 2 [36480/60000 (61%)]\tLoss: 0.083130\n",
            "Train Epoch: 2 [37120/60000 (62%)]\tLoss: 0.070408\n",
            "Train Epoch: 2 [37760/60000 (63%)]\tLoss: 0.072120\n",
            "Train Epoch: 2 [38400/60000 (64%)]\tLoss: 0.132920\n",
            "Train Epoch: 2 [39040/60000 (65%)]\tLoss: 0.119301\n",
            "Train Epoch: 2 [39680/60000 (66%)]\tLoss: 0.099687\n",
            "Train Epoch: 2 [40320/60000 (67%)]\tLoss: 0.044339\n",
            "Train Epoch: 2 [40960/60000 (68%)]\tLoss: 0.018527\n",
            "Train Epoch: 2 [41600/60000 (69%)]\tLoss: 0.018792\n",
            "Train Epoch: 2 [42240/60000 (70%)]\tLoss: 0.027609\n",
            "Train Epoch: 2 [42880/60000 (71%)]\tLoss: 0.038927\n",
            "Train Epoch: 2 [43520/60000 (72%)]\tLoss: 0.156284\n",
            "Train Epoch: 2 [44160/60000 (74%)]\tLoss: 0.043674\n",
            "Train Epoch: 2 [44800/60000 (75%)]\tLoss: 0.196819\n",
            "Train Epoch: 2 [45440/60000 (76%)]\tLoss: 0.033191\n",
            "Train Epoch: 2 [46080/60000 (77%)]\tLoss: 0.120263\n",
            "Train Epoch: 2 [46720/60000 (78%)]\tLoss: 0.149645\n",
            "Train Epoch: 2 [47360/60000 (79%)]\tLoss: 0.031446\n",
            "Train Epoch: 2 [48000/60000 (80%)]\tLoss: 0.051852\n",
            "Train Epoch: 2 [48640/60000 (81%)]\tLoss: 0.120074\n",
            "Train Epoch: 2 [49280/60000 (82%)]\tLoss: 0.034756\n",
            "Train Epoch: 2 [49920/60000 (83%)]\tLoss: 0.071140\n",
            "Train Epoch: 2 [50560/60000 (84%)]\tLoss: 0.009661\n",
            "Train Epoch: 2 [51200/60000 (85%)]\tLoss: 0.030055\n",
            "Train Epoch: 2 [51840/60000 (86%)]\tLoss: 0.063658\n",
            "Train Epoch: 2 [52480/60000 (87%)]\tLoss: 0.080015\n",
            "Train Epoch: 2 [53120/60000 (88%)]\tLoss: 0.048900\n",
            "Train Epoch: 2 [53760/60000 (90%)]\tLoss: 0.063289\n",
            "Train Epoch: 2 [54400/60000 (91%)]\tLoss: 0.094255\n",
            "Train Epoch: 2 [55040/60000 (92%)]\tLoss: 0.020170\n",
            "Train Epoch: 2 [55680/60000 (93%)]\tLoss: 0.058710\n",
            "Train Epoch: 2 [56320/60000 (94%)]\tLoss: 0.083439\n",
            "Train Epoch: 2 [56960/60000 (95%)]\tLoss: 0.058156\n",
            "Train Epoch: 2 [57600/60000 (96%)]\tLoss: 0.020675\n",
            "Train Epoch: 2 [58240/60000 (97%)]\tLoss: 0.031666\n",
            "Train Epoch: 2 [58880/60000 (98%)]\tLoss: 0.049658\n",
            "Train Epoch: 2 [59520/60000 (99%)]\tLoss: 0.028055\n",
            "\n",
            "Test set: Average loss: 0.0601, Accuracy: 9800/10000 (98%)\n",
            "\n",
            "Train Epoch: 3 [0/60000 (0%)]\tLoss: 0.052745\n",
            "Train Epoch: 3 [640/60000 (1%)]\tLoss: 0.033072\n",
            "Train Epoch: 3 [1280/60000 (2%)]\tLoss: 0.015970\n",
            "Train Epoch: 3 [1920/60000 (3%)]\tLoss: 0.032686\n",
            "Train Epoch: 3 [2560/60000 (4%)]\tLoss: 0.015782\n",
            "Train Epoch: 3 [3200/60000 (5%)]\tLoss: 0.032133\n",
            "Train Epoch: 3 [3840/60000 (6%)]\tLoss: 0.005626\n",
            "Train Epoch: 3 [4480/60000 (7%)]\tLoss: 0.023454\n",
            "Train Epoch: 3 [5120/60000 (9%)]\tLoss: 0.007909\n",
            "Train Epoch: 3 [5760/60000 (10%)]\tLoss: 0.006249\n",
            "Train Epoch: 3 [6400/60000 (11%)]\tLoss: 0.024954\n",
            "Train Epoch: 3 [7040/60000 (12%)]\tLoss: 0.013735\n",
            "Train Epoch: 3 [7680/60000 (13%)]\tLoss: 0.081773\n",
            "Train Epoch: 3 [8320/60000 (14%)]\tLoss: 0.006648\n",
            "Train Epoch: 3 [8960/60000 (15%)]\tLoss: 0.054058\n",
            "Train Epoch: 3 [9600/60000 (16%)]\tLoss: 0.032858\n",
            "Train Epoch: 3 [10240/60000 (17%)]\tLoss: 0.043553\n",
            "Train Epoch: 3 [10880/60000 (18%)]\tLoss: 0.048229\n",
            "Train Epoch: 3 [11520/60000 (19%)]\tLoss: 0.001919\n",
            "Train Epoch: 3 [12160/60000 (20%)]\tLoss: 0.017749\n",
            "Train Epoch: 3 [12800/60000 (21%)]\tLoss: 0.021597\n",
            "Train Epoch: 3 [13440/60000 (22%)]\tLoss: 0.068704\n",
            "Train Epoch: 3 [14080/60000 (23%)]\tLoss: 0.021868\n",
            "Train Epoch: 3 [14720/60000 (25%)]\tLoss: 0.016029\n",
            "Train Epoch: 3 [15360/60000 (26%)]\tLoss: 0.022504\n",
            "Train Epoch: 3 [16000/60000 (27%)]\tLoss: 0.116866\n",
            "Train Epoch: 3 [16640/60000 (28%)]\tLoss: 0.036617\n",
            "Train Epoch: 3 [17280/60000 (29%)]\tLoss: 0.052406\n",
            "Train Epoch: 3 [17920/60000 (30%)]\tLoss: 0.069359\n",
            "Train Epoch: 3 [18560/60000 (31%)]\tLoss: 0.025025\n",
            "Train Epoch: 3 [19200/60000 (32%)]\tLoss: 0.034235\n",
            "Train Epoch: 3 [19840/60000 (33%)]\tLoss: 0.015928\n",
            "Train Epoch: 3 [20480/60000 (34%)]\tLoss: 0.062795\n",
            "Train Epoch: 3 [21120/60000 (35%)]\tLoss: 0.042738\n",
            "Train Epoch: 3 [21760/60000 (36%)]\tLoss: 0.012776\n",
            "Train Epoch: 3 [22400/60000 (37%)]\tLoss: 0.005794\n",
            "Train Epoch: 3 [23040/60000 (38%)]\tLoss: 0.092088\n",
            "Train Epoch: 3 [23680/60000 (39%)]\tLoss: 0.070765\n",
            "Train Epoch: 3 [24320/60000 (41%)]\tLoss: 0.028135\n",
            "Train Epoch: 3 [24960/60000 (42%)]\tLoss: 0.102882\n",
            "Train Epoch: 3 [25600/60000 (43%)]\tLoss: 0.020931\n",
            "Train Epoch: 3 [26240/60000 (44%)]\tLoss: 0.012177\n",
            "Train Epoch: 3 [26880/60000 (45%)]\tLoss: 0.012127\n",
            "Train Epoch: 3 [27520/60000 (46%)]\tLoss: 0.007633\n",
            "Train Epoch: 3 [28160/60000 (47%)]\tLoss: 0.016957\n",
            "Train Epoch: 3 [28800/60000 (48%)]\tLoss: 0.012186\n",
            "Train Epoch: 3 [29440/60000 (49%)]\tLoss: 0.016503\n",
            "Train Epoch: 3 [30080/60000 (50%)]\tLoss: 0.084054\n",
            "Train Epoch: 3 [30720/60000 (51%)]\tLoss: 0.015724\n",
            "Train Epoch: 3 [31360/60000 (52%)]\tLoss: 0.002612\n",
            "Train Epoch: 3 [32000/60000 (53%)]\tLoss: 0.025153\n",
            "Train Epoch: 3 [32640/60000 (54%)]\tLoss: 0.007232\n",
            "Train Epoch: 3 [33280/60000 (55%)]\tLoss: 0.127781\n",
            "Train Epoch: 3 [33920/60000 (57%)]\tLoss: 0.011175\n",
            "Train Epoch: 3 [34560/60000 (58%)]\tLoss: 0.009898\n",
            "Train Epoch: 3 [35200/60000 (59%)]\tLoss: 0.082708\n",
            "Train Epoch: 3 [35840/60000 (60%)]\tLoss: 0.050513\n",
            "Train Epoch: 3 [36480/60000 (61%)]\tLoss: 0.024657\n",
            "Train Epoch: 3 [37120/60000 (62%)]\tLoss: 0.038471\n",
            "Train Epoch: 3 [37760/60000 (63%)]\tLoss: 0.083338\n",
            "Train Epoch: 3 [38400/60000 (64%)]\tLoss: 0.058588\n",
            "Train Epoch: 3 [39040/60000 (65%)]\tLoss: 0.018819\n",
            "Train Epoch: 3 [39680/60000 (66%)]\tLoss: 0.056534\n",
            "Train Epoch: 3 [40320/60000 (67%)]\tLoss: 0.016099\n",
            "Train Epoch: 3 [40960/60000 (68%)]\tLoss: 0.027802\n",
            "Train Epoch: 3 [41600/60000 (69%)]\tLoss: 0.045167\n",
            "Train Epoch: 3 [42240/60000 (70%)]\tLoss: 0.010702\n",
            "Train Epoch: 3 [42880/60000 (71%)]\tLoss: 0.075408\n",
            "Train Epoch: 3 [43520/60000 (72%)]\tLoss: 0.014539\n",
            "Train Epoch: 3 [44160/60000 (74%)]\tLoss: 0.032387\n",
            "Train Epoch: 3 [44800/60000 (75%)]\tLoss: 0.022465\n",
            "Train Epoch: 3 [45440/60000 (76%)]\tLoss: 0.004950\n",
            "Train Epoch: 3 [46080/60000 (77%)]\tLoss: 0.060247\n",
            "Train Epoch: 3 [46720/60000 (78%)]\tLoss: 0.118806\n",
            "Train Epoch: 3 [47360/60000 (79%)]\tLoss: 0.032140\n",
            "Train Epoch: 3 [48000/60000 (80%)]\tLoss: 0.007057\n",
            "Train Epoch: 3 [48640/60000 (81%)]\tLoss: 0.058756\n",
            "Train Epoch: 3 [49280/60000 (82%)]\tLoss: 0.147563\n",
            "Train Epoch: 3 [49920/60000 (83%)]\tLoss: 0.006926\n",
            "Train Epoch: 3 [50560/60000 (84%)]\tLoss: 0.044913\n",
            "Train Epoch: 3 [51200/60000 (85%)]\tLoss: 0.037558\n",
            "Train Epoch: 3 [51840/60000 (86%)]\tLoss: 0.053136\n",
            "Train Epoch: 3 [52480/60000 (87%)]\tLoss: 0.027640\n",
            "Train Epoch: 3 [53120/60000 (88%)]\tLoss: 0.030935\n",
            "Train Epoch: 3 [53760/60000 (90%)]\tLoss: 0.038712\n",
            "Train Epoch: 3 [54400/60000 (91%)]\tLoss: 0.014906\n",
            "Train Epoch: 3 [55040/60000 (92%)]\tLoss: 0.013362\n",
            "Train Epoch: 3 [55680/60000 (93%)]\tLoss: 0.025287\n",
            "Train Epoch: 3 [56320/60000 (94%)]\tLoss: 0.053031\n",
            "Train Epoch: 3 [56960/60000 (95%)]\tLoss: 0.046487\n",
            "Train Epoch: 3 [57600/60000 (96%)]\tLoss: 0.033804\n",
            "Train Epoch: 3 [58240/60000 (97%)]\tLoss: 0.098498\n",
            "Train Epoch: 3 [58880/60000 (98%)]\tLoss: 0.011369\n",
            "Train Epoch: 3 [59520/60000 (99%)]\tLoss: 0.004572\n",
            "\n",
            "Test set: Average loss: 0.0548, Accuracy: 9825/10000 (98%)\n",
            "\n",
            "Train Epoch: 4 [0/60000 (0%)]\tLoss: 0.068306\n",
            "Train Epoch: 4 [640/60000 (1%)]\tLoss: 0.014179\n",
            "Train Epoch: 4 [1280/60000 (2%)]\tLoss: 0.058123\n",
            "Train Epoch: 4 [1920/60000 (3%)]\tLoss: 0.022669\n",
            "Train Epoch: 4 [2560/60000 (4%)]\tLoss: 0.008193\n",
            "Train Epoch: 4 [3200/60000 (5%)]\tLoss: 0.043534\n",
            "Train Epoch: 4 [3840/60000 (6%)]\tLoss: 0.013759\n",
            "Train Epoch: 4 [4480/60000 (7%)]\tLoss: 0.003847\n",
            "Train Epoch: 4 [5120/60000 (9%)]\tLoss: 0.021161\n",
            "Train Epoch: 4 [5760/60000 (10%)]\tLoss: 0.068421\n",
            "Train Epoch: 4 [6400/60000 (11%)]\tLoss: 0.008377\n",
            "Train Epoch: 4 [7040/60000 (12%)]\tLoss: 0.009253\n",
            "Train Epoch: 4 [7680/60000 (13%)]\tLoss: 0.011887\n",
            "Train Epoch: 4 [8320/60000 (14%)]\tLoss: 0.002822\n",
            "Train Epoch: 4 [8960/60000 (15%)]\tLoss: 0.002543\n",
            "Train Epoch: 4 [9600/60000 (16%)]\tLoss: 0.011515\n",
            "Train Epoch: 4 [10240/60000 (17%)]\tLoss: 0.076535\n",
            "Train Epoch: 4 [10880/60000 (18%)]\tLoss: 0.004193\n",
            "Train Epoch: 4 [11520/60000 (19%)]\tLoss: 0.012106\n",
            "Train Epoch: 4 [12160/60000 (20%)]\tLoss: 0.009758\n",
            "Train Epoch: 4 [12800/60000 (21%)]\tLoss: 0.001898\n",
            "Train Epoch: 4 [13440/60000 (22%)]\tLoss: 0.076013\n",
            "Train Epoch: 4 [14080/60000 (23%)]\tLoss: 0.028242\n",
            "Train Epoch: 4 [14720/60000 (25%)]\tLoss: 0.032316\n",
            "Train Epoch: 4 [15360/60000 (26%)]\tLoss: 0.006805\n",
            "Train Epoch: 4 [16000/60000 (27%)]\tLoss: 0.001773\n",
            "Train Epoch: 4 [16640/60000 (28%)]\tLoss: 0.001885\n",
            "Train Epoch: 4 [17280/60000 (29%)]\tLoss: 0.006102\n",
            "Train Epoch: 4 [17920/60000 (30%)]\tLoss: 0.023177\n",
            "Train Epoch: 4 [18560/60000 (31%)]\tLoss: 0.009199\n",
            "Train Epoch: 4 [19200/60000 (32%)]\tLoss: 0.002234\n",
            "Train Epoch: 4 [19840/60000 (33%)]\tLoss: 0.005727\n",
            "Train Epoch: 4 [20480/60000 (34%)]\tLoss: 0.051721\n",
            "Train Epoch: 4 [21120/60000 (35%)]\tLoss: 0.074569\n",
            "Train Epoch: 4 [21760/60000 (36%)]\tLoss: 0.018564\n",
            "Train Epoch: 4 [22400/60000 (37%)]\tLoss: 0.024338\n",
            "Train Epoch: 4 [23040/60000 (38%)]\tLoss: 0.023523\n",
            "Train Epoch: 4 [23680/60000 (39%)]\tLoss: 0.037494\n",
            "Train Epoch: 4 [24320/60000 (41%)]\tLoss: 0.050666\n",
            "Train Epoch: 4 [24960/60000 (42%)]\tLoss: 0.013183\n",
            "Train Epoch: 4 [25600/60000 (43%)]\tLoss: 0.009731\n",
            "Train Epoch: 4 [26240/60000 (44%)]\tLoss: 0.106820\n",
            "Train Epoch: 4 [26880/60000 (45%)]\tLoss: 0.003778\n",
            "Train Epoch: 4 [27520/60000 (46%)]\tLoss: 0.004837\n",
            "Train Epoch: 4 [28160/60000 (47%)]\tLoss: 0.009628\n",
            "Train Epoch: 4 [28800/60000 (48%)]\tLoss: 0.068873\n",
            "Train Epoch: 4 [29440/60000 (49%)]\tLoss: 0.105577\n",
            "Train Epoch: 4 [30080/60000 (50%)]\tLoss: 0.007899\n",
            "Train Epoch: 4 [30720/60000 (51%)]\tLoss: 0.007728\n",
            "Train Epoch: 4 [31360/60000 (52%)]\tLoss: 0.013236\n",
            "Train Epoch: 4 [32000/60000 (53%)]\tLoss: 0.084901\n",
            "Train Epoch: 4 [32640/60000 (54%)]\tLoss: 0.060407\n",
            "Train Epoch: 4 [33280/60000 (55%)]\tLoss: 0.023141\n",
            "Train Epoch: 4 [33920/60000 (57%)]\tLoss: 0.010652\n",
            "Train Epoch: 4 [34560/60000 (58%)]\tLoss: 0.019525\n",
            "Train Epoch: 4 [35200/60000 (59%)]\tLoss: 0.033697\n",
            "Train Epoch: 4 [35840/60000 (60%)]\tLoss: 0.011097\n",
            "Train Epoch: 4 [36480/60000 (61%)]\tLoss: 0.042849\n",
            "Train Epoch: 4 [37120/60000 (62%)]\tLoss: 0.007772\n",
            "Train Epoch: 4 [37760/60000 (63%)]\tLoss: 0.017254\n",
            "Train Epoch: 4 [38400/60000 (64%)]\tLoss: 0.081235\n",
            "Train Epoch: 4 [39040/60000 (65%)]\tLoss: 0.033967\n",
            "Train Epoch: 4 [39680/60000 (66%)]\tLoss: 0.002342\n",
            "Train Epoch: 4 [40320/60000 (67%)]\tLoss: 0.009566\n",
            "Train Epoch: 4 [40960/60000 (68%)]\tLoss: 0.003410\n",
            "Train Epoch: 4 [41600/60000 (69%)]\tLoss: 0.016085\n",
            "Train Epoch: 4 [42240/60000 (70%)]\tLoss: 0.003855\n",
            "Train Epoch: 4 [42880/60000 (71%)]\tLoss: 0.019353\n",
            "Train Epoch: 4 [43520/60000 (72%)]\tLoss: 0.054054\n",
            "Train Epoch: 4 [44160/60000 (74%)]\tLoss: 0.010409\n",
            "Train Epoch: 4 [44800/60000 (75%)]\tLoss: 0.005696\n",
            "Train Epoch: 4 [45440/60000 (76%)]\tLoss: 0.029811\n",
            "Train Epoch: 4 [46080/60000 (77%)]\tLoss: 0.002510\n",
            "Train Epoch: 4 [46720/60000 (78%)]\tLoss: 0.037757\n",
            "Train Epoch: 4 [47360/60000 (79%)]\tLoss: 0.020899\n",
            "Train Epoch: 4 [48000/60000 (80%)]\tLoss: 0.002034\n",
            "Train Epoch: 4 [48640/60000 (81%)]\tLoss: 0.005610\n",
            "Train Epoch: 4 [49280/60000 (82%)]\tLoss: 0.032255\n",
            "Train Epoch: 4 [49920/60000 (83%)]\tLoss: 0.006345\n",
            "Train Epoch: 4 [50560/60000 (84%)]\tLoss: 0.007596\n",
            "Train Epoch: 4 [51200/60000 (85%)]\tLoss: 0.008744\n",
            "Train Epoch: 4 [51840/60000 (86%)]\tLoss: 0.054662\n",
            "Train Epoch: 4 [52480/60000 (87%)]\tLoss: 0.003363\n",
            "Train Epoch: 4 [53120/60000 (88%)]\tLoss: 0.064568\n",
            "Train Epoch: 4 [53760/60000 (90%)]\tLoss: 0.010426\n",
            "Train Epoch: 4 [54400/60000 (91%)]\tLoss: 0.004810\n",
            "Train Epoch: 4 [55040/60000 (92%)]\tLoss: 0.097251\n",
            "Train Epoch: 4 [55680/60000 (93%)]\tLoss: 0.014864\n",
            "Train Epoch: 4 [56320/60000 (94%)]\tLoss: 0.014246\n",
            "Train Epoch: 4 [56960/60000 (95%)]\tLoss: 0.011494\n",
            "Train Epoch: 4 [57600/60000 (96%)]\tLoss: 0.020677\n",
            "Train Epoch: 4 [58240/60000 (97%)]\tLoss: 0.008251\n",
            "Train Epoch: 4 [58880/60000 (98%)]\tLoss: 0.064557\n",
            "Train Epoch: 4 [59520/60000 (99%)]\tLoss: 0.022924\n",
            "\n",
            "Test set: Average loss: 0.0392, Accuracy: 9866/10000 (99%)\n",
            "\n"
          ]
        }
      ]
    },
    {
      "cell_type": "code",
      "source": [],
      "metadata": {
        "id": "9m3--4A-nDL-"
      },
      "execution_count": 33,
      "outputs": []
    }
  ]
}