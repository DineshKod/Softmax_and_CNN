{
 "cells": [
  {
   "cell_type": "markdown",
   "metadata": {
    "id": "9XHd5ExbUIUg"
   },
   "source": [
    "# Pytorch with the MNIST Dataset - MINST"
   ]
  },
  {
   "cell_type": "code",
   "execution_count": 2,
   "metadata": {
    "id": "Su0COdCqT2Wk"
   },
   "outputs": [],
   "source": [
    "## import libraries\n",
    "from __future__ import print_function\n",
    "import argparse\n",
    "import torch\n",
    "import torch.nn as nn\n",
    "import torch.nn.functional as F\n",
    "import torchvision\n",
    "\n",
    "import torch.optim as optim\n",
    "from torchvision import datasets, transforms\n",
    "from torch.autograd import Variable"
   ]
  },
  {
   "cell_type": "code",
   "execution_count": 3,
   "metadata": {
    "colab": {
     "base_uri": "https://localhost:8080/"
    },
    "id": "rXCYmmjyVRq5",
    "outputId": "cd4f94e4-4b83-469d-bd71-839f44dd6a0a"
   },
   "outputs": [
    {
     "name": "stdout",
     "output_type": "stream",
     "text": [
      "2.5.0+cu121\n"
     ]
    }
   ],
   "source": [
    "print(torch.__version__)"
   ]
  },
  {
   "cell_type": "code",
   "execution_count": 4,
   "metadata": {
    "id": "Fp3VqwxU9teg"
   },
   "outputs": [],
   "source": [
    "args={}\n",
    "kwargs={}\n",
    "args['batch_size']=32\n",
    "args['test_batch_size']=32\n",
    "args['epochs']=1  #The number of Epochs is the number of times you go through the full dataset.\n",
    "args['lr']=0.01 #Learning rate is how fast it will decend.\n",
    "args['momentum']=0.5 #SGD momentum (default: 0.5) Momentum is a moving average of our gradients (helps to keep direction).\n",
    "\n",
    "args['seed']=1 #random seed\n",
    "args['log_interval']=10\n",
    "args['cuda']=True #if the computer has a GPU, type True, otherwise, False"
   ]
  },
  {
   "cell_type": "markdown",
   "metadata": {
    "id": "ys8268Yr6sAC"
   },
   "source": [
    "This code is adopted from the pytorch examples repository. It is licensed under BSD 3-Clause \"New\" or \"Revised\" License. Source: https://github.com/pytorch/examples/ LICENSE: https://github.com/pytorch/examples/blob/master/LICENSE"
   ]
  },
  {
   "cell_type": "markdown",
   "metadata": {
    "id": "hhuQyU7AYE6K"
   },
   "source": [
    "## Load Dataset\n",
    "The first step before training the model is to import the data. We will use the [MNIST dataset](http://yann.lecun.com/exdb/mnist/) which is like the Hello World dataset of machine learning.\n",
    "\n",
    "Besides importing the data, we will also do a few more things:\n",
    "- We will tranform the data into tensors using the `transforms` module\n",
    "- We will use `DataLoader` to build convenient data loaders or what are referred to as iterators, which makes it easy to efficiently feed data in batches to deep learning models.\n",
    "- As hinted above, we will also create batches of the data by setting the `batch` parameter inside the data loader. Notice we use batches of `32` in this tutorial but you can change it to `64` if you like. I encourage you to experiment with different batches."
   ]
  },
  {
   "cell_type": "code",
   "execution_count": 5,
   "metadata": {
    "colab": {
     "base_uri": "https://localhost:8080/"
    },
    "id": "tSjjLXrOVWBy",
    "outputId": "11cfb368-7eb7-44cb-f919-ddf1200d3cc5"
   },
   "outputs": [
    {
     "name": "stdout",
     "output_type": "stream",
     "text": [
      "Downloading http://yann.lecun.com/exdb/mnist/train-images-idx3-ubyte.gz\n",
      "Failed to download (trying next):\n",
      "<urlopen error [SSL: CERTIFICATE_VERIFY_FAILED] certificate verify failed: certificate has expired (_ssl.c:1007)>\n",
      "\n",
      "Downloading https://ossci-datasets.s3.amazonaws.com/mnist/train-images-idx3-ubyte.gz\n",
      "Downloading https://ossci-datasets.s3.amazonaws.com/mnist/train-images-idx3-ubyte.gz to ../data/MNIST/raw/train-images-idx3-ubyte.gz\n"
     ]
    },
    {
     "name": "stderr",
     "output_type": "stream",
     "text": [
      "100%|██████████| 9.91M/9.91M [00:00<00:00, 16.4MB/s]\n"
     ]
    },
    {
     "name": "stdout",
     "output_type": "stream",
     "text": [
      "Extracting ../data/MNIST/raw/train-images-idx3-ubyte.gz to ../data/MNIST/raw\n",
      "\n",
      "Downloading http://yann.lecun.com/exdb/mnist/train-labels-idx1-ubyte.gz\n",
      "Failed to download (trying next):\n",
      "<urlopen error [SSL: CERTIFICATE_VERIFY_FAILED] certificate verify failed: certificate has expired (_ssl.c:1007)>\n",
      "\n",
      "Downloading https://ossci-datasets.s3.amazonaws.com/mnist/train-labels-idx1-ubyte.gz\n",
      "Downloading https://ossci-datasets.s3.amazonaws.com/mnist/train-labels-idx1-ubyte.gz to ../data/MNIST/raw/train-labels-idx1-ubyte.gz\n"
     ]
    },
    {
     "name": "stderr",
     "output_type": "stream",
     "text": [
      "100%|██████████| 28.9k/28.9k [00:00<00:00, 500kB/s]\n"
     ]
    },
    {
     "name": "stdout",
     "output_type": "stream",
     "text": [
      "Extracting ../data/MNIST/raw/train-labels-idx1-ubyte.gz to ../data/MNIST/raw\n",
      "\n",
      "Downloading http://yann.lecun.com/exdb/mnist/t10k-images-idx3-ubyte.gz\n",
      "Failed to download (trying next):\n",
      "<urlopen error [SSL: CERTIFICATE_VERIFY_FAILED] certificate verify failed: certificate has expired (_ssl.c:1007)>\n",
      "\n",
      "Downloading https://ossci-datasets.s3.amazonaws.com/mnist/t10k-images-idx3-ubyte.gz\n",
      "Downloading https://ossci-datasets.s3.amazonaws.com/mnist/t10k-images-idx3-ubyte.gz to ../data/MNIST/raw/t10k-images-idx3-ubyte.gz\n"
     ]
    },
    {
     "name": "stderr",
     "output_type": "stream",
     "text": [
      "100%|██████████| 1.65M/1.65M [00:00<00:00, 4.53MB/s]\n"
     ]
    },
    {
     "name": "stdout",
     "output_type": "stream",
     "text": [
      "Extracting ../data/MNIST/raw/t10k-images-idx3-ubyte.gz to ../data/MNIST/raw\n",
      "\n",
      "Downloading http://yann.lecun.com/exdb/mnist/t10k-labels-idx1-ubyte.gz\n",
      "Failed to download (trying next):\n",
      "<urlopen error [SSL: CERTIFICATE_VERIFY_FAILED] certificate verify failed: certificate has expired (_ssl.c:1007)>\n",
      "\n",
      "Downloading https://ossci-datasets.s3.amazonaws.com/mnist/t10k-labels-idx1-ubyte.gz\n",
      "Downloading https://ossci-datasets.s3.amazonaws.com/mnist/t10k-labels-idx1-ubyte.gz to ../data/MNIST/raw/t10k-labels-idx1-ubyte.gz\n"
     ]
    },
    {
     "name": "stderr",
     "output_type": "stream",
     "text": [
      "100%|██████████| 4.54k/4.54k [00:00<00:00, 2.83MB/s]\n"
     ]
    },
    {
     "name": "stdout",
     "output_type": "stream",
     "text": [
      "Extracting ../data/MNIST/raw/t10k-labels-idx1-ubyte.gz to ../data/MNIST/raw\n",
      "\n",
      "Downloading http://yann.lecun.com/exdb/mnist/train-images-idx3-ubyte.gz\n",
      "Failed to download (trying next):\n",
      "<urlopen error [SSL: CERTIFICATE_VERIFY_FAILED] certificate verify failed: certificate has expired (_ssl.c:1007)>\n",
      "\n",
      "Downloading https://ossci-datasets.s3.amazonaws.com/mnist/train-images-idx3-ubyte.gz\n",
      "Downloading https://ossci-datasets.s3.amazonaws.com/mnist/train-images-idx3-ubyte.gz to ./data/MNIST/raw/train-images-idx3-ubyte.gz\n"
     ]
    },
    {
     "name": "stderr",
     "output_type": "stream",
     "text": [
      "100%|██████████| 9.91M/9.91M [00:00<00:00, 16.3MB/s]\n"
     ]
    },
    {
     "name": "stdout",
     "output_type": "stream",
     "text": [
      "Extracting ./data/MNIST/raw/train-images-idx3-ubyte.gz to ./data/MNIST/raw\n",
      "\n",
      "Downloading http://yann.lecun.com/exdb/mnist/train-labels-idx1-ubyte.gz\n",
      "Failed to download (trying next):\n",
      "<urlopen error [SSL: CERTIFICATE_VERIFY_FAILED] certificate verify failed: certificate has expired (_ssl.c:1007)>\n",
      "\n",
      "Downloading https://ossci-datasets.s3.amazonaws.com/mnist/train-labels-idx1-ubyte.gz\n",
      "Downloading https://ossci-datasets.s3.amazonaws.com/mnist/train-labels-idx1-ubyte.gz to ./data/MNIST/raw/train-labels-idx1-ubyte.gz\n"
     ]
    },
    {
     "name": "stderr",
     "output_type": "stream",
     "text": [
      "100%|██████████| 28.9k/28.9k [00:00<00:00, 501kB/s]\n"
     ]
    },
    {
     "name": "stdout",
     "output_type": "stream",
     "text": [
      "Extracting ./data/MNIST/raw/train-labels-idx1-ubyte.gz to ./data/MNIST/raw\n",
      "\n",
      "Downloading http://yann.lecun.com/exdb/mnist/t10k-images-idx3-ubyte.gz\n",
      "Failed to download (trying next):\n",
      "<urlopen error [SSL: CERTIFICATE_VERIFY_FAILED] certificate verify failed: certificate has expired (_ssl.c:1007)>\n",
      "\n",
      "Downloading https://ossci-datasets.s3.amazonaws.com/mnist/t10k-images-idx3-ubyte.gz\n",
      "Downloading https://ossci-datasets.s3.amazonaws.com/mnist/t10k-images-idx3-ubyte.gz to ./data/MNIST/raw/t10k-images-idx3-ubyte.gz\n"
     ]
    },
    {
     "name": "stderr",
     "output_type": "stream",
     "text": [
      "100%|██████████| 1.65M/1.65M [00:00<00:00, 4.54MB/s]\n"
     ]
    },
    {
     "name": "stdout",
     "output_type": "stream",
     "text": [
      "Extracting ./data/MNIST/raw/t10k-images-idx3-ubyte.gz to ./data/MNIST/raw\n",
      "\n",
      "Downloading http://yann.lecun.com/exdb/mnist/t10k-labels-idx1-ubyte.gz\n",
      "Failed to download (trying next):\n",
      "<urlopen error [SSL: CERTIFICATE_VERIFY_FAILED] certificate verify failed: certificate has expired (_ssl.c:1007)>\n",
      "\n",
      "Downloading https://ossci-datasets.s3.amazonaws.com/mnist/t10k-labels-idx1-ubyte.gz\n",
      "Downloading https://ossci-datasets.s3.amazonaws.com/mnist/t10k-labels-idx1-ubyte.gz to ./data/MNIST/raw/t10k-labels-idx1-ubyte.gz\n"
     ]
    },
    {
     "name": "stderr",
     "output_type": "stream",
     "text": [
      "100%|██████████| 4.54k/4.54k [00:00<00:00, 6.83MB/s]"
     ]
    },
    {
     "name": "stdout",
     "output_type": "stream",
     "text": [
      "Extracting ./data/MNIST/raw/t10k-labels-idx1-ubyte.gz to ./data/MNIST/raw\n",
      "\n"
     ]
    },
    {
     "name": "stderr",
     "output_type": "stream",
     "text": [
      "\n"
     ]
    }
   ],
   "source": [
    "## transformations\n",
    "transform = transforms.Compose([\n",
    "                       transforms.ToTensor(),\n",
    "                       transforms.Normalize((0.1307,), (0.3081,))\n",
    "                   ])\n",
    "\n",
    "## download and load training dataset\n",
    "trainset = datasets.MNIST(root='../data', train=True, download=True, transform=transform)\n",
    "train_loader = torch.utils.data.DataLoader(trainset, batch_size=args['batch_size'], shuffle=True, **kwargs)\n",
    "\n",
    "## download and load testing dataset\n",
    "testset = torchvision.datasets.MNIST(root='./data', train=False, download=True, transform=transform)\n",
    "test_loader = torch.utils.data.DataLoader(testset, batch_size=args['test_batch_size'], shuffle=True, **kwargs)"
   ]
  },
  {
   "cell_type": "markdown",
   "metadata": {
    "id": "0nZwZukWXUDn"
   },
   "source": [
    "## Exploring the Data\n",
    "As a practioner and researcher, I am always spending a bit of time and effort exploring and understanding the dataset. It's fun and this is a good practise to ensure that everything is in order."
   ]
  },
  {
   "cell_type": "markdown",
   "metadata": {
    "id": "NW_loWKga7CH"
   },
   "source": [
    "Let's check what the train and test dataset contains. I will use `matplotlib` to print out some of the images from our dataset."
   ]
  },
  {
   "cell_type": "code",
   "execution_count": 6,
   "metadata": {
    "colab": {
     "base_uri": "https://localhost:8080/",
     "height": 332
    },
    "id": "zWd9Pt1Ca6K9",
    "outputId": "2f093e76-69ce-4baf-b2f5-14540c75b7eb"
   },
   "outputs": [
    {
     "name": "stderr",
     "output_type": "stream",
     "text": [
      "WARNING:matplotlib.image:Clipping input data to the valid range for imshow with RGB data ([0..1] for floats or [0..255] for integers).\n"
     ]
    },
    {
     "data": {
      "image/png": "[encoded data removed]",
      "text/plain": [
       "<Figure size 640x480 with 1 Axes>"
      ]
     },
     "metadata": {},
     "output_type": "display_data"
    }
   ],
   "source": [
    "import matplotlib.pyplot as plt\n",
    "import numpy as np\n",
    "\n",
    "## functions to show an image\n",
    "def imshow(img):\n",
    "    #img = img / 2 + 0.5     # unnormalize\n",
    "    npimg = img.numpy()\n",
    "    plt.imshow(np.transpose(npimg, (1, 2, 0)))\n",
    "\n",
    "## get some random training images\n",
    "dataiter = iter(train_loader)\n",
    "images, labels = next(dataiter)\n",
    "\n",
    "## show images\n",
    "imshow(torchvision.utils.make_grid(images))"
   ]
  },
  {
   "cell_type": "markdown",
   "metadata": {
    "id": "d9mXAVmRvhrq"
   },
   "source": [
    "Let's check the dimensions of a batch."
   ]
  },
  {
   "cell_type": "code",
   "execution_count": 7,
   "metadata": {
    "colab": {
     "base_uri": "https://localhost:8080/"
    },
    "id": "cNFKWz1GZ4R5",
    "outputId": "7e13fe85-ea6b-4211-b4c0-0c6a07b59cd4"
   },
   "outputs": [
    {
     "name": "stdout",
     "output_type": "stream",
     "text": [
      "Image batch dimensions: torch.Size([32, 1, 28, 28])\n",
      "Image label dimensions: torch.Size([32])\n"
     ]
    }
   ],
   "source": [
    "for images, labels in train_loader:\n",
    "    print(\"Image batch dimensions:\", images.shape)\n",
    "    print(\"Image label dimensions:\", labels.shape)\n",
    "    break"
   ]
  },
  {
   "cell_type": "markdown",
   "metadata": {
    "id": "tmaCTw5tXowR"
   },
   "source": [
    "## The Model\n",
    "We provide two fully-connected neural net as the initial architecture.\n",
    "\n",
    "Here are a few notes for those who are beginning with PyTorch:\n",
    "- The model below consists of an `__init__()` portion which is where you include the layers and components of the neural network. In our model, we have two fully-connected netork network. We are dealing with an image dataset that is in a grayscale so we only need one channel going in, hence `in_channels=1`.\n",
    "\n",
    "- After the first layer, we also apply an activation function such as `ReLU`. For prediction purposes, we then apply a `softmax` layer to the last transformation and return the output of that.  "
   ]
  },
  {
   "cell_type": "code",
   "execution_count": 8,
   "metadata": {
    "id": "_IYnV4ZBa3cJ"
   },
   "outputs": [],
   "source": [
    "class Net(nn.Module):\n",
    "    #This defines the structure of the NN.\n",
    "    def __init__(self):\n",
    "        super(Net, self).__init__()\n",
    "        self.conv1 = nn.Conv2d(1, 25, 3) #1x28x28 --> 25x26x26\n",
    "        self.pool = nn.MaxPool2d(2, 2) #25x26x26 --> 25x13x13\n",
    "        self.fc1 = nn.Linear(25 * 13 * 13, 256)\n",
    "        self.fc2 = nn.Linear(256, 10)\n",
    "\n",
    "    def forward(self, x):\n",
    "        x = F.relu(self.conv1(x))\n",
    "        x = self.pool(x)\n",
    "        x=x.view(-1,25 * 13 * 13)\n",
    "        x = F.relu(self.fc1(x))\n",
    "        x = self.fc2(x)\n",
    "        #Softmax gets probabilities.\n",
    "        return F.log_softmax(x, dim=1)\n"
   ]
  },
  {
   "cell_type": "markdown",
   "metadata": {
    "id": "ZqgR0prhZD3z"
   },
   "source": [
    "**Now, add one CNN layer with a pooling to the above neural network and rerun the code to see whether you get higher prediction accuracy on the test set.**\n",
    "\n",
    "For example, you may try `out_channels=32`. Kernel size is 5, and for the rest of parameters we use the default values which you can find [here](https://pytorch.org/docs/stable/nn.html?highlight=conv2d#conv2d).\n",
    "\n",
    "- In short, the convolutional layer transforms the input data into a specific dimension that has to be considered in the linear layer.\n",
    "\n",
    "Make sure your flatten the output of CNN layer excluding # of batch so that the input of each example/batch has the same size of the first neural net.\n",
    "\n",
    "Tips: You can use x.view(-1, # of input size of the first fully-connected layer) or you can use torch.flatten(x, 1)."
   ]
  },
  {
   "cell_type": "markdown",
   "metadata": {
    "id": "evsFbkq_X6bc"
   },
   "source": [
    "I always encourage to test the model with 1 batch to ensure that the output dimensions are what we expect."
   ]
  },
  {
   "cell_type": "code",
   "execution_count": 8,
   "metadata": {
    "id": "tRkFvePEZCHd"
   },
   "outputs": [],
   "source": []
  },
  {
   "cell_type": "code",
   "execution_count": 9,
   "metadata": {
    "colab": {
     "base_uri": "https://localhost:8080/"
    },
    "id": "1poxFYqftKov",
    "outputId": "3b8611a0-2077-4a5a-e33d-5e6cf5ca67df"
   },
   "outputs": [
    {
     "name": "stdout",
     "output_type": "stream",
     "text": [
      "batch size: 32\n",
      "torch.Size([32, 10])\n"
     ]
    }
   ],
   "source": [
    "## test the model with 1 batch\n",
    "model = Net()\n",
    "#print(model)\n",
    "for images, labels in train_loader:\n",
    "    print(\"batch size:\", args['batch_size'])\n",
    "    out = model(images)\n",
    "    print(out.shape)\n",
    "    break"
   ]
  },
  {
   "cell_type": "markdown",
   "metadata": {
    "id": "9h_3eZQRHV_P"
   },
   "source": [
    "## Training the Model\n",
    "Now we are ready to train the model."
   ]
  },
  {
   "cell_type": "code",
   "execution_count": 10,
   "metadata": {
    "id": "E59hwZlAIVcL"
   },
   "outputs": [],
   "source": [
    "def train(epoch):\n",
    "    model.train()\n",
    "    for batch_idx, (data, target) in enumerate(train_loader):\n",
    "        if args['cuda']:\n",
    "            data, target = data.cuda(), target.cuda()\n",
    "        #Variables in Pytorch are differenciable.\n",
    "        data, target = Variable(data), Variable(target)\n",
    "        #This will zero out the gradients for this batch.\n",
    "        optimizer.zero_grad()\n",
    "        output = model(data)\n",
    "        # Calculate the loss The negative log likelihood loss. It is useful to train a classification problem with C classes.\n",
    "        loss = F.nll_loss(output, target)\n",
    "        #dloss/dx for every Variable\n",
    "        loss.backward()\n",
    "        #to do a one-step update on our parameter.\n",
    "        optimizer.step()\n",
    "        #Print out the loss periodically.\n",
    "        if batch_idx % args['log_interval'] == 0:\n",
    "            print('Train Epoch: {} [{}/{} ({:.0f}%)]\\tLoss: {:.6f}'.format(\n",
    "                epoch, batch_idx * len(data), len(train_loader.dataset),\n",
    "                100. * batch_idx / len(train_loader), loss.data.item()))"
   ]
  },
  {
   "cell_type": "code",
   "execution_count": 11,
   "metadata": {
    "id": "dmoO9DlN_Ir6"
   },
   "outputs": [],
   "source": [
    "def test():\n",
    "    model.eval()\n",
    "    test_loss = 0\n",
    "    correct = 0\n",
    "\n",
    "    with torch.no_grad():\n",
    "      for data, target in test_loader:\n",
    "          if args['cuda']:\n",
    "              data, target = data.cuda(), target.cuda()\n",
    "          data, target = Variable(data), Variable(target)\n",
    "          output = model(data)\n",
    "          test_loss += F.nll_loss(output, target, size_average=False).data.item() # sum up batch loss\n",
    "          pred = output.data.max(1, keepdim=True)[1] # get the index of the max log-probability\n",
    "          correct += pred.eq(target.data.view_as(pred)).long().cpu().sum()\n",
    "\n",
    "    test_loss /= len(test_loader.dataset)\n",
    "    print('\\nTest set: Average loss: {:.4f}, Accuracy: {}/{} ({:.0f}%)\\n'.format(\n",
    "        test_loss, correct, len(test_loader.dataset),\n",
    "        100. * correct / len(test_loader.dataset)))"
   ]
  },
  {
   "cell_type": "code",
   "execution_count": 12,
   "metadata": {
    "colab": {
     "base_uri": "https://localhost:8080/"
    },
    "id": "PQcWwu_A_2gx",
    "outputId": "489971c7-9d68-4d6f-81af-2fa66450b5c2"
   },
   "outputs": [
    {
     "name": "stdout",
     "output_type": "stream",
     "text": [
      "Train Epoch: 1 [0/60000 (0%)]\tLoss: 2.372720\n",
      "Train Epoch: 1 [320/60000 (1%)]\tLoss: 1.802728\n",
      "Train Epoch: 1 [640/60000 (1%)]\tLoss: 1.231960\n",
      "Train Epoch: 1 [960/60000 (2%)]\tLoss: 0.903316\n",
      "Train Epoch: 1 [1280/60000 (2%)]\tLoss: 0.557140\n",
      "Train Epoch: 1 [1600/60000 (3%)]\tLoss: 0.635397\n",
      "Train Epoch: 1 [1920/60000 (3%)]\tLoss: 0.507572\n",
      "Train Epoch: 1 [2240/60000 (4%)]\tLoss: 0.887186\n",
      "Train Epoch: 1 [2560/60000 (4%)]\tLoss: 0.572372\n",
      "Train Epoch: 1 [2880/60000 (5%)]\tLoss: 0.420833\n",
      "Train Epoch: 1 [3200/60000 (5%)]\tLoss: 0.218439\n",
      "Train Epoch: 1 [3520/60000 (6%)]\tLoss: 0.237025\n",
      "Train Epoch: 1 [3840/60000 (6%)]\tLoss: 0.367036\n",
      "Train Epoch: 1 [4160/60000 (7%)]\tLoss: 0.186796\n",
      "Train Epoch: 1 [4480/60000 (7%)]\tLoss: 0.315542\n",
      "Train Epoch: 1 [4800/60000 (8%)]\tLoss: 0.234172\n",
      "Train Epoch: 1 [5120/60000 (9%)]\tLoss: 0.526702\n",
      "Train Epoch: 1 [5440/60000 (9%)]\tLoss: 0.429692\n",
      "Train Epoch: 1 [5760/60000 (10%)]\tLoss: 0.461097\n",
      "Train Epoch: 1 [6080/60000 (10%)]\tLoss: 0.884914\n",
      "Train Epoch: 1 [6400/60000 (11%)]\tLoss: 0.434885\n",
      "Train Epoch: 1 [6720/60000 (11%)]\tLoss: 0.315350\n",
      "Train Epoch: 1 [7040/60000 (12%)]\tLoss: 0.360749\n",
      "Train Epoch: 1 [7360/60000 (12%)]\tLoss: 0.348866\n",
      "Train Epoch: 1 [7680/60000 (13%)]\tLoss: 0.361742\n",
      "Train Epoch: 1 [8000/60000 (13%)]\tLoss: 0.388472\n",
      "Train Epoch: 1 [8320/60000 (14%)]\tLoss: 0.422414\n",
      "Train Epoch: 1 [8640/60000 (14%)]\tLoss: 0.493869\n",
      "Train Epoch: 1 [8960/60000 (15%)]\tLoss: 0.304426\n",
      "Train Epoch: 1 [9280/60000 (15%)]\tLoss: 0.163742\n",
      "Train Epoch: 1 [9600/60000 (16%)]\tLoss: 0.192996\n",
      "Train Epoch: 1 [9920/60000 (17%)]\tLoss: 0.327874\n",
      "Train Epoch: 1 [10240/60000 (17%)]\tLoss: 0.125876\n",
      "Train Epoch: 1 [10560/60000 (18%)]\tLoss: 0.406872\n",
      "Train Epoch: 1 [10880/60000 (18%)]\tLoss: 0.193155\n",
      "Train Epoch: 1 [11200/60000 (19%)]\tLoss: 0.404689\n",
      "Train Epoch: 1 [11520/60000 (19%)]\tLoss: 0.561336\n",
      "Train Epoch: 1 [11840/60000 (20%)]\tLoss: 0.099842\n",
      "Train Epoch: 1 [12160/60000 (20%)]\tLoss: 0.095993\n",
      "Train Epoch: 1 [12480/60000 (21%)]\tLoss: 0.374357\n",
      "Train Epoch: 1 [12800/60000 (21%)]\tLoss: 0.368063\n",
      "Train Epoch: 1 [13120/60000 (22%)]\tLoss: 0.233614\n",
      "Train Epoch: 1 [13440/60000 (22%)]\tLoss: 0.490324\n",
      "Train Epoch: 1 [13760/60000 (23%)]\tLoss: 0.376398\n",
      "Train Epoch: 1 [14080/60000 (23%)]\tLoss: 0.282401\n",
      "Train Epoch: 1 [14400/60000 (24%)]\tLoss: 0.211902\n",
      "Train Epoch: 1 [14720/60000 (25%)]\tLoss: 0.257408\n",
      "Train Epoch: 1 [15040/60000 (25%)]\tLoss: 0.365946\n",
      "Train Epoch: 1 [15360/60000 (26%)]\tLoss: 0.186456\n",
      "Train Epoch: 1 [15680/60000 (26%)]\tLoss: 0.370927\n",
      "Train Epoch: 1 [16000/60000 (27%)]\tLoss: 0.215926\n",
      "Train Epoch: 1 [16320/60000 (27%)]\tLoss: 0.097077\n",
      "Train Epoch: 1 [16640/60000 (28%)]\tLoss: 0.232138\n",
      "Train Epoch: 1 [16960/60000 (28%)]\tLoss: 0.696414\n",
      "Train Epoch: 1 [17280/60000 (29%)]\tLoss: 0.135584\n",
      "Train Epoch: 1 [17600/60000 (29%)]\tLoss: 0.324681\n",
      "Train Epoch: 1 [17920/60000 (30%)]\tLoss: 0.101354\n",
      "Train Epoch: 1 [18240/60000 (30%)]\tLoss: 0.044351\n",
      "Train Epoch: 1 [18560/60000 (31%)]\tLoss: 0.199610\n",
      "Train Epoch: 1 [18880/60000 (31%)]\tLoss: 0.085737\n",
      "Train Epoch: 1 [19200/60000 (32%)]\tLoss: 0.305030\n",
      "Train Epoch: 1 [19520/60000 (33%)]\tLoss: 0.196344\n",
      "Train Epoch: 1 [19840/60000 (33%)]\tLoss: 0.169046\n",
      "Train Epoch: 1 [20160/60000 (34%)]\tLoss: 0.763821\n",
      "Train Epoch: 1 [20480/60000 (34%)]\tLoss: 0.132750\n",
      "Train Epoch: 1 [20800/60000 (35%)]\tLoss: 0.261946\n",
      "Train Epoch: 1 [21120/60000 (35%)]\tLoss: 0.419803\n",
      "Train Epoch: 1 [21440/60000 (36%)]\tLoss: 0.087161\n",
      "Train Epoch: 1 [21760/60000 (36%)]\tLoss: 0.235987\n",
      "Train Epoch: 1 [22080/60000 (37%)]\tLoss: 0.286332\n",
      "Train Epoch: 1 [22400/60000 (37%)]\tLoss: 0.106816\n",
      "Train Epoch: 1 [22720/60000 (38%)]\tLoss: 0.200762\n",
      "Train Epoch: 1 [23040/60000 (38%)]\tLoss: 0.084366\n",
      "Train Epoch: 1 [23360/60000 (39%)]\tLoss: 0.052855\n",
      "Train Epoch: 1 [23680/60000 (39%)]\tLoss: 0.089071\n",
      "Train Epoch: 1 [24000/60000 (40%)]\tLoss: 0.473060\n",
      "Train Epoch: 1 [24320/60000 (41%)]\tLoss: 0.179017\n",
      "Train Epoch: 1 [24640/60000 (41%)]\tLoss: 0.041828\n",
      "Train Epoch: 1 [24960/60000 (42%)]\tLoss: 0.366929\n",
      "Train Epoch: 1 [25280/60000 (42%)]\tLoss: 0.221678\n",
      "Train Epoch: 1 [25600/60000 (43%)]\tLoss: 0.506402\n",
      "Train Epoch: 1 [25920/60000 (43%)]\tLoss: 0.237651\n",
      "Train Epoch: 1 [26240/60000 (44%)]\tLoss: 0.066576\n",
      "Train Epoch: 1 [26560/60000 (44%)]\tLoss: 0.184738\n",
      "Train Epoch: 1 [26880/60000 (45%)]\tLoss: 0.221159\n",
      "Train Epoch: 1 [27200/60000 (45%)]\tLoss: 0.140681\n",
      "Train Epoch: 1 [27520/60000 (46%)]\tLoss: 0.465564\n",
      "Train Epoch: 1 [27840/60000 (46%)]\tLoss: 0.176829\n",
      "Train Epoch: 1 [28160/60000 (47%)]\tLoss: 0.394040\n",
      "Train Epoch: 1 [28480/60000 (47%)]\tLoss: 0.087703\n",
      "Train Epoch: 1 [28800/60000 (48%)]\tLoss: 0.268303\n",
      "Train Epoch: 1 [29120/60000 (49%)]\tLoss: 0.252439\n",
      "Train Epoch: 1 [29440/60000 (49%)]\tLoss: 0.568376\n",
      "Train Epoch: 1 [29760/60000 (50%)]\tLoss: 0.086452\n",
      "Train Epoch: 1 [30080/60000 (50%)]\tLoss: 0.539276\n",
      "Train Epoch: 1 [30400/60000 (51%)]\tLoss: 0.248615\n",
      "Train Epoch: 1 [30720/60000 (51%)]\tLoss: 0.500802\n",
      "Train Epoch: 1 [31040/60000 (52%)]\tLoss: 0.050422\n",
      "Train Epoch: 1 [31360/60000 (52%)]\tLoss: 0.272126\n",
      "Train Epoch: 1 [31680/60000 (53%)]\tLoss: 0.272148\n",
      "Train Epoch: 1 [32000/60000 (53%)]\tLoss: 0.138092\n",
      "Train Epoch: 1 [32320/60000 (54%)]\tLoss: 0.133640\n",
      "Train Epoch: 1 [32640/60000 (54%)]\tLoss: 0.409191\n",
      "Train Epoch: 1 [32960/60000 (55%)]\tLoss: 0.090877\n",
      "Train Epoch: 1 [33280/60000 (55%)]\tLoss: 0.066834\n",
      "Train Epoch: 1 [33600/60000 (56%)]\tLoss: 0.151073\n",
      "Train Epoch: 1 [33920/60000 (57%)]\tLoss: 0.078507\n",
      "Train Epoch: 1 [34240/60000 (57%)]\tLoss: 0.148120\n",
      "Train Epoch: 1 [34560/60000 (58%)]\tLoss: 0.251623\n",
      "Train Epoch: 1 [34880/60000 (58%)]\tLoss: 0.147831\n",
      "Train Epoch: 1 [35200/60000 (59%)]\tLoss: 0.127373\n",
      "Train Epoch: 1 [35520/60000 (59%)]\tLoss: 0.164218\n",
      "Train Epoch: 1 [35840/60000 (60%)]\tLoss: 0.188229\n",
      "Train Epoch: 1 [36160/60000 (60%)]\tLoss: 0.111312\n",
      "Train Epoch: 1 [36480/60000 (61%)]\tLoss: 0.072563\n",
      "Train Epoch: 1 [36800/60000 (61%)]\tLoss: 0.360797\n",
      "Train Epoch: 1 [37120/60000 (62%)]\tLoss: 0.120393\n",
      "Train Epoch: 1 [37440/60000 (62%)]\tLoss: 0.085073\n",
      "Train Epoch: 1 [37760/60000 (63%)]\tLoss: 0.197531\n",
      "Train Epoch: 1 [38080/60000 (63%)]\tLoss: 0.274391\n",
      "Train Epoch: 1 [38400/60000 (64%)]\tLoss: 0.328965\n",
      "Train Epoch: 1 [38720/60000 (65%)]\tLoss: 0.233338\n",
      "Train Epoch: 1 [39040/60000 (65%)]\tLoss: 0.178239\n",
      "Train Epoch: 1 [39360/60000 (66%)]\tLoss: 0.356059\n",
      "Train Epoch: 1 [39680/60000 (66%)]\tLoss: 0.054793\n",
      "Train Epoch: 1 [40000/60000 (67%)]\tLoss: 0.254572\n",
      "Train Epoch: 1 [40320/60000 (67%)]\tLoss: 0.053924\n",
      "Train Epoch: 1 [40640/60000 (68%)]\tLoss: 0.089516\n",
      "Train Epoch: 1 [40960/60000 (68%)]\tLoss: 0.113455\n",
      "Train Epoch: 1 [41280/60000 (69%)]\tLoss: 0.173560\n",
      "Train Epoch: 1 [41600/60000 (69%)]\tLoss: 0.077190\n",
      "Train Epoch: 1 [41920/60000 (70%)]\tLoss: 0.104430\n",
      "Train Epoch: 1 [42240/60000 (70%)]\tLoss: 0.226045\n",
      "Train Epoch: 1 [42560/60000 (71%)]\tLoss: 0.252418\n",
      "Train Epoch: 1 [42880/60000 (71%)]\tLoss: 0.156559\n",
      "Train Epoch: 1 [43200/60000 (72%)]\tLoss: 0.048626\n",
      "Train Epoch: 1 [43520/60000 (73%)]\tLoss: 0.103335\n",
      "Train Epoch: 1 [43840/60000 (73%)]\tLoss: 0.047389\n",
      "Train Epoch: 1 [44160/60000 (74%)]\tLoss: 0.191461\n",
      "Train Epoch: 1 [44480/60000 (74%)]\tLoss: 0.074708\n",
      "Train Epoch: 1 [44800/60000 (75%)]\tLoss: 0.078995\n",
      "Train Epoch: 1 [45120/60000 (75%)]\tLoss: 0.134991\n",
      "Train Epoch: 1 [45440/60000 (76%)]\tLoss: 0.092209\n",
      "Train Epoch: 1 [45760/60000 (76%)]\tLoss: 0.248077\n",
      "Train Epoch: 1 [46080/60000 (77%)]\tLoss: 0.077255\n",
      "Train Epoch: 1 [46400/60000 (77%)]\tLoss: 0.108692\n",
      "Train Epoch: 1 [46720/60000 (78%)]\tLoss: 0.239519\n",
      "Train Epoch: 1 [47040/60000 (78%)]\tLoss: 0.073191\n",
      "Train Epoch: 1 [47360/60000 (79%)]\tLoss: 0.074761\n",
      "Train Epoch: 1 [47680/60000 (79%)]\tLoss: 0.114877\n",
      "Train Epoch: 1 [48000/60000 (80%)]\tLoss: 0.265434\n",
      "Train Epoch: 1 [48320/60000 (81%)]\tLoss: 0.057140\n",
      "Train Epoch: 1 [48640/60000 (81%)]\tLoss: 0.046233\n",
      "Train Epoch: 1 [48960/60000 (82%)]\tLoss: 0.074995\n",
      "Train Epoch: 1 [49280/60000 (82%)]\tLoss: 0.250894\n",
      "Train Epoch: 1 [49600/60000 (83%)]\tLoss: 0.251563\n",
      "Train Epoch: 1 [49920/60000 (83%)]\tLoss: 0.168186\n",
      "Train Epoch: 1 [50240/60000 (84%)]\tLoss: 0.181522\n",
      "Train Epoch: 1 [50560/60000 (84%)]\tLoss: 0.034399\n",
      "Train Epoch: 1 [50880/60000 (85%)]\tLoss: 0.083531\n",
      "Train Epoch: 1 [51200/60000 (85%)]\tLoss: 0.302425\n",
      "Train Epoch: 1 [51520/60000 (86%)]\tLoss: 0.083134\n",
      "Train Epoch: 1 [51840/60000 (86%)]\tLoss: 0.179731\n",
      "Train Epoch: 1 [52160/60000 (87%)]\tLoss: 0.077804\n",
      "Train Epoch: 1 [52480/60000 (87%)]\tLoss: 0.223186\n",
      "Train Epoch: 1 [52800/60000 (88%)]\tLoss: 0.373547\n",
      "Train Epoch: 1 [53120/60000 (89%)]\tLoss: 0.072238\n",
      "Train Epoch: 1 [53440/60000 (89%)]\tLoss: 0.052868\n",
      "Train Epoch: 1 [53760/60000 (90%)]\tLoss: 0.186263\n",
      "Train Epoch: 1 [54080/60000 (90%)]\tLoss: 0.112256\n",
      "Train Epoch: 1 [54400/60000 (91%)]\tLoss: 0.160115\n",
      "Train Epoch: 1 [54720/60000 (91%)]\tLoss: 0.103834\n",
      "Train Epoch: 1 [55040/60000 (92%)]\tLoss: 0.284428\n",
      "Train Epoch: 1 [55360/60000 (92%)]\tLoss: 0.177261\n",
      "Train Epoch: 1 [55680/60000 (93%)]\tLoss: 0.446088\n",
      "Train Epoch: 1 [56000/60000 (93%)]\tLoss: 0.312564\n",
      "Train Epoch: 1 [56320/60000 (94%)]\tLoss: 0.083320\n",
      "Train Epoch: 1 [56640/60000 (94%)]\tLoss: 0.014538\n",
      "Train Epoch: 1 [56960/60000 (95%)]\tLoss: 0.199117\n",
      "Train Epoch: 1 [57280/60000 (95%)]\tLoss: 0.170759\n",
      "Train Epoch: 1 [57600/60000 (96%)]\tLoss: 0.043444\n",
      "Train Epoch: 1 [57920/60000 (97%)]\tLoss: 0.100099\n",
      "Train Epoch: 1 [58240/60000 (97%)]\tLoss: 0.258251\n",
      "Train Epoch: 1 [58560/60000 (98%)]\tLoss: 0.117923\n",
      "Train Epoch: 1 [58880/60000 (98%)]\tLoss: 0.018177\n",
      "Train Epoch: 1 [59200/60000 (99%)]\tLoss: 0.127298\n",
      "Train Epoch: 1 [59520/60000 (99%)]\tLoss: 0.053705\n",
      "Train Epoch: 1 [59840/60000 (100%)]\tLoss: 0.269255\n"
     ]
    },
    {
     "name": "stderr",
     "output_type": "stream",
     "text": [
      "/usr/local/lib/python3.10/dist-packages/torch/nn/_reduction.py:51: UserWarning: size_average and reduce args will be deprecated, please use reduction='sum' instead.\n",
      "  warnings.warn(warning.format(ret))\n"
     ]
    },
    {
     "name": "stdout",
     "output_type": "stream",
     "text": [
      "\n",
      "Test set: Average loss: 0.1250, Accuracy: 9614/10000 (96%)\n",
      "\n"
     ]
    }
   ],
   "source": [
    "model = Net()\n",
    "if args['cuda']:\n",
    "    model.cuda()\n",
    "\n",
    "optimizer = optim.SGD(model.parameters(), lr=args['lr'], momentum=args['momentum'])\n",
    "\n",
    "for epoch in range(1, args['epochs'] + 1):\n",
    "    train(epoch)\n",
    "    test()"
   ]
  },
  {
   "cell_type": "code",
   "execution_count": 12,
   "metadata": {
    "id": "9m3--4A-nDL-"
   },
   "outputs": [],
   "source": []
  }
 ],
 "metadata": {
  "accelerator": "GPU",
  "colab": {
   "gpuType": "T4",
   "provenance": []
  },
  "kernelspec": {
   "display_name": "Python 3 (ipykernel)",
   "language": "python",
   "name": "python3"
  },
  "language_info": {
   "codemirror_mode": {
    "name": "ipython",
    "version": 3
   },
   "file_extension": ".py",
   "mimetype": "text/x-python",
   "name": "python",
   "nbconvert_exporter": "python",
   "pygments_lexer": "ipython3",
   "version": "3.9.0"
  }
 },
 "nbformat": 4,
 "nbformat_minor": 4
}
