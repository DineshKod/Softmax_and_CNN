{
  "nbformat": 4,
  "nbformat_minor": 0,
  "metadata": {
    "colab": {
      "provenance": [],
      "gpuType": "T4"
    },
    "kernelspec": {
      "name": "python3",
      "display_name": "Python 3"
    },
    "accelerator": "GPU"
  },
  "cells": [
    {
      "cell_type": "markdown",
      "metadata": {
        "id": "9XHd5ExbUIUg"
      },
      "source": [
        "# Pytorch with the MNIST Dataset - MINST"
      ]
    },
    {
      "cell_type": "code",
      "metadata": {
        "id": "Su0COdCqT2Wk"
      },
      "source": [
        "## import libraries\n",
        "from __future__ import print_function\n",
        "import argparse\n",
        "import torch\n",
        "import torch.nn as nn\n",
        "import torch.nn.functional as F\n",
        "import torchvision\n",
        "\n",
        "import torch.optim as optim\n",
        "from torchvision import datasets, transforms\n",
        "from torch.autograd import Variable"
      ],
      "execution_count": 34,
      "outputs": []
    },
    {
      "cell_type": "code",
      "metadata": {
        "id": "rXCYmmjyVRq5",
        "outputId": "70bb5b86-d753-4210-9e76-dabaef25e3a0",
        "colab": {
          "base_uri": "https://localhost:8080/"
        }
      },
      "source": [
        "print(torch.__version__)"
      ],
      "execution_count": 35,
      "outputs": [
        {
          "output_type": "stream",
          "name": "stdout",
          "text": [
            "2.5.0+cu121\n"
          ]
        }
      ]
    },
    {
      "cell_type": "code",
      "source": [
        "args={}\n",
        "kwargs={}\n",
        "args['batch_size']=64\n",
        "args['test_batch_size']=64\n",
        "args['epochs']=4  #The number of Epochs is the number of times you go through the full dataset.\n",
        "args['lr']=0.01 #Learning rate is how fast it will decend.\n",
        "args['momentum']=0.5 #SGD momentum (default: 0.5) Momentum is a moving average of our gradients (helps to keep direction).\n",
        "\n",
        "args['seed']=1 #random seed\n",
        "args['log_interval']=10\n",
        "args['cuda']=True #if the computer has a GPU, type True, otherwise, False"
      ],
      "metadata": {
        "id": "Fp3VqwxU9teg"
      },
      "execution_count": 36,
      "outputs": []
    },
    {
      "cell_type": "markdown",
      "source": [
        "This code is adopted from the pytorch examples repository. It is licensed under BSD 3-Clause \"New\" or \"Revised\" License. Source: https://github.com/pytorch/examples/ LICENSE: https://github.com/pytorch/examples/blob/master/LICENSE"
      ],
      "metadata": {
        "id": "ys8268Yr6sAC"
      }
    },
    {
      "cell_type": "markdown",
      "metadata": {
        "id": "hhuQyU7AYE6K"
      },
      "source": [
        "## Load Dataset\n",
        "The first step before training the model is to import the data. We will use the [MNIST dataset](http://yann.lecun.com/exdb/mnist/) which is like the Hello World dataset of machine learning.\n",
        "\n",
        "Besides importing the data, we will also do a few more things:\n",
        "- We will tranform the data into tensors using the `transforms` module\n",
        "- We will use `DataLoader` to build convenient data loaders or what are referred to as iterators, which makes it easy to efficiently feed data in batches to deep learning models.\n",
        "- As hinted above, we will also create batches of the data by setting the `batch` parameter inside the data loader. Notice we use batches of `32` in this tutorial but you can change it to `64` if you like. I encourage you to experiment with different batches."
      ]
    },
    {
      "cell_type": "code",
      "metadata": {
        "id": "tSjjLXrOVWBy"
      },
      "source": [
        "## transformations\n",
        "transform = transforms.Compose([\n",
        "                       transforms.ToTensor(),\n",
        "                       transforms.Normalize((0.1307,), (0.3081,))\n",
        "                   ])\n",
        "\n",
        "## download and load training dataset\n",
        "trainset = datasets.MNIST(root='../data', train=True, download=True, transform=transform)\n",
        "train_loader = torch.utils.data.DataLoader(trainset, batch_size=args['batch_size'], shuffle=True, **kwargs)\n",
        "\n",
        "## download and load testing dataset\n",
        "testset = torchvision.datasets.MNIST(root='./data', train=False, download=True, transform=transform)\n",
        "test_loader = torch.utils.data.DataLoader(testset, batch_size=args['test_batch_size'], shuffle=True, **kwargs)"
      ],
      "execution_count": 37,
      "outputs": []
    },
    {
      "cell_type": "markdown",
      "metadata": {
        "id": "0nZwZukWXUDn"
      },
      "source": [
        "## Exploring the Data\n",
        "As a practioner and researcher, I am always spending a bit of time and effort exploring and understanding the dataset. It's fun and this is a good practise to ensure that everything is in order."
      ]
    },
    {
      "cell_type": "markdown",
      "metadata": {
        "id": "NW_loWKga7CH"
      },
      "source": [
        "Let's check what the train and test dataset contains. I will use `matplotlib` to print out some of the images from our dataset."
      ]
    },
    {
      "cell_type": "code",
      "metadata": {
        "id": "zWd9Pt1Ca6K9",
        "colab": {
          "base_uri": "https://localhost:8080/",
          "height": 452
        },
        "outputId": "d8ab28b4-5449-417d-fdad-7670dd6fc0fa"
      },
      "source": [
        "import matplotlib.pyplot as plt\n",
        "import numpy as np\n",
        "\n",
        "## functions to show an image\n",
        "def imshow(img):\n",
        "    #img = img / 2 + 0.5     # unnormalize\n",
        "    npimg = img.numpy()\n",
        "    plt.imshow(np.transpose(npimg, (1, 2, 0)))\n",
        "\n",
        "## get some random training images\n",
        "dataiter = iter(train_loader)\n",
        "images, labels = next(dataiter)\n",
        "\n",
        "## show images\n",
        "imshow(torchvision.utils.make_grid(images))"
      ],
      "execution_count": 38,
      "outputs": [
        {
          "output_type": "stream",
          "name": "stderr",
          "text": [
            "WARNING:matplotlib.image:Clipping input data to the valid range for imshow with RGB data ([0..1] for floats or [0..255] for integers).\n"
          ]
        },
        {
          "output_type": "display_data",
          "data": {
            "text/plain": [
              "<Figure size 640x480 with 1 Axes>"
            ],
            "image/png": "[encoded data removed]"
          },
          "metadata": {}
        }
      ]
    },
    {
      "cell_type": "markdown",
      "metadata": {
        "id": "d9mXAVmRvhrq"
      },
      "source": [
        "Let's check the dimensions of a batch."
      ]
    },
    {
      "cell_type": "code",
      "metadata": {
        "id": "cNFKWz1GZ4R5",
        "colab": {
          "base_uri": "https://localhost:8080/"
        },
        "outputId": "d02ba41d-4a00-4354-9ec1-ec64822c14bf"
      },
      "source": [
        "for images, labels in train_loader:\n",
        "    print(\"Image batch dimensions:\", images.shape)\n",
        "    print(\"Image label dimensions:\", labels.shape)\n",
        "    break"
      ],
      "execution_count": 39,
      "outputs": [
        {
          "output_type": "stream",
          "name": "stdout",
          "text": [
            "Image batch dimensions: torch.Size([64, 1, 28, 28])\n",
            "Image label dimensions: torch.Size([64])\n"
          ]
        }
      ]
    },
    {
      "cell_type": "markdown",
      "metadata": {
        "id": "tmaCTw5tXowR"
      },
      "source": [
        "## The Model\n",
        "We provide two fully-connected neural net as the initial architecture.\n",
        "\n",
        "Here are a few notes for those who are beginning with PyTorch:\n",
        "- The model below consists of an `__init__()` portion which is where you include the layers and components of the neural network. In our model, we have two fully-connected netork network. We are dealing with an image dataset that is in a grayscale so we only need one channel going in, hence `in_channels=1`.\n",
        "\n",
        "- After the first layer, we also apply an activation function such as `ReLU`. For prediction purposes, we then apply a `softmax` layer to the last transformation and return the output of that.  "
      ]
    },
    {
      "cell_type": "code",
      "metadata": {
        "id": "_IYnV4ZBa3cJ"
      },
      "source": [
        "class Net(nn.Module):\n",
        "    #This defines the structure of the NN.\n",
        "    def __init__(self):\n",
        "        super(Net, self).__init__()\n",
        "        self.conv1 = nn.Conv2d(1, 25, 3) #1x28x28 --> 25x26x26\n",
        "        self.pool = nn.MaxPool2d(2, 2) #25x26x26 --> 25x13x13\n",
        "        self.conv2 = nn.Conv2d(25, 50, 3) #25x13x13 --> 50x11x11\n",
        "        self.pool2 = nn.MaxPool2d(2, 2) #50x11x11 --> 50x5x5\n",
        "        self.fc1 = nn.Linear(50 * 5 * 5, 256)\n",
        "        self.fc2 = nn.Linear(256, 10)\n",
        "\n",
        "    def forward(self, x):\n",
        "        x = F.relu(self.conv1(x))\n",
        "        x = self.pool(x)\n",
        "        x = F.relu(self.conv2(x))\n",
        "        x = self.pool2(x)\n",
        "        x=x.view(-1, 50 * 5 * 5)\n",
        "        x = F.relu(self.fc1(x))\n",
        "        x = self.fc2(x)\n",
        "        #Softmax gets probabilities.\n",
        "        return F.log_softmax(x, dim=1)\n"
      ],
      "execution_count": 40,
      "outputs": []
    },
    {
      "cell_type": "markdown",
      "source": [
        "**Now, add one CNN layer with a pooling to the above neural network and rerun the code to see whether you get higher prediction accuracy on the test set.**\n",
        "\n",
        "For example, you may try `out_channels=32`. Kernel size is 5, and for the rest of parameters we use the default values which you can find [here](https://pytorch.org/docs/stable/nn.html?highlight=conv2d#conv2d).\n",
        "\n",
        "- In short, the convolutional layer transforms the input data into a specific dimension that has to be considered in the linear layer.\n",
        "\n",
        "Make sure your flatten the output of CNN layer excluding # of batch so that the input of each example/batch has the same size of the first neural net.\n",
        "\n",
        "Tips: You can use x.view(-1, # of input size of the first fully-connected layer) or you can use torch.flatten(x, 1)."
      ],
      "metadata": {
        "id": "ZqgR0prhZD3z"
      }
    },
    {
      "cell_type": "markdown",
      "metadata": {
        "id": "evsFbkq_X6bc"
      },
      "source": [
        "I always encourage to test the model with 1 batch to ensure that the output dimensions are what we expect."
      ]
    },
    {
      "cell_type": "code",
      "source": [],
      "metadata": {
        "id": "tRkFvePEZCHd"
      },
      "execution_count": 40,
      "outputs": []
    },
    {
      "cell_type": "code",
      "metadata": {
        "id": "1poxFYqftKov",
        "colab": {
          "base_uri": "https://localhost:8080/"
        },
        "outputId": "d0ad5e9d-cb67-423a-9e4e-97d19e507a3b"
      },
      "source": [
        "## test the model with 1 batch\n",
        "model = Net()\n",
        "#print(model)\n",
        "for images, labels in train_loader:\n",
        "    print(\"batch size:\", args['batch_size'])\n",
        "    out = model(images)\n",
        "    print(out.shape)\n",
        "    break"
      ],
      "execution_count": 41,
      "outputs": [
        {
          "output_type": "stream",
          "name": "stdout",
          "text": [
            "batch size: 64\n",
            "torch.Size([64, 10])\n"
          ]
        }
      ]
    },
    {
      "cell_type": "markdown",
      "metadata": {
        "id": "9h_3eZQRHV_P"
      },
      "source": [
        "## Training the Model\n",
        "Now we are ready to train the model."
      ]
    },
    {
      "cell_type": "code",
      "metadata": {
        "id": "E59hwZlAIVcL"
      },
      "source": [
        "def train(epoch):\n",
        "    model.train()\n",
        "    for batch_idx, (data, target) in enumerate(train_loader):\n",
        "        if args['cuda']:\n",
        "            data, target = data.cuda(), target.cuda()\n",
        "        #Variables in Pytorch are differenciable.\n",
        "        data, target = Variable(data), Variable(target)\n",
        "        #This will zero out the gradients for this batch.\n",
        "        optimizer.zero_grad()\n",
        "        output = model(data)\n",
        "        # Calculate the loss The negative log likelihood loss. It is useful to train a classification problem with C classes.\n",
        "        loss = F.nll_loss(output, target)\n",
        "        #dloss/dx for every Variable\n",
        "        loss.backward()\n",
        "        #to do a one-step update on our parameter.\n",
        "        optimizer.step()\n",
        "        #Print out the loss periodically.\n",
        "        if batch_idx % args['log_interval'] == 0:\n",
        "            print('Train Epoch: {} [{}/{} ({:.0f}%)]\\tLoss: {:.6f}'.format(\n",
        "                epoch, batch_idx * len(data), len(train_loader.dataset),\n",
        "                100. * batch_idx / len(train_loader), loss.data.item()))"
      ],
      "execution_count": 42,
      "outputs": []
    },
    {
      "cell_type": "code",
      "source": [
        "def test():\n",
        "    model.eval()\n",
        "    test_loss = 0\n",
        "    correct = 0\n",
        "\n",
        "    with torch.no_grad():\n",
        "      for data, target in test_loader:\n",
        "          if args['cuda']:\n",
        "              data, target = data.cuda(), target.cuda()\n",
        "          data, target = Variable(data), Variable(target)\n",
        "          output = model(data)\n",
        "          test_loss += F.nll_loss(output, target, size_average=False).data.item() # sum up batch loss\n",
        "          pred = output.data.max(1, keepdim=True)[1] # get the index of the max log-probability\n",
        "          correct += pred.eq(target.data.view_as(pred)).long().cpu().sum()\n",
        "\n",
        "    test_loss /= len(test_loader.dataset)\n",
        "    print('\\nTest set: Average loss: {:.4f}, Accuracy: {}/{} ({:.0f}%)\\n'.format(\n",
        "        test_loss, correct, len(test_loader.dataset),\n",
        "        100. * correct / len(test_loader.dataset)))"
      ],
      "metadata": {
        "id": "dmoO9DlN_Ir6"
      },
      "execution_count": 43,
      "outputs": []
    },
    {
      "cell_type": "code",
      "source": [
        "model = Net()\n",
        "if args['cuda']:\n",
        "    model.cuda()\n",
        "\n",
        "optimizer = optim.SGD(model.parameters(), lr=args['lr'], momentum=args['momentum'])\n",
        "\n",
        "for epoch in range(1, args['epochs'] + 1):\n",
        "    train(epoch)\n",
        "    test()"
      ],
      "metadata": {
        "id": "PQcWwu_A_2gx",
        "colab": {
          "base_uri": "https://localhost:8080/"
        },
        "outputId": "dfe9dce2-69c1-462b-eb44-43422178d8bf"
      },
      "execution_count": 44,
      "outputs": [
        {
          "output_type": "stream",
          "name": "stdout",
          "text": [
            "Train Epoch: 1 [0/60000 (0%)]\tLoss: 2.310290\n",
            "Train Epoch: 1 [640/60000 (1%)]\tLoss: 2.262322\n",
            "Train Epoch: 1 [1280/60000 (2%)]\tLoss: 2.225270\n",
            "Train Epoch: 1 [1920/60000 (3%)]\tLoss: 2.124628\n",
            "Train Epoch: 1 [2560/60000 (4%)]\tLoss: 2.010266\n",
            "Train Epoch: 1 [3200/60000 (5%)]\tLoss: 1.779184\n",
            "Train Epoch: 1 [3840/60000 (6%)]\tLoss: 1.467921\n",
            "Train Epoch: 1 [4480/60000 (7%)]\tLoss: 1.078312\n",
            "Train Epoch: 1 [5120/60000 (9%)]\tLoss: 0.959186\n",
            "Train Epoch: 1 [5760/60000 (10%)]\tLoss: 0.730771\n",
            "Train Epoch: 1 [6400/60000 (11%)]\tLoss: 0.646424\n",
            "Train Epoch: 1 [7040/60000 (12%)]\tLoss: 0.495244\n",
            "Train Epoch: 1 [7680/60000 (13%)]\tLoss: 0.500627\n",
            "Train Epoch: 1 [8320/60000 (14%)]\tLoss: 0.522853\n",
            "Train Epoch: 1 [8960/60000 (15%)]\tLoss: 0.443932\n",
            "Train Epoch: 1 [9600/60000 (16%)]\tLoss: 0.767771\n",
            "Train Epoch: 1 [10240/60000 (17%)]\tLoss: 0.513637\n",
            "Train Epoch: 1 [10880/60000 (18%)]\tLoss: 0.424385\n",
            "Train Epoch: 1 [11520/60000 (19%)]\tLoss: 0.581964\n",
            "Train Epoch: 1 [12160/60000 (20%)]\tLoss: 0.366287\n",
            "Train Epoch: 1 [12800/60000 (21%)]\tLoss: 0.342641\n",
            "Train Epoch: 1 [13440/60000 (22%)]\tLoss: 0.335562\n",
            "Train Epoch: 1 [14080/60000 (23%)]\tLoss: 0.326673\n",
            "Train Epoch: 1 [14720/60000 (25%)]\tLoss: 0.410334\n",
            "Train Epoch: 1 [15360/60000 (26%)]\tLoss: 0.250433\n",
            "Train Epoch: 1 [16000/60000 (27%)]\tLoss: 0.269494\n",
            "Train Epoch: 1 [16640/60000 (28%)]\tLoss: 0.437953\n",
            "Train Epoch: 1 [17280/60000 (29%)]\tLoss: 0.265003\n",
            "Train Epoch: 1 [17920/60000 (30%)]\tLoss: 0.356341\n",
            "Train Epoch: 1 [18560/60000 (31%)]\tLoss: 0.356870\n",
            "Train Epoch: 1 [19200/60000 (32%)]\tLoss: 0.297214\n",
            "Train Epoch: 1 [19840/60000 (33%)]\tLoss: 0.273477\n",
            "Train Epoch: 1 [20480/60000 (34%)]\tLoss: 0.228298\n",
            "Train Epoch: 1 [21120/60000 (35%)]\tLoss: 0.407134\n",
            "Train Epoch: 1 [21760/60000 (36%)]\tLoss: 0.216941\n",
            "Train Epoch: 1 [22400/60000 (37%)]\tLoss: 0.265053\n",
            "Train Epoch: 1 [23040/60000 (38%)]\tLoss: 0.468117\n",
            "Train Epoch: 1 [23680/60000 (39%)]\tLoss: 0.110433\n",
            "Train Epoch: 1 [24320/60000 (41%)]\tLoss: 0.277456\n",
            "Train Epoch: 1 [24960/60000 (42%)]\tLoss: 0.149585\n",
            "Train Epoch: 1 [25600/60000 (43%)]\tLoss: 0.256529\n",
            "Train Epoch: 1 [26240/60000 (44%)]\tLoss: 0.238999\n",
            "Train Epoch: 1 [26880/60000 (45%)]\tLoss: 0.142701\n",
            "Train Epoch: 1 [27520/60000 (46%)]\tLoss: 0.333421\n",
            "Train Epoch: 1 [28160/60000 (47%)]\tLoss: 0.247018\n",
            "Train Epoch: 1 [28800/60000 (48%)]\tLoss: 0.115171\n",
            "Train Epoch: 1 [29440/60000 (49%)]\tLoss: 0.195214\n",
            "Train Epoch: 1 [30080/60000 (50%)]\tLoss: 0.263242\n",
            "Train Epoch: 1 [30720/60000 (51%)]\tLoss: 0.163480\n",
            "Train Epoch: 1 [31360/60000 (52%)]\tLoss: 0.132696\n",
            "Train Epoch: 1 [32000/60000 (53%)]\tLoss: 0.046534\n",
            "Train Epoch: 1 [32640/60000 (54%)]\tLoss: 0.145327\n",
            "Train Epoch: 1 [33280/60000 (55%)]\tLoss: 0.161495\n",
            "Train Epoch: 1 [33920/60000 (57%)]\tLoss: 0.192107\n",
            "Train Epoch: 1 [34560/60000 (58%)]\tLoss: 0.432752\n",
            "Train Epoch: 1 [35200/60000 (59%)]\tLoss: 0.194782\n",
            "Train Epoch: 1 [35840/60000 (60%)]\tLoss: 0.231938\n",
            "Train Epoch: 1 [36480/60000 (61%)]\tLoss: 0.142656\n",
            "Train Epoch: 1 [37120/60000 (62%)]\tLoss: 0.204709\n",
            "Train Epoch: 1 [37760/60000 (63%)]\tLoss: 0.211511\n",
            "Train Epoch: 1 [38400/60000 (64%)]\tLoss: 0.257479\n",
            "Train Epoch: 1 [39040/60000 (65%)]\tLoss: 0.317409\n",
            "Train Epoch: 1 [39680/60000 (66%)]\tLoss: 0.167790\n",
            "Train Epoch: 1 [40320/60000 (67%)]\tLoss: 0.368932\n",
            "Train Epoch: 1 [40960/60000 (68%)]\tLoss: 0.329994\n",
            "Train Epoch: 1 [41600/60000 (69%)]\tLoss: 0.168853\n",
            "Train Epoch: 1 [42240/60000 (70%)]\tLoss: 0.172175\n",
            "Train Epoch: 1 [42880/60000 (71%)]\tLoss: 0.187838\n",
            "Train Epoch: 1 [43520/60000 (72%)]\tLoss: 0.193311\n",
            "Train Epoch: 1 [44160/60000 (74%)]\tLoss: 0.260555\n",
            "Train Epoch: 1 [44800/60000 (75%)]\tLoss: 0.131694\n",
            "Train Epoch: 1 [45440/60000 (76%)]\tLoss: 0.112592\n",
            "Train Epoch: 1 [46080/60000 (77%)]\tLoss: 0.273119\n",
            "Train Epoch: 1 [46720/60000 (78%)]\tLoss: 0.084817\n",
            "Train Epoch: 1 [47360/60000 (79%)]\tLoss: 0.175922\n",
            "Train Epoch: 1 [48000/60000 (80%)]\tLoss: 0.104876\n",
            "Train Epoch: 1 [48640/60000 (81%)]\tLoss: 0.119753\n",
            "Train Epoch: 1 [49280/60000 (82%)]\tLoss: 0.079644\n",
            "Train Epoch: 1 [49920/60000 (83%)]\tLoss: 0.113853\n",
            "Train Epoch: 1 [50560/60000 (84%)]\tLoss: 0.182776\n",
            "Train Epoch: 1 [51200/60000 (85%)]\tLoss: 0.158980\n",
            "Train Epoch: 1 [51840/60000 (86%)]\tLoss: 0.120745\n",
            "Train Epoch: 1 [52480/60000 (87%)]\tLoss: 0.320576\n",
            "Train Epoch: 1 [53120/60000 (88%)]\tLoss: 0.172963\n",
            "Train Epoch: 1 [53760/60000 (90%)]\tLoss: 0.293139\n",
            "Train Epoch: 1 [54400/60000 (91%)]\tLoss: 0.070900\n",
            "Train Epoch: 1 [55040/60000 (92%)]\tLoss: 0.148508\n",
            "Train Epoch: 1 [55680/60000 (93%)]\tLoss: 0.146704\n",
            "Train Epoch: 1 [56320/60000 (94%)]\tLoss: 0.135653\n",
            "Train Epoch: 1 [56960/60000 (95%)]\tLoss: 0.082811\n",
            "Train Epoch: 1 [57600/60000 (96%)]\tLoss: 0.064278\n",
            "Train Epoch: 1 [58240/60000 (97%)]\tLoss: 0.065956\n",
            "Train Epoch: 1 [58880/60000 (98%)]\tLoss: 0.201780\n",
            "Train Epoch: 1 [59520/60000 (99%)]\tLoss: 0.054932\n",
            "\n",
            "Test set: Average loss: 0.1102, Accuracy: 9684/10000 (97%)\n",
            "\n",
            "Train Epoch: 2 [0/60000 (0%)]\tLoss: 0.054968\n",
            "Train Epoch: 2 [640/60000 (1%)]\tLoss: 0.176135\n",
            "Train Epoch: 2 [1280/60000 (2%)]\tLoss: 0.103041\n",
            "Train Epoch: 2 [1920/60000 (3%)]\tLoss: 0.142515\n",
            "Train Epoch: 2 [2560/60000 (4%)]\tLoss: 0.125062\n",
            "Train Epoch: 2 [3200/60000 (5%)]\tLoss: 0.063094\n",
            "Train Epoch: 2 [3840/60000 (6%)]\tLoss: 0.118075\n",
            "Train Epoch: 2 [4480/60000 (7%)]\tLoss: 0.114841\n",
            "Train Epoch: 2 [5120/60000 (9%)]\tLoss: 0.132499\n",
            "Train Epoch: 2 [5760/60000 (10%)]\tLoss: 0.121277\n",
            "Train Epoch: 2 [6400/60000 (11%)]\tLoss: 0.080990\n",
            "Train Epoch: 2 [7040/60000 (12%)]\tLoss: 0.242820\n",
            "Train Epoch: 2 [7680/60000 (13%)]\tLoss: 0.115940\n",
            "Train Epoch: 2 [8320/60000 (14%)]\tLoss: 0.033417\n",
            "Train Epoch: 2 [8960/60000 (15%)]\tLoss: 0.034589\n",
            "Train Epoch: 2 [9600/60000 (16%)]\tLoss: 0.163328\n",
            "Train Epoch: 2 [10240/60000 (17%)]\tLoss: 0.240179\n",
            "Train Epoch: 2 [10880/60000 (18%)]\tLoss: 0.068028\n",
            "Train Epoch: 2 [11520/60000 (19%)]\tLoss: 0.173858\n",
            "Train Epoch: 2 [12160/60000 (20%)]\tLoss: 0.180468\n",
            "Train Epoch: 2 [12800/60000 (21%)]\tLoss: 0.173813\n",
            "Train Epoch: 2 [13440/60000 (22%)]\tLoss: 0.133358\n",
            "Train Epoch: 2 [14080/60000 (23%)]\tLoss: 0.106114\n",
            "Train Epoch: 2 [14720/60000 (25%)]\tLoss: 0.072502\n",
            "Train Epoch: 2 [15360/60000 (26%)]\tLoss: 0.094057\n",
            "Train Epoch: 2 [16000/60000 (27%)]\tLoss: 0.182190\n",
            "Train Epoch: 2 [16640/60000 (28%)]\tLoss: 0.130740\n",
            "Train Epoch: 2 [17280/60000 (29%)]\tLoss: 0.121383\n",
            "Train Epoch: 2 [17920/60000 (30%)]\tLoss: 0.067210\n",
            "Train Epoch: 2 [18560/60000 (31%)]\tLoss: 0.078405\n",
            "Train Epoch: 2 [19200/60000 (32%)]\tLoss: 0.193340\n",
            "Train Epoch: 2 [19840/60000 (33%)]\tLoss: 0.205501\n",
            "Train Epoch: 2 [20480/60000 (34%)]\tLoss: 0.057438\n",
            "Train Epoch: 2 [21120/60000 (35%)]\tLoss: 0.023929\n",
            "Train Epoch: 2 [21760/60000 (36%)]\tLoss: 0.187970\n",
            "Train Epoch: 2 [22400/60000 (37%)]\tLoss: 0.033818\n",
            "Train Epoch: 2 [23040/60000 (38%)]\tLoss: 0.071959\n",
            "Train Epoch: 2 [23680/60000 (39%)]\tLoss: 0.133360\n",
            "Train Epoch: 2 [24320/60000 (41%)]\tLoss: 0.048229\n",
            "Train Epoch: 2 [24960/60000 (42%)]\tLoss: 0.095669\n",
            "Train Epoch: 2 [25600/60000 (43%)]\tLoss: 0.078624\n",
            "Train Epoch: 2 [26240/60000 (44%)]\tLoss: 0.052641\n",
            "Train Epoch: 2 [26880/60000 (45%)]\tLoss: 0.084596\n",
            "Train Epoch: 2 [27520/60000 (46%)]\tLoss: 0.048852\n",
            "Train Epoch: 2 [28160/60000 (47%)]\tLoss: 0.026282\n",
            "Train Epoch: 2 [28800/60000 (48%)]\tLoss: 0.099626\n",
            "Train Epoch: 2 [29440/60000 (49%)]\tLoss: 0.205440\n",
            "Train Epoch: 2 [30080/60000 (50%)]\tLoss: 0.053512\n",
            "Train Epoch: 2 [30720/60000 (51%)]\tLoss: 0.169336\n",
            "Train Epoch: 2 [31360/60000 (52%)]\tLoss: 0.049365\n",
            "Train Epoch: 2 [32000/60000 (53%)]\tLoss: 0.057667\n",
            "Train Epoch: 2 [32640/60000 (54%)]\tLoss: 0.067867\n",
            "Train Epoch: 2 [33280/60000 (55%)]\tLoss: 0.029221\n",
            "Train Epoch: 2 [33920/60000 (57%)]\tLoss: 0.021014\n",
            "Train Epoch: 2 [34560/60000 (58%)]\tLoss: 0.108955\n",
            "Train Epoch: 2 [35200/60000 (59%)]\tLoss: 0.044246\n",
            "Train Epoch: 2 [35840/60000 (60%)]\tLoss: 0.154864\n",
            "Train Epoch: 2 [36480/60000 (61%)]\tLoss: 0.046650\n",
            "Train Epoch: 2 [37120/60000 (62%)]\tLoss: 0.076971\n",
            "Train Epoch: 2 [37760/60000 (63%)]\tLoss: 0.130071\n",
            "Train Epoch: 2 [38400/60000 (64%)]\tLoss: 0.060751\n",
            "Train Epoch: 2 [39040/60000 (65%)]\tLoss: 0.025568\n",
            "Train Epoch: 2 [39680/60000 (66%)]\tLoss: 0.061140\n",
            "Train Epoch: 2 [40320/60000 (67%)]\tLoss: 0.057692\n",
            "Train Epoch: 2 [40960/60000 (68%)]\tLoss: 0.116979\n",
            "Train Epoch: 2 [41600/60000 (69%)]\tLoss: 0.187454\n",
            "Train Epoch: 2 [42240/60000 (70%)]\tLoss: 0.071023\n",
            "Train Epoch: 2 [42880/60000 (71%)]\tLoss: 0.224896\n",
            "Train Epoch: 2 [43520/60000 (72%)]\tLoss: 0.107541\n",
            "Train Epoch: 2 [44160/60000 (74%)]\tLoss: 0.048315\n",
            "Train Epoch: 2 [44800/60000 (75%)]\tLoss: 0.037269\n",
            "Train Epoch: 2 [45440/60000 (76%)]\tLoss: 0.062734\n",
            "Train Epoch: 2 [46080/60000 (77%)]\tLoss: 0.083355\n",
            "Train Epoch: 2 [46720/60000 (78%)]\tLoss: 0.023473\n",
            "Train Epoch: 2 [47360/60000 (79%)]\tLoss: 0.046267\n",
            "Train Epoch: 2 [48000/60000 (80%)]\tLoss: 0.213932\n",
            "Train Epoch: 2 [48640/60000 (81%)]\tLoss: 0.087173\n",
            "Train Epoch: 2 [49280/60000 (82%)]\tLoss: 0.084996\n",
            "Train Epoch: 2 [49920/60000 (83%)]\tLoss: 0.025980\n",
            "Train Epoch: 2 [50560/60000 (84%)]\tLoss: 0.050026\n",
            "Train Epoch: 2 [51200/60000 (85%)]\tLoss: 0.132693\n",
            "Train Epoch: 2 [51840/60000 (86%)]\tLoss: 0.015829\n",
            "Train Epoch: 2 [52480/60000 (87%)]\tLoss: 0.071942\n",
            "Train Epoch: 2 [53120/60000 (88%)]\tLoss: 0.042845\n",
            "Train Epoch: 2 [53760/60000 (90%)]\tLoss: 0.042877\n",
            "Train Epoch: 2 [54400/60000 (91%)]\tLoss: 0.123201\n",
            "Train Epoch: 2 [55040/60000 (92%)]\tLoss: 0.187955\n",
            "Train Epoch: 2 [55680/60000 (93%)]\tLoss: 0.128146\n",
            "Train Epoch: 2 [56320/60000 (94%)]\tLoss: 0.032400\n",
            "Train Epoch: 2 [56960/60000 (95%)]\tLoss: 0.107472\n",
            "Train Epoch: 2 [57600/60000 (96%)]\tLoss: 0.041296\n",
            "Train Epoch: 2 [58240/60000 (97%)]\tLoss: 0.161360\n",
            "Train Epoch: 2 [58880/60000 (98%)]\tLoss: 0.087650\n",
            "Train Epoch: 2 [59520/60000 (99%)]\tLoss: 0.071155\n",
            "\n",
            "Test set: Average loss: 0.0788, Accuracy: 9758/10000 (98%)\n",
            "\n",
            "Train Epoch: 3 [0/60000 (0%)]\tLoss: 0.073310\n",
            "Train Epoch: 3 [640/60000 (1%)]\tLoss: 0.014992\n",
            "Train Epoch: 3 [1280/60000 (2%)]\tLoss: 0.072806\n",
            "Train Epoch: 3 [1920/60000 (3%)]\tLoss: 0.045194\n",
            "Train Epoch: 3 [2560/60000 (4%)]\tLoss: 0.103243\n",
            "Train Epoch: 3 [3200/60000 (5%)]\tLoss: 0.032087\n",
            "Train Epoch: 3 [3840/60000 (6%)]\tLoss: 0.077242\n",
            "Train Epoch: 3 [4480/60000 (7%)]\tLoss: 0.152662\n",
            "Train Epoch: 3 [5120/60000 (9%)]\tLoss: 0.042037\n",
            "Train Epoch: 3 [5760/60000 (10%)]\tLoss: 0.095110\n",
            "Train Epoch: 3 [6400/60000 (11%)]\tLoss: 0.061103\n",
            "Train Epoch: 3 [7040/60000 (12%)]\tLoss: 0.028001\n",
            "Train Epoch: 3 [7680/60000 (13%)]\tLoss: 0.024008\n",
            "Train Epoch: 3 [8320/60000 (14%)]\tLoss: 0.099050\n",
            "Train Epoch: 3 [8960/60000 (15%)]\tLoss: 0.201148\n",
            "Train Epoch: 3 [9600/60000 (16%)]\tLoss: 0.059407\n",
            "Train Epoch: 3 [10240/60000 (17%)]\tLoss: 0.018495\n",
            "Train Epoch: 3 [10880/60000 (18%)]\tLoss: 0.031081\n",
            "Train Epoch: 3 [11520/60000 (19%)]\tLoss: 0.036234\n",
            "Train Epoch: 3 [12160/60000 (20%)]\tLoss: 0.049748\n",
            "Train Epoch: 3 [12800/60000 (21%)]\tLoss: 0.032363\n",
            "Train Epoch: 3 [13440/60000 (22%)]\tLoss: 0.096427\n",
            "Train Epoch: 3 [14080/60000 (23%)]\tLoss: 0.036292\n",
            "Train Epoch: 3 [14720/60000 (25%)]\tLoss: 0.106402\n",
            "Train Epoch: 3 [15360/60000 (26%)]\tLoss: 0.069435\n",
            "Train Epoch: 3 [16000/60000 (27%)]\tLoss: 0.034041\n",
            "Train Epoch: 3 [16640/60000 (28%)]\tLoss: 0.099741\n",
            "Train Epoch: 3 [17280/60000 (29%)]\tLoss: 0.027496\n",
            "Train Epoch: 3 [17920/60000 (30%)]\tLoss: 0.052482\n",
            "Train Epoch: 3 [18560/60000 (31%)]\tLoss: 0.094181\n",
            "Train Epoch: 3 [19200/60000 (32%)]\tLoss: 0.046774\n",
            "Train Epoch: 3 [19840/60000 (33%)]\tLoss: 0.370005\n",
            "Train Epoch: 3 [20480/60000 (34%)]\tLoss: 0.039935\n",
            "Train Epoch: 3 [21120/60000 (35%)]\tLoss: 0.080075\n",
            "Train Epoch: 3 [21760/60000 (36%)]\tLoss: 0.033311\n",
            "Train Epoch: 3 [22400/60000 (37%)]\tLoss: 0.062584\n",
            "Train Epoch: 3 [23040/60000 (38%)]\tLoss: 0.088922\n",
            "Train Epoch: 3 [23680/60000 (39%)]\tLoss: 0.162846\n",
            "Train Epoch: 3 [24320/60000 (41%)]\tLoss: 0.063792\n",
            "Train Epoch: 3 [24960/60000 (42%)]\tLoss: 0.051655\n",
            "Train Epoch: 3 [25600/60000 (43%)]\tLoss: 0.059063\n",
            "Train Epoch: 3 [26240/60000 (44%)]\tLoss: 0.116164\n",
            "Train Epoch: 3 [26880/60000 (45%)]\tLoss: 0.132840\n",
            "Train Epoch: 3 [27520/60000 (46%)]\tLoss: 0.086687\n",
            "Train Epoch: 3 [28160/60000 (47%)]\tLoss: 0.147896\n",
            "Train Epoch: 3 [28800/60000 (48%)]\tLoss: 0.073859\n",
            "Train Epoch: 3 [29440/60000 (49%)]\tLoss: 0.025505\n",
            "Train Epoch: 3 [30080/60000 (50%)]\tLoss: 0.024555\n",
            "Train Epoch: 3 [30720/60000 (51%)]\tLoss: 0.083682\n",
            "Train Epoch: 3 [31360/60000 (52%)]\tLoss: 0.048355\n",
            "Train Epoch: 3 [32000/60000 (53%)]\tLoss: 0.097666\n",
            "Train Epoch: 3 [32640/60000 (54%)]\tLoss: 0.024632\n",
            "Train Epoch: 3 [33280/60000 (55%)]\tLoss: 0.099634\n",
            "Train Epoch: 3 [33920/60000 (57%)]\tLoss: 0.069068\n",
            "Train Epoch: 3 [34560/60000 (58%)]\tLoss: 0.048956\n",
            "Train Epoch: 3 [35200/60000 (59%)]\tLoss: 0.046869\n",
            "Train Epoch: 3 [35840/60000 (60%)]\tLoss: 0.040631\n",
            "Train Epoch: 3 [36480/60000 (61%)]\tLoss: 0.026248\n",
            "Train Epoch: 3 [37120/60000 (62%)]\tLoss: 0.050538\n",
            "Train Epoch: 3 [37760/60000 (63%)]\tLoss: 0.042935\n",
            "Train Epoch: 3 [38400/60000 (64%)]\tLoss: 0.041632\n",
            "Train Epoch: 3 [39040/60000 (65%)]\tLoss: 0.225517\n",
            "Train Epoch: 3 [39680/60000 (66%)]\tLoss: 0.104411\n",
            "Train Epoch: 3 [40320/60000 (67%)]\tLoss: 0.010008\n",
            "Train Epoch: 3 [40960/60000 (68%)]\tLoss: 0.003903\n",
            "Train Epoch: 3 [41600/60000 (69%)]\tLoss: 0.066735\n",
            "Train Epoch: 3 [42240/60000 (70%)]\tLoss: 0.026486\n",
            "Train Epoch: 3 [42880/60000 (71%)]\tLoss: 0.164561\n",
            "Train Epoch: 3 [43520/60000 (72%)]\tLoss: 0.039537\n",
            "Train Epoch: 3 [44160/60000 (74%)]\tLoss: 0.145645\n",
            "Train Epoch: 3 [44800/60000 (75%)]\tLoss: 0.029360\n",
            "Train Epoch: 3 [45440/60000 (76%)]\tLoss: 0.043498\n",
            "Train Epoch: 3 [46080/60000 (77%)]\tLoss: 0.048908\n",
            "Train Epoch: 3 [46720/60000 (78%)]\tLoss: 0.011918\n",
            "Train Epoch: 3 [47360/60000 (79%)]\tLoss: 0.038626\n",
            "Train Epoch: 3 [48000/60000 (80%)]\tLoss: 0.030212\n",
            "Train Epoch: 3 [48640/60000 (81%)]\tLoss: 0.066048\n",
            "Train Epoch: 3 [49280/60000 (82%)]\tLoss: 0.213962\n",
            "Train Epoch: 3 [49920/60000 (83%)]\tLoss: 0.066199\n",
            "Train Epoch: 3 [50560/60000 (84%)]\tLoss: 0.087417\n",
            "Train Epoch: 3 [51200/60000 (85%)]\tLoss: 0.083817\n",
            "Train Epoch: 3 [51840/60000 (86%)]\tLoss: 0.043123\n",
            "Train Epoch: 3 [52480/60000 (87%)]\tLoss: 0.130423\n",
            "Train Epoch: 3 [53120/60000 (88%)]\tLoss: 0.067200\n",
            "Train Epoch: 3 [53760/60000 (90%)]\tLoss: 0.028346\n",
            "Train Epoch: 3 [54400/60000 (91%)]\tLoss: 0.095472\n",
            "Train Epoch: 3 [55040/60000 (92%)]\tLoss: 0.050119\n",
            "Train Epoch: 3 [55680/60000 (93%)]\tLoss: 0.056459\n",
            "Train Epoch: 3 [56320/60000 (94%)]\tLoss: 0.038956\n",
            "Train Epoch: 3 [56960/60000 (95%)]\tLoss: 0.029339\n",
            "Train Epoch: 3 [57600/60000 (96%)]\tLoss: 0.024265\n",
            "Train Epoch: 3 [58240/60000 (97%)]\tLoss: 0.040098\n",
            "Train Epoch: 3 [58880/60000 (98%)]\tLoss: 0.076475\n",
            "Train Epoch: 3 [59520/60000 (99%)]\tLoss: 0.025776\n",
            "\n",
            "Test set: Average loss: 0.0506, Accuracy: 9837/10000 (98%)\n",
            "\n",
            "Train Epoch: 4 [0/60000 (0%)]\tLoss: 0.082198\n",
            "Train Epoch: 4 [640/60000 (1%)]\tLoss: 0.026245\n",
            "Train Epoch: 4 [1280/60000 (2%)]\tLoss: 0.063871\n",
            "Train Epoch: 4 [1920/60000 (3%)]\tLoss: 0.042163\n",
            "Train Epoch: 4 [2560/60000 (4%)]\tLoss: 0.025878\n",
            "Train Epoch: 4 [3200/60000 (5%)]\tLoss: 0.175917\n",
            "Train Epoch: 4 [3840/60000 (6%)]\tLoss: 0.008042\n",
            "Train Epoch: 4 [4480/60000 (7%)]\tLoss: 0.091603\n",
            "Train Epoch: 4 [5120/60000 (9%)]\tLoss: 0.062995\n",
            "Train Epoch: 4 [5760/60000 (10%)]\tLoss: 0.037692\n",
            "Train Epoch: 4 [6400/60000 (11%)]\tLoss: 0.035135\n",
            "Train Epoch: 4 [7040/60000 (12%)]\tLoss: 0.035385\n",
            "Train Epoch: 4 [7680/60000 (13%)]\tLoss: 0.021935\n",
            "Train Epoch: 4 [8320/60000 (14%)]\tLoss: 0.010400\n",
            "Train Epoch: 4 [8960/60000 (15%)]\tLoss: 0.047691\n",
            "Train Epoch: 4 [9600/60000 (16%)]\tLoss: 0.022283\n",
            "Train Epoch: 4 [10240/60000 (17%)]\tLoss: 0.126803\n",
            "Train Epoch: 4 [10880/60000 (18%)]\tLoss: 0.134259\n",
            "Train Epoch: 4 [11520/60000 (19%)]\tLoss: 0.050882\n",
            "Train Epoch: 4 [12160/60000 (20%)]\tLoss: 0.018340\n",
            "Train Epoch: 4 [12800/60000 (21%)]\tLoss: 0.048767\n",
            "Train Epoch: 4 [13440/60000 (22%)]\tLoss: 0.083439\n",
            "Train Epoch: 4 [14080/60000 (23%)]\tLoss: 0.061856\n",
            "Train Epoch: 4 [14720/60000 (25%)]\tLoss: 0.083135\n",
            "Train Epoch: 4 [15360/60000 (26%)]\tLoss: 0.035791\n",
            "Train Epoch: 4 [16000/60000 (27%)]\tLoss: 0.095633\n",
            "Train Epoch: 4 [16640/60000 (28%)]\tLoss: 0.152796\n",
            "Train Epoch: 4 [17280/60000 (29%)]\tLoss: 0.052395\n",
            "Train Epoch: 4 [17920/60000 (30%)]\tLoss: 0.074670\n",
            "Train Epoch: 4 [18560/60000 (31%)]\tLoss: 0.039631\n",
            "Train Epoch: 4 [19200/60000 (32%)]\tLoss: 0.081787\n",
            "Train Epoch: 4 [19840/60000 (33%)]\tLoss: 0.007550\n",
            "Train Epoch: 4 [20480/60000 (34%)]\tLoss: 0.020320\n",
            "Train Epoch: 4 [21120/60000 (35%)]\tLoss: 0.038916\n",
            "Train Epoch: 4 [21760/60000 (36%)]\tLoss: 0.026327\n",
            "Train Epoch: 4 [22400/60000 (37%)]\tLoss: 0.137513\n",
            "Train Epoch: 4 [23040/60000 (38%)]\tLoss: 0.017776\n",
            "Train Epoch: 4 [23680/60000 (39%)]\tLoss: 0.033918\n",
            "Train Epoch: 4 [24320/60000 (41%)]\tLoss: 0.106968\n",
            "Train Epoch: 4 [24960/60000 (42%)]\tLoss: 0.087222\n",
            "Train Epoch: 4 [25600/60000 (43%)]\tLoss: 0.116286\n",
            "Train Epoch: 4 [26240/60000 (44%)]\tLoss: 0.011179\n",
            "Train Epoch: 4 [26880/60000 (45%)]\tLoss: 0.045761\n",
            "Train Epoch: 4 [27520/60000 (46%)]\tLoss: 0.012009\n",
            "Train Epoch: 4 [28160/60000 (47%)]\tLoss: 0.018219\n",
            "Train Epoch: 4 [28800/60000 (48%)]\tLoss: 0.069161\n",
            "Train Epoch: 4 [29440/60000 (49%)]\tLoss: 0.141173\n",
            "Train Epoch: 4 [30080/60000 (50%)]\tLoss: 0.115323\n",
            "Train Epoch: 4 [30720/60000 (51%)]\tLoss: 0.064217\n",
            "Train Epoch: 4 [31360/60000 (52%)]\tLoss: 0.010658\n",
            "Train Epoch: 4 [32000/60000 (53%)]\tLoss: 0.013684\n",
            "Train Epoch: 4 [32640/60000 (54%)]\tLoss: 0.077784\n",
            "Train Epoch: 4 [33280/60000 (55%)]\tLoss: 0.030848\n",
            "Train Epoch: 4 [33920/60000 (57%)]\tLoss: 0.041036\n",
            "Train Epoch: 4 [34560/60000 (58%)]\tLoss: 0.044166\n",
            "Train Epoch: 4 [35200/60000 (59%)]\tLoss: 0.070402\n",
            "Train Epoch: 4 [35840/60000 (60%)]\tLoss: 0.025914\n",
            "Train Epoch: 4 [36480/60000 (61%)]\tLoss: 0.033507\n",
            "Train Epoch: 4 [37120/60000 (62%)]\tLoss: 0.175134\n",
            "Train Epoch: 4 [37760/60000 (63%)]\tLoss: 0.197070\n",
            "Train Epoch: 4 [38400/60000 (64%)]\tLoss: 0.026065\n",
            "Train Epoch: 4 [39040/60000 (65%)]\tLoss: 0.058253\n",
            "Train Epoch: 4 [39680/60000 (66%)]\tLoss: 0.035316\n",
            "Train Epoch: 4 [40320/60000 (67%)]\tLoss: 0.062253\n",
            "Train Epoch: 4 [40960/60000 (68%)]\tLoss: 0.032075\n",
            "Train Epoch: 4 [41600/60000 (69%)]\tLoss: 0.145563\n",
            "Train Epoch: 4 [42240/60000 (70%)]\tLoss: 0.033306\n",
            "Train Epoch: 4 [42880/60000 (71%)]\tLoss: 0.015976\n",
            "Train Epoch: 4 [43520/60000 (72%)]\tLoss: 0.009535\n",
            "Train Epoch: 4 [44160/60000 (74%)]\tLoss: 0.020021\n",
            "Train Epoch: 4 [44800/60000 (75%)]\tLoss: 0.017984\n",
            "Train Epoch: 4 [45440/60000 (76%)]\tLoss: 0.024920\n",
            "Train Epoch: 4 [46080/60000 (77%)]\tLoss: 0.064790\n",
            "Train Epoch: 4 [46720/60000 (78%)]\tLoss: 0.013368\n",
            "Train Epoch: 4 [47360/60000 (79%)]\tLoss: 0.003653\n",
            "Train Epoch: 4 [48000/60000 (80%)]\tLoss: 0.018752\n",
            "Train Epoch: 4 [48640/60000 (81%)]\tLoss: 0.008241\n",
            "Train Epoch: 4 [49280/60000 (82%)]\tLoss: 0.052980\n",
            "Train Epoch: 4 [49920/60000 (83%)]\tLoss: 0.148476\n",
            "Train Epoch: 4 [50560/60000 (84%)]\tLoss: 0.084141\n",
            "Train Epoch: 4 [51200/60000 (85%)]\tLoss: 0.024319\n",
            "Train Epoch: 4 [51840/60000 (86%)]\tLoss: 0.045900\n",
            "Train Epoch: 4 [52480/60000 (87%)]\tLoss: 0.129228\n",
            "Train Epoch: 4 [53120/60000 (88%)]\tLoss: 0.023433\n",
            "Train Epoch: 4 [53760/60000 (90%)]\tLoss: 0.044256\n",
            "Train Epoch: 4 [54400/60000 (91%)]\tLoss: 0.049073\n",
            "Train Epoch: 4 [55040/60000 (92%)]\tLoss: 0.092577\n",
            "Train Epoch: 4 [55680/60000 (93%)]\tLoss: 0.019155\n",
            "Train Epoch: 4 [56320/60000 (94%)]\tLoss: 0.063525\n",
            "Train Epoch: 4 [56960/60000 (95%)]\tLoss: 0.005426\n",
            "Train Epoch: 4 [57600/60000 (96%)]\tLoss: 0.083595\n",
            "Train Epoch: 4 [58240/60000 (97%)]\tLoss: 0.037678\n",
            "Train Epoch: 4 [58880/60000 (98%)]\tLoss: 0.092543\n",
            "Train Epoch: 4 [59520/60000 (99%)]\tLoss: 0.085240\n",
            "\n",
            "Test set: Average loss: 0.0470, Accuracy: 9839/10000 (98%)\n",
            "\n"
          ]
        }
      ]
    },
    {
      "cell_type": "code",
      "source": [],
      "metadata": {
        "id": "9m3--4A-nDL-"
      },
      "execution_count": 44,
      "outputs": []
    }
  ]
}