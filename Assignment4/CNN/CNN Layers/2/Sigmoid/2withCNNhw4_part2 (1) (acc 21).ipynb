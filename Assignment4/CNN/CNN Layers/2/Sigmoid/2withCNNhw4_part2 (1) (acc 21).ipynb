{
  "nbformat": 4,
  "nbformat_minor": 0,
  "metadata": {
    "colab": {
      "provenance": [],
      "gpuType": "T4"
    },
    "kernelspec": {
      "name": "python3",
      "display_name": "Python 3"
    },
    "accelerator": "GPU"
  },
  "cells": [
    {
      "cell_type": "markdown",
      "metadata": {
        "id": "9XHd5ExbUIUg"
      },
      "source": [
        "# Pytorch with the MNIST Dataset - MINST"
      ]
    },
    {
      "cell_type": "code",
      "metadata": {
        "id": "Su0COdCqT2Wk"
      },
      "source": [
        "## import libraries\n",
        "from __future__ import print_function\n",
        "import argparse\n",
        "import torch\n",
        "import torch.nn as nn\n",
        "import torch.nn.functional as F\n",
        "import torchvision\n",
        "\n",
        "import torch.optim as optim\n",
        "from torchvision import datasets, transforms\n",
        "from torch.autograd import Variable"
      ],
      "execution_count": 1,
      "outputs": []
    },
    {
      "cell_type": "code",
      "metadata": {
        "id": "rXCYmmjyVRq5",
        "outputId": "31784f44-cc57-4bd5-8a20-9b8c251d6855",
        "colab": {
          "base_uri": "https://localhost:8080/"
        }
      },
      "source": [
        "print(torch.__version__)"
      ],
      "execution_count": 2,
      "outputs": [
        {
          "output_type": "stream",
          "name": "stdout",
          "text": [
            "2.5.0+cu121\n"
          ]
        }
      ]
    },
    {
      "cell_type": "code",
      "source": [
        "args={}\n",
        "kwargs={}\n",
        "args['batch_size']=32\n",
        "args['test_batch_size']=32\n",
        "args['epochs']=1  #The number of Epochs is the number of times you go through the full dataset.\n",
        "args['lr']=0.01 #Learning rate is how fast it will decend.\n",
        "args['momentum']=0.5 #SGD momentum (default: 0.5) Momentum is a moving average of our gradients (helps to keep direction).\n",
        "\n",
        "args['seed']=1 #random seed\n",
        "args['log_interval']=10\n",
        "args['cuda']=True #if the computer has a GPU, type True, otherwise, False"
      ],
      "metadata": {
        "id": "Fp3VqwxU9teg"
      },
      "execution_count": 3,
      "outputs": []
    },
    {
      "cell_type": "markdown",
      "source": [
        "This code is adopted from the pytorch examples repository. It is licensed under BSD 3-Clause \"New\" or \"Revised\" License. Source: https://github.com/pytorch/examples/ LICENSE: https://github.com/pytorch/examples/blob/master/LICENSE"
      ],
      "metadata": {
        "id": "ys8268Yr6sAC"
      }
    },
    {
      "cell_type": "markdown",
      "metadata": {
        "id": "hhuQyU7AYE6K"
      },
      "source": [
        "## Load Dataset\n",
        "The first step before training the model is to import the data. We will use the [MNIST dataset](http://yann.lecun.com/exdb/mnist/) which is like the Hello World dataset of machine learning.\n",
        "\n",
        "Besides importing the data, we will also do a few more things:\n",
        "- We will tranform the data into tensors using the `transforms` module\n",
        "- We will use `DataLoader` to build convenient data loaders or what are referred to as iterators, which makes it easy to efficiently feed data in batches to deep learning models.\n",
        "- As hinted above, we will also create batches of the data by setting the `batch` parameter inside the data loader. Notice we use batches of `32` in this tutorial but you can change it to `64` if you like. I encourage you to experiment with different batches."
      ]
    },
    {
      "cell_type": "code",
      "metadata": {
        "id": "tSjjLXrOVWBy",
        "colab": {
          "base_uri": "https://localhost:8080/"
        },
        "outputId": "c7c393b3-50c0-4700-dbc0-6e270a72b6f4"
      },
      "source": [
        "## transformations\n",
        "transform = transforms.Compose([\n",
        "                       transforms.ToTensor(),\n",
        "                       transforms.Normalize((0.1307,), (0.3081,))\n",
        "                   ])\n",
        "\n",
        "## download and load training dataset\n",
        "trainset = datasets.MNIST(root='../data', train=True, download=True, transform=transform)\n",
        "train_loader = torch.utils.data.DataLoader(trainset, batch_size=args['batch_size'], shuffle=True, **kwargs)\n",
        "\n",
        "## download and load testing dataset\n",
        "testset = torchvision.datasets.MNIST(root='./data', train=False, download=True, transform=transform)\n",
        "test_loader = torch.utils.data.DataLoader(testset, batch_size=args['test_batch_size'], shuffle=True, **kwargs)"
      ],
      "execution_count": 4,
      "outputs": [
        {
          "output_type": "stream",
          "name": "stdout",
          "text": [
            "Downloading http://yann.lecun.com/exdb/mnist/train-images-idx3-ubyte.gz\n",
            "Failed to download (trying next):\n",
            "<urlopen error [SSL: CERTIFICATE_VERIFY_FAILED] certificate verify failed: certificate has expired (_ssl.c:1007)>\n",
            "\n",
            "Downloading https://ossci-datasets.s3.amazonaws.com/mnist/train-images-idx3-ubyte.gz\n",
            "Downloading https://ossci-datasets.s3.amazonaws.com/mnist/train-images-idx3-ubyte.gz to ../data/MNIST/raw/train-images-idx3-ubyte.gz\n"
          ]
        },
        {
          "output_type": "stream",
          "name": "stderr",
          "text": [
            "100%|██████████| 9.91M/9.91M [00:00<00:00, 17.9MB/s]\n"
          ]
        },
        {
          "output_type": "stream",
          "name": "stdout",
          "text": [
            "Extracting ../data/MNIST/raw/train-images-idx3-ubyte.gz to ../data/MNIST/raw\n",
            "\n",
            "Downloading http://yann.lecun.com/exdb/mnist/train-labels-idx1-ubyte.gz\n",
            "Failed to download (trying next):\n",
            "<urlopen error [SSL: CERTIFICATE_VERIFY_FAILED] certificate verify failed: certificate has expired (_ssl.c:1007)>\n",
            "\n",
            "Downloading https://ossci-datasets.s3.amazonaws.com/mnist/train-labels-idx1-ubyte.gz\n",
            "Downloading https://ossci-datasets.s3.amazonaws.com/mnist/train-labels-idx1-ubyte.gz to ../data/MNIST/raw/train-labels-idx1-ubyte.gz\n"
          ]
        },
        {
          "output_type": "stream",
          "name": "stderr",
          "text": [
            "100%|██████████| 28.9k/28.9k [00:00<00:00, 497kB/s]\n"
          ]
        },
        {
          "output_type": "stream",
          "name": "stdout",
          "text": [
            "Extracting ../data/MNIST/raw/train-labels-idx1-ubyte.gz to ../data/MNIST/raw\n",
            "\n",
            "Downloading http://yann.lecun.com/exdb/mnist/t10k-images-idx3-ubyte.gz\n",
            "Failed to download (trying next):\n",
            "<urlopen error [SSL: CERTIFICATE_VERIFY_FAILED] certificate verify failed: certificate has expired (_ssl.c:1007)>\n",
            "\n",
            "Downloading https://ossci-datasets.s3.amazonaws.com/mnist/t10k-images-idx3-ubyte.gz\n",
            "Downloading https://ossci-datasets.s3.amazonaws.com/mnist/t10k-images-idx3-ubyte.gz to ../data/MNIST/raw/t10k-images-idx3-ubyte.gz\n"
          ]
        },
        {
          "output_type": "stream",
          "name": "stderr",
          "text": [
            "100%|██████████| 1.65M/1.65M [00:00<00:00, 4.49MB/s]\n"
          ]
        },
        {
          "output_type": "stream",
          "name": "stdout",
          "text": [
            "Extracting ../data/MNIST/raw/t10k-images-idx3-ubyte.gz to ../data/MNIST/raw\n",
            "\n",
            "Downloading http://yann.lecun.com/exdb/mnist/t10k-labels-idx1-ubyte.gz\n",
            "Failed to download (trying next):\n",
            "<urlopen error [SSL: CERTIFICATE_VERIFY_FAILED] certificate verify failed: certificate has expired (_ssl.c:1007)>\n",
            "\n",
            "Downloading https://ossci-datasets.s3.amazonaws.com/mnist/t10k-labels-idx1-ubyte.gz\n",
            "Downloading https://ossci-datasets.s3.amazonaws.com/mnist/t10k-labels-idx1-ubyte.gz to ../data/MNIST/raw/t10k-labels-idx1-ubyte.gz\n"
          ]
        },
        {
          "output_type": "stream",
          "name": "stderr",
          "text": [
            "100%|██████████| 4.54k/4.54k [00:00<00:00, 3.99MB/s]\n"
          ]
        },
        {
          "output_type": "stream",
          "name": "stdout",
          "text": [
            "Extracting ../data/MNIST/raw/t10k-labels-idx1-ubyte.gz to ../data/MNIST/raw\n",
            "\n",
            "Downloading http://yann.lecun.com/exdb/mnist/train-images-idx3-ubyte.gz\n",
            "Failed to download (trying next):\n",
            "<urlopen error [SSL: CERTIFICATE_VERIFY_FAILED] certificate verify failed: certificate has expired (_ssl.c:1007)>\n",
            "\n",
            "Downloading https://ossci-datasets.s3.amazonaws.com/mnist/train-images-idx3-ubyte.gz\n",
            "Downloading https://ossci-datasets.s3.amazonaws.com/mnist/train-images-idx3-ubyte.gz to ./data/MNIST/raw/train-images-idx3-ubyte.gz\n"
          ]
        },
        {
          "output_type": "stream",
          "name": "stderr",
          "text": [
            "100%|██████████| 9.91M/9.91M [00:00<00:00, 17.9MB/s]\n"
          ]
        },
        {
          "output_type": "stream",
          "name": "stdout",
          "text": [
            "Extracting ./data/MNIST/raw/train-images-idx3-ubyte.gz to ./data/MNIST/raw\n",
            "\n",
            "Downloading http://yann.lecun.com/exdb/mnist/train-labels-idx1-ubyte.gz\n",
            "Failed to download (trying next):\n",
            "<urlopen error [SSL: CERTIFICATE_VERIFY_FAILED] certificate verify failed: certificate has expired (_ssl.c:1007)>\n",
            "\n",
            "Downloading https://ossci-datasets.s3.amazonaws.com/mnist/train-labels-idx1-ubyte.gz\n",
            "Downloading https://ossci-datasets.s3.amazonaws.com/mnist/train-labels-idx1-ubyte.gz to ./data/MNIST/raw/train-labels-idx1-ubyte.gz\n"
          ]
        },
        {
          "output_type": "stream",
          "name": "stderr",
          "text": [
            "100%|██████████| 28.9k/28.9k [00:00<00:00, 499kB/s]\n"
          ]
        },
        {
          "output_type": "stream",
          "name": "stdout",
          "text": [
            "Extracting ./data/MNIST/raw/train-labels-idx1-ubyte.gz to ./data/MNIST/raw\n",
            "\n",
            "Downloading http://yann.lecun.com/exdb/mnist/t10k-images-idx3-ubyte.gz\n",
            "Failed to download (trying next):\n",
            "<urlopen error [SSL: CERTIFICATE_VERIFY_FAILED] certificate verify failed: certificate has expired (_ssl.c:1007)>\n",
            "\n",
            "Downloading https://ossci-datasets.s3.amazonaws.com/mnist/t10k-images-idx3-ubyte.gz\n",
            "Downloading https://ossci-datasets.s3.amazonaws.com/mnist/t10k-images-idx3-ubyte.gz to ./data/MNIST/raw/t10k-images-idx3-ubyte.gz\n"
          ]
        },
        {
          "output_type": "stream",
          "name": "stderr",
          "text": [
            "100%|██████████| 1.65M/1.65M [00:00<00:00, 4.48MB/s]\n"
          ]
        },
        {
          "output_type": "stream",
          "name": "stdout",
          "text": [
            "Extracting ./data/MNIST/raw/t10k-images-idx3-ubyte.gz to ./data/MNIST/raw\n",
            "\n",
            "Downloading http://yann.lecun.com/exdb/mnist/t10k-labels-idx1-ubyte.gz\n",
            "Failed to download (trying next):\n",
            "<urlopen error [SSL: CERTIFICATE_VERIFY_FAILED] certificate verify failed: certificate has expired (_ssl.c:1007)>\n",
            "\n",
            "Downloading https://ossci-datasets.s3.amazonaws.com/mnist/t10k-labels-idx1-ubyte.gz\n",
            "Downloading https://ossci-datasets.s3.amazonaws.com/mnist/t10k-labels-idx1-ubyte.gz to ./data/MNIST/raw/t10k-labels-idx1-ubyte.gz\n"
          ]
        },
        {
          "output_type": "stream",
          "name": "stderr",
          "text": [
            "100%|██████████| 4.54k/4.54k [00:00<00:00, 4.57MB/s]"
          ]
        },
        {
          "output_type": "stream",
          "name": "stdout",
          "text": [
            "Extracting ./data/MNIST/raw/t10k-labels-idx1-ubyte.gz to ./data/MNIST/raw\n",
            "\n"
          ]
        },
        {
          "output_type": "stream",
          "name": "stderr",
          "text": [
            "\n"
          ]
        }
      ]
    },
    {
      "cell_type": "markdown",
      "metadata": {
        "id": "0nZwZukWXUDn"
      },
      "source": [
        "## Exploring the Data\n",
        "As a practioner and researcher, I am always spending a bit of time and effort exploring and understanding the dataset. It's fun and this is a good practise to ensure that everything is in order."
      ]
    },
    {
      "cell_type": "markdown",
      "metadata": {
        "id": "NW_loWKga7CH"
      },
      "source": [
        "Let's check what the train and test dataset contains. I will use `matplotlib` to print out some of the images from our dataset."
      ]
    },
    {
      "cell_type": "code",
      "metadata": {
        "id": "zWd9Pt1Ca6K9",
        "colab": {
          "base_uri": "https://localhost:8080/",
          "height": 332
        },
        "outputId": "6d0c633d-b21b-42e9-96f2-ae1a2846d80a"
      },
      "source": [
        "import matplotlib.pyplot as plt\n",
        "import numpy as np\n",
        "\n",
        "## functions to show an image\n",
        "def imshow(img):\n",
        "    #img = img / 2 + 0.5     # unnormalize\n",
        "    npimg = img.numpy()\n",
        "    plt.imshow(np.transpose(npimg, (1, 2, 0)))\n",
        "\n",
        "## get some random training images\n",
        "dataiter = iter(train_loader)\n",
        "images, labels = next(dataiter)\n",
        "\n",
        "## show images\n",
        "imshow(torchvision.utils.make_grid(images))"
      ],
      "execution_count": 5,
      "outputs": [
        {
          "output_type": "stream",
          "name": "stderr",
          "text": [
            "WARNING:matplotlib.image:Clipping input data to the valid range for imshow with RGB data ([0..1] for floats or [0..255] for integers).\n"
          ]
        },
        {
          "output_type": "display_data",
          "data": {
            "text/plain": [
              "<Figure size 640x480 with 1 Axes>"
            ],
            "image/png": "[encoded data removed]"
          },
          "metadata": {}
        }
      ]
    },
    {
      "cell_type": "markdown",
      "metadata": {
        "id": "d9mXAVmRvhrq"
      },
      "source": [
        "Let's check the dimensions of a batch."
      ]
    },
    {
      "cell_type": "code",
      "metadata": {
        "id": "cNFKWz1GZ4R5",
        "colab": {
          "base_uri": "https://localhost:8080/"
        },
        "outputId": "9ba3c5be-0a90-4814-f300-f5549c1c3173"
      },
      "source": [
        "for images, labels in train_loader:\n",
        "    print(\"Image batch dimensions:\", images.shape)\n",
        "    print(\"Image label dimensions:\", labels.shape)\n",
        "    break"
      ],
      "execution_count": 6,
      "outputs": [
        {
          "output_type": "stream",
          "name": "stdout",
          "text": [
            "Image batch dimensions: torch.Size([32, 1, 28, 28])\n",
            "Image label dimensions: torch.Size([32])\n"
          ]
        }
      ]
    },
    {
      "cell_type": "markdown",
      "metadata": {
        "id": "tmaCTw5tXowR"
      },
      "source": [
        "## The Model\n",
        "We provide two fully-connected neural net as the initial architecture.\n",
        "\n",
        "Here are a few notes for those who are beginning with PyTorch:\n",
        "- The model below consists of an `__init__()` portion which is where you include the layers and components of the neural network. In our model, we have two fully-connected netork network. We are dealing with an image dataset that is in a grayscale so we only need one channel going in, hence `in_channels=1`.\n",
        "\n",
        "- After the first layer, we also apply an activation function such as `ReLU`. For prediction purposes, we then apply a `softmax` layer to the last transformation and return the output of that.  "
      ]
    },
    {
      "cell_type": "code",
      "metadata": {
        "id": "_IYnV4ZBa3cJ"
      },
      "source": [
        "class Net(nn.Module):\n",
        "    #This defines the structure of the NN.\n",
        "    def __init__(self):\n",
        "        super(Net, self).__init__()\n",
        "        self.conv1 = nn.Conv2d(1, 25, 3) #1x28x28 --> 25x26x26\n",
        "        self.pool = nn.MaxPool2d(2, 2) #25x26x26 --> 25x13x13\n",
        "        self.conv2 = nn.Conv2d(25, 50, 3) #25x13x13 --> 50x11x11\n",
        "        self.pool2 = nn.MaxPool2d(2, 2) #50x11x11 --> 50x5x5\n",
        "        self.fc1 = nn.Linear(50 * 5 * 5, 256)\n",
        "        self.fc2 = nn.Linear(256, 10)\n",
        "\n",
        "    def forward(self, x):\n",
        "        x = torch.sigmoid(self.conv1(x))\n",
        "        x = self.pool(x)\n",
        "        x = torch.sigmoid(self.conv2(x))\n",
        "        x = self.pool2(x)\n",
        "        x=x.view(-1, 50 * 5 * 5)\n",
        "        x = torch.sigmoid(self.fc1(x))\n",
        "        x = self.fc2(x)\n",
        "        #Softmax gets probabilities.\n",
        "        return F.log_softmax(x, dim=1)\n"
      ],
      "execution_count": 7,
      "outputs": []
    },
    {
      "cell_type": "markdown",
      "source": [
        "**Now, add one CNN layer with a pooling to the above neural network and rerun the code to see whether you get higher prediction accuracy on the test set.**\n",
        "\n",
        "For example, you may try `out_channels=32`. Kernel size is 5, and for the rest of parameters we use the default values which you can find [here](https://pytorch.org/docs/stable/nn.html?highlight=conv2d#conv2d).\n",
        "\n",
        "- In short, the convolutional layer transforms the input data into a specific dimension that has to be considered in the linear layer.\n",
        "\n",
        "Make sure your flatten the output of CNN layer excluding # of batch so that the input of each example/batch has the same size of the first neural net.\n",
        "\n",
        "Tips: You can use x.view(-1, # of input size of the first fully-connected layer) or you can use torch.flatten(x, 1)."
      ],
      "metadata": {
        "id": "ZqgR0prhZD3z"
      }
    },
    {
      "cell_type": "markdown",
      "metadata": {
        "id": "evsFbkq_X6bc"
      },
      "source": [
        "I always encourage to test the model with 1 batch to ensure that the output dimensions are what we expect."
      ]
    },
    {
      "cell_type": "code",
      "source": [],
      "metadata": {
        "id": "tRkFvePEZCHd"
      },
      "execution_count": 7,
      "outputs": []
    },
    {
      "cell_type": "code",
      "metadata": {
        "id": "1poxFYqftKov",
        "colab": {
          "base_uri": "https://localhost:8080/"
        },
        "outputId": "2382efe3-1908-4624-f886-449673f7b5eb"
      },
      "source": [
        "## test the model with 1 batch\n",
        "model = Net()\n",
        "#print(model)\n",
        "for images, labels in train_loader:\n",
        "    print(\"batch size:\", args['batch_size'])\n",
        "    out = model(images)\n",
        "    print(out.shape)\n",
        "    break"
      ],
      "execution_count": 8,
      "outputs": [
        {
          "output_type": "stream",
          "name": "stdout",
          "text": [
            "batch size: 32\n",
            "torch.Size([32, 10])\n"
          ]
        }
      ]
    },
    {
      "cell_type": "markdown",
      "metadata": {
        "id": "9h_3eZQRHV_P"
      },
      "source": [
        "## Training the Model\n",
        "Now we are ready to train the model."
      ]
    },
    {
      "cell_type": "code",
      "metadata": {
        "id": "E59hwZlAIVcL"
      },
      "source": [
        "def train(epoch):\n",
        "    model.train()\n",
        "    for batch_idx, (data, target) in enumerate(train_loader):\n",
        "        if args['cuda']:\n",
        "            data, target = data.cuda(), target.cuda()\n",
        "        #Variables in Pytorch are differenciable.\n",
        "        data, target = Variable(data), Variable(target)\n",
        "        #This will zero out the gradients for this batch.\n",
        "        optimizer.zero_grad()\n",
        "        output = model(data)\n",
        "        # Calculate the loss The negative log likelihood loss. It is useful to train a classification problem with C classes.\n",
        "        loss = F.nll_loss(output, target)\n",
        "        #dloss/dx for every Variable\n",
        "        loss.backward()\n",
        "        #to do a one-step update on our parameter.\n",
        "        optimizer.step()\n",
        "        #Print out the loss periodically.\n",
        "        if batch_idx % args['log_interval'] == 0:\n",
        "            print('Train Epoch: {} [{}/{} ({:.0f}%)]\\tLoss: {:.6f}'.format(\n",
        "                epoch, batch_idx * len(data), len(train_loader.dataset),\n",
        "                100. * batch_idx / len(train_loader), loss.data.item()))"
      ],
      "execution_count": 9,
      "outputs": []
    },
    {
      "cell_type": "code",
      "source": [
        "def test():\n",
        "    model.eval()\n",
        "    test_loss = 0\n",
        "    correct = 0\n",
        "\n",
        "    with torch.no_grad():\n",
        "      for data, target in test_loader:\n",
        "          if args['cuda']:\n",
        "              data, target = data.cuda(), target.cuda()\n",
        "          data, target = Variable(data), Variable(target)\n",
        "          output = model(data)\n",
        "          test_loss += F.nll_loss(output, target, size_average=False).data.item() # sum up batch loss\n",
        "          pred = output.data.max(1, keepdim=True)[1] # get the index of the max log-probability\n",
        "          correct += pred.eq(target.data.view_as(pred)).long().cpu().sum()\n",
        "\n",
        "    test_loss /= len(test_loader.dataset)\n",
        "    print('\\nTest set: Average loss: {:.4f}, Accuracy: {}/{} ({:.0f}%)\\n'.format(\n",
        "        test_loss, correct, len(test_loader.dataset),\n",
        "        100. * correct / len(test_loader.dataset)))"
      ],
      "metadata": {
        "id": "dmoO9DlN_Ir6"
      },
      "execution_count": 10,
      "outputs": []
    },
    {
      "cell_type": "code",
      "source": [
        "model = Net()\n",
        "if args['cuda']:\n",
        "    model.cuda()\n",
        "\n",
        "optimizer = optim.SGD(model.parameters(), lr=args['lr'], momentum=args['momentum'])\n",
        "\n",
        "for epoch in range(1, args['epochs'] + 1):\n",
        "    train(epoch)\n",
        "    test()"
      ],
      "metadata": {
        "id": "PQcWwu_A_2gx",
        "colab": {
          "base_uri": "https://localhost:8080/"
        },
        "outputId": "be6f5acf-d8ee-4d57-b788-b5bef237e27f"
      },
      "execution_count": 11,
      "outputs": [
        {
          "output_type": "stream",
          "name": "stdout",
          "text": [
            "Train Epoch: 1 [0/60000 (0%)]\tLoss: 2.332388\n",
            "Train Epoch: 1 [320/60000 (1%)]\tLoss: 2.324887\n",
            "Train Epoch: 1 [640/60000 (1%)]\tLoss: 2.326530\n",
            "Train Epoch: 1 [960/60000 (2%)]\tLoss: 2.268577\n",
            "Train Epoch: 1 [1280/60000 (2%)]\tLoss: 2.338811\n",
            "Train Epoch: 1 [1600/60000 (3%)]\tLoss: 2.301984\n",
            "Train Epoch: 1 [1920/60000 (3%)]\tLoss: 2.321112\n",
            "Train Epoch: 1 [2240/60000 (4%)]\tLoss: 2.335093\n",
            "Train Epoch: 1 [2560/60000 (4%)]\tLoss: 2.324389\n",
            "Train Epoch: 1 [2880/60000 (5%)]\tLoss: 2.341914\n",
            "Train Epoch: 1 [3200/60000 (5%)]\tLoss: 2.338667\n",
            "Train Epoch: 1 [3520/60000 (6%)]\tLoss: 2.347894\n",
            "Train Epoch: 1 [3840/60000 (6%)]\tLoss: 2.337678\n",
            "Train Epoch: 1 [4160/60000 (7%)]\tLoss: 2.336059\n",
            "Train Epoch: 1 [4480/60000 (7%)]\tLoss: 2.309531\n",
            "Train Epoch: 1 [4800/60000 (8%)]\tLoss: 2.272409\n",
            "Train Epoch: 1 [5120/60000 (9%)]\tLoss: 2.291645\n",
            "Train Epoch: 1 [5440/60000 (9%)]\tLoss: 2.268324\n",
            "Train Epoch: 1 [5760/60000 (10%)]\tLoss: 2.319084\n",
            "Train Epoch: 1 [6080/60000 (10%)]\tLoss: 2.334914\n",
            "Train Epoch: 1 [6400/60000 (11%)]\tLoss: 2.260960\n",
            "Train Epoch: 1 [6720/60000 (11%)]\tLoss: 2.279784\n",
            "Train Epoch: 1 [7040/60000 (12%)]\tLoss: 2.253158\n",
            "Train Epoch: 1 [7360/60000 (12%)]\tLoss: 2.319071\n",
            "Train Epoch: 1 [7680/60000 (13%)]\tLoss: 2.325510\n",
            "Train Epoch: 1 [8000/60000 (13%)]\tLoss: 2.305161\n",
            "Train Epoch: 1 [8320/60000 (14%)]\tLoss: 2.251812\n",
            "Train Epoch: 1 [8640/60000 (14%)]\tLoss: 2.277838\n",
            "Train Epoch: 1 [8960/60000 (15%)]\tLoss: 2.339664\n",
            "Train Epoch: 1 [9280/60000 (15%)]\tLoss: 2.280547\n",
            "Train Epoch: 1 [9600/60000 (16%)]\tLoss: 2.348295\n",
            "Train Epoch: 1 [9920/60000 (17%)]\tLoss: 2.336773\n",
            "Train Epoch: 1 [10240/60000 (17%)]\tLoss: 2.283808\n",
            "Train Epoch: 1 [10560/60000 (18%)]\tLoss: 2.305544\n",
            "Train Epoch: 1 [10880/60000 (18%)]\tLoss: 2.264618\n",
            "Train Epoch: 1 [11200/60000 (19%)]\tLoss: 2.260210\n",
            "Train Epoch: 1 [11520/60000 (19%)]\tLoss: 2.324519\n",
            "Train Epoch: 1 [11840/60000 (20%)]\tLoss: 2.296944\n",
            "Train Epoch: 1 [12160/60000 (20%)]\tLoss: 2.337466\n",
            "Train Epoch: 1 [12480/60000 (21%)]\tLoss: 2.334387\n",
            "Train Epoch: 1 [12800/60000 (21%)]\tLoss: 2.314404\n",
            "Train Epoch: 1 [13120/60000 (22%)]\tLoss: 2.312015\n",
            "Train Epoch: 1 [13440/60000 (22%)]\tLoss: 2.308649\n",
            "Train Epoch: 1 [13760/60000 (23%)]\tLoss: 2.325318\n",
            "Train Epoch: 1 [14080/60000 (23%)]\tLoss: 2.316890\n",
            "Train Epoch: 1 [14400/60000 (24%)]\tLoss: 2.338607\n",
            "Train Epoch: 1 [14720/60000 (25%)]\tLoss: 2.316954\n",
            "Train Epoch: 1 [15040/60000 (25%)]\tLoss: 2.316450\n",
            "Train Epoch: 1 [15360/60000 (26%)]\tLoss: 2.329740\n",
            "Train Epoch: 1 [15680/60000 (26%)]\tLoss: 2.285825\n",
            "Train Epoch: 1 [16000/60000 (27%)]\tLoss: 2.301344\n",
            "Train Epoch: 1 [16320/60000 (27%)]\tLoss: 2.304351\n",
            "Train Epoch: 1 [16640/60000 (28%)]\tLoss: 2.294262\n",
            "Train Epoch: 1 [16960/60000 (28%)]\tLoss: 2.329615\n",
            "Train Epoch: 1 [17280/60000 (29%)]\tLoss: 2.274741\n",
            "Train Epoch: 1 [17600/60000 (29%)]\tLoss: 2.289635\n",
            "Train Epoch: 1 [17920/60000 (30%)]\tLoss: 2.297899\n",
            "Train Epoch: 1 [18240/60000 (30%)]\tLoss: 2.315279\n",
            "Train Epoch: 1 [18560/60000 (31%)]\tLoss: 2.290878\n",
            "Train Epoch: 1 [18880/60000 (31%)]\tLoss: 2.325536\n",
            "Train Epoch: 1 [19200/60000 (32%)]\tLoss: 2.338990\n",
            "Train Epoch: 1 [19520/60000 (33%)]\tLoss: 2.299330\n",
            "Train Epoch: 1 [19840/60000 (33%)]\tLoss: 2.310891\n",
            "Train Epoch: 1 [20160/60000 (34%)]\tLoss: 2.307941\n",
            "Train Epoch: 1 [20480/60000 (34%)]\tLoss: 2.318219\n",
            "Train Epoch: 1 [20800/60000 (35%)]\tLoss: 2.303615\n",
            "Train Epoch: 1 [21120/60000 (35%)]\tLoss: 2.304452\n",
            "Train Epoch: 1 [21440/60000 (36%)]\tLoss: 2.305976\n",
            "Train Epoch: 1 [21760/60000 (36%)]\tLoss: 2.282865\n",
            "Train Epoch: 1 [22080/60000 (37%)]\tLoss: 2.304996\n",
            "Train Epoch: 1 [22400/60000 (37%)]\tLoss: 2.280033\n",
            "Train Epoch: 1 [22720/60000 (38%)]\tLoss: 2.293111\n",
            "Train Epoch: 1 [23040/60000 (38%)]\tLoss: 2.258114\n",
            "Train Epoch: 1 [23360/60000 (39%)]\tLoss: 2.348573\n",
            "Train Epoch: 1 [23680/60000 (39%)]\tLoss: 2.297622\n",
            "Train Epoch: 1 [24000/60000 (40%)]\tLoss: 2.359810\n",
            "Train Epoch: 1 [24320/60000 (41%)]\tLoss: 2.270826\n",
            "Train Epoch: 1 [24640/60000 (41%)]\tLoss: 2.325166\n",
            "Train Epoch: 1 [24960/60000 (42%)]\tLoss: 2.276279\n",
            "Train Epoch: 1 [25280/60000 (42%)]\tLoss: 2.275935\n",
            "Train Epoch: 1 [25600/60000 (43%)]\tLoss: 2.306362\n",
            "Train Epoch: 1 [25920/60000 (43%)]\tLoss: 2.356541\n",
            "Train Epoch: 1 [26240/60000 (44%)]\tLoss: 2.305556\n",
            "Train Epoch: 1 [26560/60000 (44%)]\tLoss: 2.318290\n",
            "Train Epoch: 1 [26880/60000 (45%)]\tLoss: 2.300031\n",
            "Train Epoch: 1 [27200/60000 (45%)]\tLoss: 2.305819\n",
            "Train Epoch: 1 [27520/60000 (46%)]\tLoss: 2.306595\n",
            "Train Epoch: 1 [27840/60000 (46%)]\tLoss: 2.308918\n",
            "Train Epoch: 1 [28160/60000 (47%)]\tLoss: 2.277434\n",
            "Train Epoch: 1 [28480/60000 (47%)]\tLoss: 2.296984\n",
            "Train Epoch: 1 [28800/60000 (48%)]\tLoss: 2.327307\n",
            "Train Epoch: 1 [29120/60000 (49%)]\tLoss: 2.290905\n",
            "Train Epoch: 1 [29440/60000 (49%)]\tLoss: 2.306478\n",
            "Train Epoch: 1 [29760/60000 (50%)]\tLoss: 2.316835\n",
            "Train Epoch: 1 [30080/60000 (50%)]\tLoss: 2.299529\n",
            "Train Epoch: 1 [30400/60000 (51%)]\tLoss: 2.312072\n",
            "Train Epoch: 1 [30720/60000 (51%)]\tLoss: 2.282683\n",
            "Train Epoch: 1 [31040/60000 (52%)]\tLoss: 2.292108\n",
            "Train Epoch: 1 [31360/60000 (52%)]\tLoss: 2.299948\n",
            "Train Epoch: 1 [31680/60000 (53%)]\tLoss: 2.288538\n",
            "Train Epoch: 1 [32000/60000 (53%)]\tLoss: 2.329096\n",
            "Train Epoch: 1 [32320/60000 (54%)]\tLoss: 2.295672\n",
            "Train Epoch: 1 [32640/60000 (54%)]\tLoss: 2.267048\n",
            "Train Epoch: 1 [32960/60000 (55%)]\tLoss: 2.295970\n",
            "Train Epoch: 1 [33280/60000 (55%)]\tLoss: 2.307371\n",
            "Train Epoch: 1 [33600/60000 (56%)]\tLoss: 2.290073\n",
            "Train Epoch: 1 [33920/60000 (57%)]\tLoss: 2.314439\n",
            "Train Epoch: 1 [34240/60000 (57%)]\tLoss: 2.353003\n",
            "Train Epoch: 1 [34560/60000 (58%)]\tLoss: 2.262589\n",
            "Train Epoch: 1 [34880/60000 (58%)]\tLoss: 2.315525\n",
            "Train Epoch: 1 [35200/60000 (59%)]\tLoss: 2.306998\n",
            "Train Epoch: 1 [35520/60000 (59%)]\tLoss: 2.294704\n",
            "Train Epoch: 1 [35840/60000 (60%)]\tLoss: 2.263612\n",
            "Train Epoch: 1 [36160/60000 (60%)]\tLoss: 2.263555\n",
            "Train Epoch: 1 [36480/60000 (61%)]\tLoss: 2.304748\n",
            "Train Epoch: 1 [36800/60000 (61%)]\tLoss: 2.297401\n",
            "Train Epoch: 1 [37120/60000 (62%)]\tLoss: 2.324161\n",
            "Train Epoch: 1 [37440/60000 (62%)]\tLoss: 2.300454\n",
            "Train Epoch: 1 [37760/60000 (63%)]\tLoss: 2.322735\n",
            "Train Epoch: 1 [38080/60000 (63%)]\tLoss: 2.368777\n",
            "Train Epoch: 1 [38400/60000 (64%)]\tLoss: 2.279882\n",
            "Train Epoch: 1 [38720/60000 (65%)]\tLoss: 2.304004\n",
            "Train Epoch: 1 [39040/60000 (65%)]\tLoss: 2.284279\n",
            "Train Epoch: 1 [39360/60000 (66%)]\tLoss: 2.297639\n",
            "Train Epoch: 1 [39680/60000 (66%)]\tLoss: 2.294699\n",
            "Train Epoch: 1 [40000/60000 (67%)]\tLoss: 2.313536\n",
            "Train Epoch: 1 [40320/60000 (67%)]\tLoss: 2.320563\n",
            "Train Epoch: 1 [40640/60000 (68%)]\tLoss: 2.370407\n",
            "Train Epoch: 1 [40960/60000 (68%)]\tLoss: 2.285898\n",
            "Train Epoch: 1 [41280/60000 (69%)]\tLoss: 2.326916\n",
            "Train Epoch: 1 [41600/60000 (69%)]\tLoss: 2.273321\n",
            "Train Epoch: 1 [41920/60000 (70%)]\tLoss: 2.320154\n",
            "Train Epoch: 1 [42240/60000 (70%)]\tLoss: 2.303924\n",
            "Train Epoch: 1 [42560/60000 (71%)]\tLoss: 2.308012\n",
            "Train Epoch: 1 [42880/60000 (71%)]\tLoss: 2.289429\n",
            "Train Epoch: 1 [43200/60000 (72%)]\tLoss: 2.351315\n",
            "Train Epoch: 1 [43520/60000 (73%)]\tLoss: 2.302774\n",
            "Train Epoch: 1 [43840/60000 (73%)]\tLoss: 2.313153\n",
            "Train Epoch: 1 [44160/60000 (74%)]\tLoss: 2.250482\n",
            "Train Epoch: 1 [44480/60000 (74%)]\tLoss: 2.352226\n",
            "Train Epoch: 1 [44800/60000 (75%)]\tLoss: 2.334335\n",
            "Train Epoch: 1 [45120/60000 (75%)]\tLoss: 2.312241\n",
            "Train Epoch: 1 [45440/60000 (76%)]\tLoss: 2.326983\n",
            "Train Epoch: 1 [45760/60000 (76%)]\tLoss: 2.308735\n",
            "Train Epoch: 1 [46080/60000 (77%)]\tLoss: 2.315725\n",
            "Train Epoch: 1 [46400/60000 (77%)]\tLoss: 2.294090\n",
            "Train Epoch: 1 [46720/60000 (78%)]\tLoss: 2.297103\n",
            "Train Epoch: 1 [47040/60000 (78%)]\tLoss: 2.303964\n",
            "Train Epoch: 1 [47360/60000 (79%)]\tLoss: 2.285980\n",
            "Train Epoch: 1 [47680/60000 (79%)]\tLoss: 2.274390\n",
            "Train Epoch: 1 [48000/60000 (80%)]\tLoss: 2.289648\n",
            "Train Epoch: 1 [48320/60000 (81%)]\tLoss: 2.343636\n",
            "Train Epoch: 1 [48640/60000 (81%)]\tLoss: 2.273808\n",
            "Train Epoch: 1 [48960/60000 (82%)]\tLoss: 2.307617\n",
            "Train Epoch: 1 [49280/60000 (82%)]\tLoss: 2.286507\n",
            "Train Epoch: 1 [49600/60000 (83%)]\tLoss: 2.296144\n",
            "Train Epoch: 1 [49920/60000 (83%)]\tLoss: 2.317780\n",
            "Train Epoch: 1 [50240/60000 (84%)]\tLoss: 2.290751\n",
            "Train Epoch: 1 [50560/60000 (84%)]\tLoss: 2.283756\n",
            "Train Epoch: 1 [50880/60000 (85%)]\tLoss: 2.292439\n",
            "Train Epoch: 1 [51200/60000 (85%)]\tLoss: 2.293443\n",
            "Train Epoch: 1 [51520/60000 (86%)]\tLoss: 2.274408\n",
            "Train Epoch: 1 [51840/60000 (86%)]\tLoss: 2.323233\n",
            "Train Epoch: 1 [52160/60000 (87%)]\tLoss: 2.295021\n",
            "Train Epoch: 1 [52480/60000 (87%)]\tLoss: 2.287096\n",
            "Train Epoch: 1 [52800/60000 (88%)]\tLoss: 2.284527\n",
            "Train Epoch: 1 [53120/60000 (89%)]\tLoss: 2.316023\n",
            "Train Epoch: 1 [53440/60000 (89%)]\tLoss: 2.301162\n",
            "Train Epoch: 1 [53760/60000 (90%)]\tLoss: 2.286717\n",
            "Train Epoch: 1 [54080/60000 (90%)]\tLoss: 2.272965\n",
            "Train Epoch: 1 [54400/60000 (91%)]\tLoss: 2.302833\n",
            "Train Epoch: 1 [54720/60000 (91%)]\tLoss: 2.297787\n",
            "Train Epoch: 1 [55040/60000 (92%)]\tLoss: 2.283930\n",
            "Train Epoch: 1 [55360/60000 (92%)]\tLoss: 2.320672\n",
            "Train Epoch: 1 [55680/60000 (93%)]\tLoss: 2.303849\n",
            "Train Epoch: 1 [56000/60000 (93%)]\tLoss: 2.307210\n",
            "Train Epoch: 1 [56320/60000 (94%)]\tLoss: 2.306934\n",
            "Train Epoch: 1 [56640/60000 (94%)]\tLoss: 2.334194\n",
            "Train Epoch: 1 [56960/60000 (95%)]\tLoss: 2.312376\n",
            "Train Epoch: 1 [57280/60000 (95%)]\tLoss: 2.273846\n",
            "Train Epoch: 1 [57600/60000 (96%)]\tLoss: 2.277941\n",
            "Train Epoch: 1 [57920/60000 (97%)]\tLoss: 2.319242\n",
            "Train Epoch: 1 [58240/60000 (97%)]\tLoss: 2.296134\n",
            "Train Epoch: 1 [58560/60000 (98%)]\tLoss: 2.295676\n",
            "Train Epoch: 1 [58880/60000 (98%)]\tLoss: 2.305830\n",
            "Train Epoch: 1 [59200/60000 (99%)]\tLoss: 2.295364\n",
            "Train Epoch: 1 [59520/60000 (99%)]\tLoss: 2.306291\n",
            "Train Epoch: 1 [59840/60000 (100%)]\tLoss: 2.276663\n"
          ]
        },
        {
          "output_type": "stream",
          "name": "stderr",
          "text": [
            "/usr/local/lib/python3.10/dist-packages/torch/nn/_reduction.py:51: UserWarning: size_average and reduce args will be deprecated, please use reduction='sum' instead.\n",
            "  warnings.warn(warning.format(ret))\n"
          ]
        },
        {
          "output_type": "stream",
          "name": "stdout",
          "text": [
            "\n",
            "Test set: Average loss: 2.2858, Accuracy: 2102/10000 (21%)\n",
            "\n"
          ]
        }
      ]
    },
    {
      "cell_type": "code",
      "source": [],
      "metadata": {
        "id": "9m3--4A-nDL-"
      },
      "execution_count": 11,
      "outputs": []
    }
  ]
}