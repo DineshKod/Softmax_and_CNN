{
  "nbformat": 4,
  "nbformat_minor": 0,
  "metadata": {
    "colab": {
      "provenance": []
    },
    "kernelspec": {
      "name": "python3",
      "display_name": "Python 3"
    }
  },
  "cells": [
    {
      "cell_type": "markdown",
      "metadata": {
        "id": "9XHd5ExbUIUg"
      },
      "source": [
        "# Pytorch with the MNIST Dataset - MINST"
      ]
    },
    {
      "cell_type": "code",
      "metadata": {
        "id": "Su0COdCqT2Wk"
      },
      "source": [
        "## import libraries\n",
        "from __future__ import print_function\n",
        "import argparse\n",
        "import torch\n",
        "import torch.nn as nn\n",
        "import torch.nn.functional as F\n",
        "import torchvision\n",
        "\n",
        "import torch.optim as optim\n",
        "from torchvision import datasets, transforms\n",
        "from torch.autograd import Variable"
      ],
      "execution_count": 1,
      "outputs": []
    },
    {
      "cell_type": "code",
      "metadata": {
        "id": "rXCYmmjyVRq5",
        "outputId": "4e11824a-9a72-4c07-9e2e-f5456718b4fe",
        "colab": {
          "base_uri": "https://localhost:8080/",
          "height": 0
        }
      },
      "source": [
        "print(torch.__version__)"
      ],
      "execution_count": 2,
      "outputs": [
        {
          "output_type": "stream",
          "name": "stdout",
          "text": [
            "2.5.0+cu121\n"
          ]
        }
      ]
    },
    {
      "cell_type": "code",
      "source": [
        "args={}\n",
        "kwargs={}\n",
        "args['batch_size']=32\n",
        "args['test_batch_size']=32\n",
        "args['epochs']=1  #The number of Epochs is the number of times you go through the full dataset.\n",
        "args['lr']=0.01 #Learning rate is how fast it will decend.\n",
        "args['momentum']=0.5 #SGD momentum (default: 0.5) Momentum is a moving average of our gradients (helps to keep direction).\n",
        "\n",
        "args['seed']=1 #random seed\n",
        "args['log_interval']=10\n",
        "args['cuda']=True #if the computer has a GPU, type True, otherwise, False"
      ],
      "metadata": {
        "id": "Fp3VqwxU9teg"
      },
      "execution_count": 3,
      "outputs": []
    },
    {
      "cell_type": "markdown",
      "source": [
        "This code is adopted from the pytorch examples repository. It is licensed under BSD 3-Clause \"New\" or \"Revised\" License. Source: https://github.com/pytorch/examples/ LICENSE: https://github.com/pytorch/examples/blob/master/LICENSE"
      ],
      "metadata": {
        "id": "ys8268Yr6sAC"
      }
    },
    {
      "cell_type": "markdown",
      "metadata": {
        "id": "hhuQyU7AYE6K"
      },
      "source": [
        "## Load Dataset\n",
        "The first step before training the model is to import the data. We will use the [MNIST dataset](http://yann.lecun.com/exdb/mnist/) which is like the Hello World dataset of machine learning.\n",
        "\n",
        "Besides importing the data, we will also do a few more things:\n",
        "- We will tranform the data into tensors using the `transforms` module\n",
        "- We will use `DataLoader` to build convenient data loaders or what are referred to as iterators, which makes it easy to efficiently feed data in batches to deep learning models.\n",
        "- As hinted above, we will also create batches of the data by setting the `batch` parameter inside the data loader. Notice we use batches of `32` in this tutorial but you can change it to `64` if you like. I encourage you to experiment with different batches."
      ]
    },
    {
      "cell_type": "code",
      "metadata": {
        "id": "tSjjLXrOVWBy",
        "colab": {
          "base_uri": "https://localhost:8080/",
          "height": 0
        },
        "outputId": "07ff858b-2fe5-485a-f580-ceb9d2ee06e9"
      },
      "source": [
        "## transformations\n",
        "transform = transforms.Compose([\n",
        "                       transforms.ToTensor(),\n",
        "                       transforms.Normalize((0.1307,), (0.3081,))\n",
        "                   ])\n",
        "\n",
        "## download and load training dataset\n",
        "trainset = datasets.MNIST(root='../data', train=True, download=True, transform=transform)\n",
        "train_loader = torch.utils.data.DataLoader(trainset, batch_size=args['batch_size'], shuffle=True, **kwargs)\n",
        "\n",
        "## download and load testing dataset\n",
        "testset = torchvision.datasets.MNIST(root='./data', train=False, download=True, transform=transform)\n",
        "test_loader = torch.utils.data.DataLoader(testset, batch_size=args['test_batch_size'], shuffle=True, **kwargs)"
      ],
      "execution_count": 4,
      "outputs": [
        {
          "output_type": "stream",
          "name": "stdout",
          "text": [
            "Downloading http://yann.lecun.com/exdb/mnist/train-images-idx3-ubyte.gz\n",
            "Failed to download (trying next):\n",
            "<urlopen error [SSL: CERTIFICATE_VERIFY_FAILED] certificate verify failed: certificate has expired (_ssl.c:1007)>\n",
            "\n",
            "Downloading https://ossci-datasets.s3.amazonaws.com/mnist/train-images-idx3-ubyte.gz\n",
            "Downloading https://ossci-datasets.s3.amazonaws.com/mnist/train-images-idx3-ubyte.gz to ../data/MNIST/raw/train-images-idx3-ubyte.gz\n"
          ]
        },
        {
          "output_type": "stream",
          "name": "stderr",
          "text": [
            "100%|██████████| 9.91M/9.91M [00:00<00:00, 11.7MB/s]\n"
          ]
        },
        {
          "output_type": "stream",
          "name": "stdout",
          "text": [
            "Extracting ../data/MNIST/raw/train-images-idx3-ubyte.gz to ../data/MNIST/raw\n",
            "\n",
            "Downloading http://yann.lecun.com/exdb/mnist/train-labels-idx1-ubyte.gz\n",
            "Failed to download (trying next):\n",
            "<urlopen error [SSL: CERTIFICATE_VERIFY_FAILED] certificate verify failed: certificate has expired (_ssl.c:1007)>\n",
            "\n",
            "Downloading https://ossci-datasets.s3.amazonaws.com/mnist/train-labels-idx1-ubyte.gz\n",
            "Downloading https://ossci-datasets.s3.amazonaws.com/mnist/train-labels-idx1-ubyte.gz to ../data/MNIST/raw/train-labels-idx1-ubyte.gz\n"
          ]
        },
        {
          "output_type": "stream",
          "name": "stderr",
          "text": [
            "100%|██████████| 28.9k/28.9k [00:00<00:00, 347kB/s]\n"
          ]
        },
        {
          "output_type": "stream",
          "name": "stdout",
          "text": [
            "Extracting ../data/MNIST/raw/train-labels-idx1-ubyte.gz to ../data/MNIST/raw\n",
            "\n",
            "Downloading http://yann.lecun.com/exdb/mnist/t10k-images-idx3-ubyte.gz\n",
            "Failed to download (trying next):\n",
            "<urlopen error [SSL: CERTIFICATE_VERIFY_FAILED] certificate verify failed: certificate has expired (_ssl.c:1007)>\n",
            "\n",
            "Downloading https://ossci-datasets.s3.amazonaws.com/mnist/t10k-images-idx3-ubyte.gz\n",
            "Downloading https://ossci-datasets.s3.amazonaws.com/mnist/t10k-images-idx3-ubyte.gz to ../data/MNIST/raw/t10k-images-idx3-ubyte.gz\n"
          ]
        },
        {
          "output_type": "stream",
          "name": "stderr",
          "text": [
            "100%|██████████| 1.65M/1.65M [00:00<00:00, 2.76MB/s]\n"
          ]
        },
        {
          "output_type": "stream",
          "name": "stdout",
          "text": [
            "Extracting ../data/MNIST/raw/t10k-images-idx3-ubyte.gz to ../data/MNIST/raw\n",
            "\n",
            "Downloading http://yann.lecun.com/exdb/mnist/t10k-labels-idx1-ubyte.gz\n",
            "Failed to download (trying next):\n",
            "<urlopen error [SSL: CERTIFICATE_VERIFY_FAILED] certificate verify failed: certificate has expired (_ssl.c:1007)>\n",
            "\n",
            "Downloading https://ossci-datasets.s3.amazonaws.com/mnist/t10k-labels-idx1-ubyte.gz\n",
            "Downloading https://ossci-datasets.s3.amazonaws.com/mnist/t10k-labels-idx1-ubyte.gz to ../data/MNIST/raw/t10k-labels-idx1-ubyte.gz\n"
          ]
        },
        {
          "output_type": "stream",
          "name": "stderr",
          "text": [
            "100%|██████████| 4.54k/4.54k [00:00<00:00, 9.78MB/s]\n"
          ]
        },
        {
          "output_type": "stream",
          "name": "stdout",
          "text": [
            "Extracting ../data/MNIST/raw/t10k-labels-idx1-ubyte.gz to ../data/MNIST/raw\n",
            "\n",
            "Downloading http://yann.lecun.com/exdb/mnist/train-images-idx3-ubyte.gz\n",
            "Failed to download (trying next):\n",
            "<urlopen error [SSL: CERTIFICATE_VERIFY_FAILED] certificate verify failed: certificate has expired (_ssl.c:1007)>\n",
            "\n",
            "Downloading https://ossci-datasets.s3.amazonaws.com/mnist/train-images-idx3-ubyte.gz\n",
            "Downloading https://ossci-datasets.s3.amazonaws.com/mnist/train-images-idx3-ubyte.gz to ./data/MNIST/raw/train-images-idx3-ubyte.gz\n"
          ]
        },
        {
          "output_type": "stream",
          "name": "stderr",
          "text": [
            "100%|██████████| 9.91M/9.91M [00:00<00:00, 12.8MB/s]\n"
          ]
        },
        {
          "output_type": "stream",
          "name": "stdout",
          "text": [
            "Extracting ./data/MNIST/raw/train-images-idx3-ubyte.gz to ./data/MNIST/raw\n",
            "\n",
            "Downloading http://yann.lecun.com/exdb/mnist/train-labels-idx1-ubyte.gz\n",
            "Failed to download (trying next):\n",
            "<urlopen error [SSL: CERTIFICATE_VERIFY_FAILED] certificate verify failed: certificate has expired (_ssl.c:1007)>\n",
            "\n",
            "Downloading https://ossci-datasets.s3.amazonaws.com/mnist/train-labels-idx1-ubyte.gz\n",
            "Downloading https://ossci-datasets.s3.amazonaws.com/mnist/train-labels-idx1-ubyte.gz to ./data/MNIST/raw/train-labels-idx1-ubyte.gz\n"
          ]
        },
        {
          "output_type": "stream",
          "name": "stderr",
          "text": [
            "100%|██████████| 28.9k/28.9k [00:00<00:00, 351kB/s]\n"
          ]
        },
        {
          "output_type": "stream",
          "name": "stdout",
          "text": [
            "Extracting ./data/MNIST/raw/train-labels-idx1-ubyte.gz to ./data/MNIST/raw\n",
            "\n",
            "Downloading http://yann.lecun.com/exdb/mnist/t10k-images-idx3-ubyte.gz\n",
            "Failed to download (trying next):\n",
            "<urlopen error [SSL: CERTIFICATE_VERIFY_FAILED] certificate verify failed: certificate has expired (_ssl.c:1007)>\n",
            "\n",
            "Downloading https://ossci-datasets.s3.amazonaws.com/mnist/t10k-images-idx3-ubyte.gz\n",
            "Downloading https://ossci-datasets.s3.amazonaws.com/mnist/t10k-images-idx3-ubyte.gz to ./data/MNIST/raw/t10k-images-idx3-ubyte.gz\n"
          ]
        },
        {
          "output_type": "stream",
          "name": "stderr",
          "text": [
            "100%|██████████| 1.65M/1.65M [00:00<00:00, 2.75MB/s]\n"
          ]
        },
        {
          "output_type": "stream",
          "name": "stdout",
          "text": [
            "Extracting ./data/MNIST/raw/t10k-images-idx3-ubyte.gz to ./data/MNIST/raw\n",
            "\n",
            "Downloading http://yann.lecun.com/exdb/mnist/t10k-labels-idx1-ubyte.gz\n",
            "Failed to download (trying next):\n",
            "<urlopen error [SSL: CERTIFICATE_VERIFY_FAILED] certificate verify failed: certificate has expired (_ssl.c:1007)>\n",
            "\n",
            "Downloading https://ossci-datasets.s3.amazonaws.com/mnist/t10k-labels-idx1-ubyte.gz\n",
            "Downloading https://ossci-datasets.s3.amazonaws.com/mnist/t10k-labels-idx1-ubyte.gz to ./data/MNIST/raw/t10k-labels-idx1-ubyte.gz\n"
          ]
        },
        {
          "output_type": "stream",
          "name": "stderr",
          "text": [
            "100%|██████████| 4.54k/4.54k [00:00<00:00, 8.55MB/s]"
          ]
        },
        {
          "output_type": "stream",
          "name": "stdout",
          "text": [
            "Extracting ./data/MNIST/raw/t10k-labels-idx1-ubyte.gz to ./data/MNIST/raw\n",
            "\n"
          ]
        },
        {
          "output_type": "stream",
          "name": "stderr",
          "text": [
            "\n"
          ]
        }
      ]
    },
    {
      "cell_type": "markdown",
      "metadata": {
        "id": "0nZwZukWXUDn"
      },
      "source": [
        "## Exploring the Data\n",
        "As a practioner and researcher, I am always spending a bit of time and effort exploring and understanding the dataset. It's fun and this is a good practise to ensure that everything is in order."
      ]
    },
    {
      "cell_type": "markdown",
      "metadata": {
        "id": "NW_loWKga7CH"
      },
      "source": [
        "Let's check what the train and test dataset contains. I will use `matplotlib` to print out some of the images from our dataset."
      ]
    },
    {
      "cell_type": "code",
      "metadata": {
        "id": "zWd9Pt1Ca6K9",
        "colab": {
          "base_uri": "https://localhost:8080/",
          "height": 352
        },
        "outputId": "88e291ab-b559-49bf-e7c1-277cd8a77e19"
      },
      "source": [
        "import matplotlib.pyplot as plt\n",
        "import numpy as np\n",
        "\n",
        "## functions to show an image\n",
        "def imshow(img):\n",
        "    #img = img / 2 + 0.5     # unnormalize\n",
        "    npimg = img.numpy()\n",
        "    plt.imshow(np.transpose(npimg, (1, 2, 0)))\n",
        "\n",
        "## get some random training images\n",
        "dataiter = iter(train_loader)\n",
        "images, labels = next(dataiter)\n",
        "\n",
        "## show images\n",
        "imshow(torchvision.utils.make_grid(images))"
      ],
      "execution_count": 5,
      "outputs": [
        {
          "output_type": "stream",
          "name": "stderr",
          "text": [
            "WARNING:matplotlib.image:Clipping input data to the valid range for imshow with RGB data ([0..1] for floats or [0..255] for integers).\n"
          ]
        },
        {
          "output_type": "display_data",
          "data": {
            "text/plain": [
              "<Figure size 640x480 with 1 Axes>"
            ],
            "image/png": "[encoded data removed]"
          },
          "metadata": {}
        }
      ]
    },
    {
      "cell_type": "markdown",
      "metadata": {
        "id": "d9mXAVmRvhrq"
      },
      "source": [
        "Let's check the dimensions of a batch."
      ]
    },
    {
      "cell_type": "code",
      "metadata": {
        "id": "cNFKWz1GZ4R5",
        "colab": {
          "base_uri": "https://localhost:8080/",
          "height": 0
        },
        "outputId": "435814cf-7fe0-4823-c856-0ac583d81604"
      },
      "source": [
        "for images, labels in train_loader:\n",
        "    print(\"Image batch dimensions:\", images.shape)\n",
        "    print(\"Image label dimensions:\", labels.shape)\n",
        "    break"
      ],
      "execution_count": 6,
      "outputs": [
        {
          "output_type": "stream",
          "name": "stdout",
          "text": [
            "Image batch dimensions: torch.Size([32, 1, 28, 28])\n",
            "Image label dimensions: torch.Size([32])\n"
          ]
        }
      ]
    },
    {
      "cell_type": "markdown",
      "metadata": {
        "id": "tmaCTw5tXowR"
      },
      "source": [
        "## The Model\n",
        "We provide two fully-connected neural net as the initial architecture.\n",
        "\n",
        "Here are a few notes for those who are beginning with PyTorch:\n",
        "- The model below consists of an `__init__()` portion which is where you include the layers and components of the neural network. In our model, we have two fully-connected netork network. We are dealing with an image dataset that is in a grayscale so we only need one channel going in, hence `in_channels=1`.\n",
        "\n",
        "- After the first layer, we also apply an activation function such as `ReLU`. For prediction purposes, we then apply a `softmax` layer to the last transformation and return the output of that.  "
      ]
    },
    {
      "cell_type": "code",
      "metadata": {
        "id": "_IYnV4ZBa3cJ"
      },
      "source": [
        "class Net(nn.Module):\n",
        "    #This defines the structure of the NN.\n",
        "    def __init__(self):\n",
        "        super(Net, self).__init__()\n",
        "        self.fc1 = nn.Linear(784, 256)\n",
        "        self.fc2 = nn.Linear(256, 10)\n",
        "\n",
        "    def forward(self, x):\n",
        "        x=x.view(-1,784)\n",
        "        x = F.relu(self.fc1(x))\n",
        "        x = self.fc2(x)\n",
        "\n",
        "        #Softmax gets probabilities.\n",
        "        return F.log_softmax(x, dim=1)\n"
      ],
      "execution_count": 7,
      "outputs": []
    },
    {
      "cell_type": "markdown",
      "source": [
        "**Now, add one CNN layer with a pooling to the above neural network and rerun the code to see whether you get higher prediction accuracy on the test set.**\n",
        "\n",
        "For example, you may try `out_channels=32`. Kernel size is 5, and for the rest of parameters we use the default values which you can find [here](https://pytorch.org/docs/stable/nn.html?highlight=conv2d#conv2d).\n",
        "\n",
        "- In short, the convolutional layer transforms the input data into a specific dimension that has to be considered in the linear layer.\n",
        "\n",
        "Make sure your flatten the output of CNN layer excluding # of batch so that the input of each example/batch has the same size of the first neural net.\n",
        "\n",
        "Tips: You can use x.view(-1, # of input size of the first fully-connected layer) or you can use torch.flatten(x, 1)."
      ],
      "metadata": {
        "id": "ZqgR0prhZD3z"
      }
    },
    {
      "cell_type": "markdown",
      "metadata": {
        "id": "evsFbkq_X6bc"
      },
      "source": [
        "I always encourage to test the model with 1 batch to ensure that the output dimensions are what we expect."
      ]
    },
    {
      "cell_type": "code",
      "source": [],
      "metadata": {
        "id": "tRkFvePEZCHd"
      },
      "execution_count": 7,
      "outputs": []
    },
    {
      "cell_type": "code",
      "metadata": {
        "id": "1poxFYqftKov",
        "colab": {
          "base_uri": "https://localhost:8080/",
          "height": 0
        },
        "outputId": "ca17ba80-6319-4a90-ec9f-2e855b75a7df"
      },
      "source": [
        "## test the model with 1 batch\n",
        "model = Net()\n",
        "#print(model)\n",
        "for images, labels in train_loader:\n",
        "    print(\"batch size:\", args['batch_size'])\n",
        "    out = model(images)\n",
        "    print(out.shape)\n",
        "    break"
      ],
      "execution_count": 8,
      "outputs": [
        {
          "output_type": "stream",
          "name": "stdout",
          "text": [
            "batch size: 32\n",
            "torch.Size([32, 10])\n"
          ]
        }
      ]
    },
    {
      "cell_type": "markdown",
      "metadata": {
        "id": "9h_3eZQRHV_P"
      },
      "source": [
        "## Training the Model\n",
        "Now we are ready to train the model."
      ]
    },
    {
      "cell_type": "code",
      "metadata": {
        "id": "E59hwZlAIVcL"
      },
      "source": [
        "def train(epoch):\n",
        "    model.train()\n",
        "    for batch_idx, (data, target) in enumerate(train_loader):\n",
        "        if args['cuda']:\n",
        "            data, target = data.cuda(), target.cuda()\n",
        "        #Variables in Pytorch are differenciable.\n",
        "        data, target = Variable(data), Variable(target)\n",
        "        #This will zero out the gradients for this batch.\n",
        "        optimizer.zero_grad()\n",
        "        output = model(data)\n",
        "        # Calculate the loss The negative log likelihood loss. It is useful to train a classification problem with C classes.\n",
        "        loss = F.nll_loss(output, target)\n",
        "        #dloss/dx for every Variable\n",
        "        loss.backward()\n",
        "        #to do a one-step update on our parameter.\n",
        "        optimizer.step()\n",
        "        #Print out the loss periodically.\n",
        "        if batch_idx % args['log_interval'] == 0:\n",
        "            print('Train Epoch: {} [{}/{} ({:.0f}%)]\\tLoss: {:.6f}'.format(\n",
        "                epoch, batch_idx * len(data), len(train_loader.dataset),\n",
        "                100. * batch_idx / len(train_loader), loss.data.item()))"
      ],
      "execution_count": 9,
      "outputs": []
    },
    {
      "cell_type": "code",
      "source": [
        "def test():\n",
        "    model.eval()\n",
        "    test_loss = 0\n",
        "    correct = 0\n",
        "\n",
        "    with torch.no_grad():\n",
        "      for data, target in test_loader:\n",
        "          if args['cuda']:\n",
        "              data, target = data.cuda(), target.cuda()\n",
        "          data, target = Variable(data), Variable(target)\n",
        "          output = model(data)\n",
        "          test_loss += F.nll_loss(output, target, size_average=False).data.item() # sum up batch loss\n",
        "          pred = output.data.max(1, keepdim=True)[1] # get the index of the max log-probability\n",
        "          correct += pred.eq(target.data.view_as(pred)).long().cpu().sum()\n",
        "\n",
        "    test_loss /= len(test_loader.dataset)\n",
        "    print('\\nTest set: Average loss: {:.4f}, Accuracy: {}/{} ({:.0f}%)\\n'.format(\n",
        "        test_loss, correct, len(test_loader.dataset),\n",
        "        100. * correct / len(test_loader.dataset)))"
      ],
      "metadata": {
        "id": "dmoO9DlN_Ir6"
      },
      "execution_count": 10,
      "outputs": []
    },
    {
      "cell_type": "code",
      "source": [
        "model = Net()\n",
        "if args['cuda']:\n",
        "    model.cuda()\n",
        "\n",
        "optimizer = optim.SGD(model.parameters(), lr=args['lr'], momentum=args['momentum'])\n",
        "\n",
        "for epoch in range(1, args['epochs'] + 1):\n",
        "    train(epoch)\n",
        "    test()"
      ],
      "metadata": {
        "id": "PQcWwu_A_2gx",
        "colab": {
          "base_uri": "https://localhost:8080/",
          "height": 0
        },
        "outputId": "759d3f34-aaff-4d32-8edf-678eb6f63b67"
      },
      "execution_count": 11,
      "outputs": [
        {
          "output_type": "stream",
          "name": "stdout",
          "text": [
            "Train Epoch: 1 [0/60000 (0%)]\tLoss: 2.293060\n",
            "Train Epoch: 1 [320/60000 (1%)]\tLoss: 1.917455\n",
            "Train Epoch: 1 [640/60000 (1%)]\tLoss: 1.790087\n",
            "Train Epoch: 1 [960/60000 (2%)]\tLoss: 1.600113\n",
            "Train Epoch: 1 [1280/60000 (2%)]\tLoss: 1.217005\n",
            "Train Epoch: 1 [1600/60000 (3%)]\tLoss: 0.952603\n",
            "Train Epoch: 1 [1920/60000 (3%)]\tLoss: 0.971418\n",
            "Train Epoch: 1 [2240/60000 (4%)]\tLoss: 0.836826\n",
            "Train Epoch: 1 [2560/60000 (4%)]\tLoss: 0.662220\n",
            "Train Epoch: 1 [2880/60000 (5%)]\tLoss: 0.610734\n",
            "Train Epoch: 1 [3200/60000 (5%)]\tLoss: 0.512504\n",
            "Train Epoch: 1 [3520/60000 (6%)]\tLoss: 0.648852\n",
            "Train Epoch: 1 [3840/60000 (6%)]\tLoss: 0.561425\n",
            "Train Epoch: 1 [4160/60000 (7%)]\tLoss: 0.411029\n",
            "Train Epoch: 1 [4480/60000 (7%)]\tLoss: 0.329969\n",
            "Train Epoch: 1 [4800/60000 (8%)]\tLoss: 0.459588\n",
            "Train Epoch: 1 [5120/60000 (9%)]\tLoss: 0.438248\n",
            "Train Epoch: 1 [5440/60000 (9%)]\tLoss: 0.364564\n",
            "Train Epoch: 1 [5760/60000 (10%)]\tLoss: 0.467625\n",
            "Train Epoch: 1 [6080/60000 (10%)]\tLoss: 0.413565\n",
            "Train Epoch: 1 [6400/60000 (11%)]\tLoss: 0.474174\n",
            "Train Epoch: 1 [6720/60000 (11%)]\tLoss: 0.577901\n",
            "Train Epoch: 1 [7040/60000 (12%)]\tLoss: 0.407320\n",
            "Train Epoch: 1 [7360/60000 (12%)]\tLoss: 0.471540\n",
            "Train Epoch: 1 [7680/60000 (13%)]\tLoss: 0.686308\n",
            "Train Epoch: 1 [8000/60000 (13%)]\tLoss: 0.282216\n",
            "Train Epoch: 1 [8320/60000 (14%)]\tLoss: 0.370566\n",
            "Train Epoch: 1 [8640/60000 (14%)]\tLoss: 0.385066\n",
            "Train Epoch: 1 [8960/60000 (15%)]\tLoss: 0.191367\n",
            "Train Epoch: 1 [9280/60000 (15%)]\tLoss: 0.396781\n",
            "Train Epoch: 1 [9600/60000 (16%)]\tLoss: 0.224272\n",
            "Train Epoch: 1 [9920/60000 (17%)]\tLoss: 0.619895\n",
            "Train Epoch: 1 [10240/60000 (17%)]\tLoss: 0.414010\n",
            "Train Epoch: 1 [10560/60000 (18%)]\tLoss: 0.252327\n",
            "Train Epoch: 1 [10880/60000 (18%)]\tLoss: 0.504635\n",
            "Train Epoch: 1 [11200/60000 (19%)]\tLoss: 0.410250\n",
            "Train Epoch: 1 [11520/60000 (19%)]\tLoss: 0.255865\n",
            "Train Epoch: 1 [11840/60000 (20%)]\tLoss: 0.272093\n",
            "Train Epoch: 1 [12160/60000 (20%)]\tLoss: 0.264053\n",
            "Train Epoch: 1 [12480/60000 (21%)]\tLoss: 0.251841\n",
            "Train Epoch: 1 [12800/60000 (21%)]\tLoss: 0.195704\n",
            "Train Epoch: 1 [13120/60000 (22%)]\tLoss: 0.565653\n",
            "Train Epoch: 1 [13440/60000 (22%)]\tLoss: 0.315896\n",
            "Train Epoch: 1 [13760/60000 (23%)]\tLoss: 0.245693\n",
            "Train Epoch: 1 [14080/60000 (23%)]\tLoss: 0.458839\n",
            "Train Epoch: 1 [14400/60000 (24%)]\tLoss: 0.412539\n",
            "Train Epoch: 1 [14720/60000 (25%)]\tLoss: 0.408029\n",
            "Train Epoch: 1 [15040/60000 (25%)]\tLoss: 0.253210\n",
            "Train Epoch: 1 [15360/60000 (26%)]\tLoss: 0.561921\n",
            "Train Epoch: 1 [15680/60000 (26%)]\tLoss: 0.306529\n",
            "Train Epoch: 1 [16000/60000 (27%)]\tLoss: 0.504479\n",
            "Train Epoch: 1 [16320/60000 (27%)]\tLoss: 0.368869\n",
            "Train Epoch: 1 [16640/60000 (28%)]\tLoss: 0.284341\n",
            "Train Epoch: 1 [16960/60000 (28%)]\tLoss: 0.426976\n",
            "Train Epoch: 1 [17280/60000 (29%)]\tLoss: 0.289075\n",
            "Train Epoch: 1 [17600/60000 (29%)]\tLoss: 0.262630\n",
            "Train Epoch: 1 [17920/60000 (30%)]\tLoss: 0.220034\n",
            "Train Epoch: 1 [18240/60000 (30%)]\tLoss: 0.254141\n",
            "Train Epoch: 1 [18560/60000 (31%)]\tLoss: 0.344806\n",
            "Train Epoch: 1 [18880/60000 (31%)]\tLoss: 0.312344\n",
            "Train Epoch: 1 [19200/60000 (32%)]\tLoss: 0.084764\n",
            "Train Epoch: 1 [19520/60000 (33%)]\tLoss: 0.191973\n",
            "Train Epoch: 1 [19840/60000 (33%)]\tLoss: 0.258200\n",
            "Train Epoch: 1 [20160/60000 (34%)]\tLoss: 0.405576\n",
            "Train Epoch: 1 [20480/60000 (34%)]\tLoss: 0.373860\n",
            "Train Epoch: 1 [20800/60000 (35%)]\tLoss: 0.236313\n",
            "Train Epoch: 1 [21120/60000 (35%)]\tLoss: 0.238644\n",
            "Train Epoch: 1 [21440/60000 (36%)]\tLoss: 0.673828\n",
            "Train Epoch: 1 [21760/60000 (36%)]\tLoss: 0.564856\n",
            "Train Epoch: 1 [22080/60000 (37%)]\tLoss: 0.198912\n",
            "Train Epoch: 1 [22400/60000 (37%)]\tLoss: 0.129658\n",
            "Train Epoch: 1 [22720/60000 (38%)]\tLoss: 0.230160\n",
            "Train Epoch: 1 [23040/60000 (38%)]\tLoss: 0.528318\n",
            "Train Epoch: 1 [23360/60000 (39%)]\tLoss: 0.218461\n",
            "Train Epoch: 1 [23680/60000 (39%)]\tLoss: 0.258088\n",
            "Train Epoch: 1 [24000/60000 (40%)]\tLoss: 0.153378\n",
            "Train Epoch: 1 [24320/60000 (41%)]\tLoss: 0.131618\n",
            "Train Epoch: 1 [24640/60000 (41%)]\tLoss: 0.104242\n",
            "Train Epoch: 1 [24960/60000 (42%)]\tLoss: 0.363586\n",
            "Train Epoch: 1 [25280/60000 (42%)]\tLoss: 0.341135\n",
            "Train Epoch: 1 [25600/60000 (43%)]\tLoss: 0.086998\n",
            "Train Epoch: 1 [25920/60000 (43%)]\tLoss: 0.454320\n",
            "Train Epoch: 1 [26240/60000 (44%)]\tLoss: 0.508591\n",
            "Train Epoch: 1 [26560/60000 (44%)]\tLoss: 0.230078\n",
            "Train Epoch: 1 [26880/60000 (45%)]\tLoss: 0.280750\n",
            "Train Epoch: 1 [27200/60000 (45%)]\tLoss: 0.473412\n",
            "Train Epoch: 1 [27520/60000 (46%)]\tLoss: 0.176014\n",
            "Train Epoch: 1 [27840/60000 (46%)]\tLoss: 0.327996\n",
            "Train Epoch: 1 [28160/60000 (47%)]\tLoss: 0.284257\n",
            "Train Epoch: 1 [28480/60000 (47%)]\tLoss: 0.077131\n",
            "Train Epoch: 1 [28800/60000 (48%)]\tLoss: 0.252095\n",
            "Train Epoch: 1 [29120/60000 (49%)]\tLoss: 0.183391\n",
            "Train Epoch: 1 [29440/60000 (49%)]\tLoss: 0.261668\n",
            "Train Epoch: 1 [29760/60000 (50%)]\tLoss: 0.215523\n",
            "Train Epoch: 1 [30080/60000 (50%)]\tLoss: 0.234600\n",
            "Train Epoch: 1 [30400/60000 (51%)]\tLoss: 0.176233\n",
            "Train Epoch: 1 [30720/60000 (51%)]\tLoss: 0.385412\n",
            "Train Epoch: 1 [31040/60000 (52%)]\tLoss: 0.498166\n",
            "Train Epoch: 1 [31360/60000 (52%)]\tLoss: 0.331593\n",
            "Train Epoch: 1 [31680/60000 (53%)]\tLoss: 0.143275\n",
            "Train Epoch: 1 [32000/60000 (53%)]\tLoss: 0.294365\n",
            "Train Epoch: 1 [32320/60000 (54%)]\tLoss: 0.238933\n",
            "Train Epoch: 1 [32640/60000 (54%)]\tLoss: 0.351669\n",
            "Train Epoch: 1 [32960/60000 (55%)]\tLoss: 0.231018\n",
            "Train Epoch: 1 [33280/60000 (55%)]\tLoss: 0.150983\n",
            "Train Epoch: 1 [33600/60000 (56%)]\tLoss: 0.461052\n",
            "Train Epoch: 1 [33920/60000 (57%)]\tLoss: 0.345400\n",
            "Train Epoch: 1 [34240/60000 (57%)]\tLoss: 0.205066\n",
            "Train Epoch: 1 [34560/60000 (58%)]\tLoss: 0.286144\n",
            "Train Epoch: 1 [34880/60000 (58%)]\tLoss: 0.326807\n",
            "Train Epoch: 1 [35200/60000 (59%)]\tLoss: 0.063051\n",
            "Train Epoch: 1 [35520/60000 (59%)]\tLoss: 0.232725\n",
            "Train Epoch: 1 [35840/60000 (60%)]\tLoss: 0.151234\n",
            "Train Epoch: 1 [36160/60000 (60%)]\tLoss: 0.091843\n",
            "Train Epoch: 1 [36480/60000 (61%)]\tLoss: 0.281609\n",
            "Train Epoch: 1 [36800/60000 (61%)]\tLoss: 0.318261\n",
            "Train Epoch: 1 [37120/60000 (62%)]\tLoss: 0.099778\n",
            "Train Epoch: 1 [37440/60000 (62%)]\tLoss: 0.187424\n",
            "Train Epoch: 1 [37760/60000 (63%)]\tLoss: 0.180607\n",
            "Train Epoch: 1 [38080/60000 (63%)]\tLoss: 0.149706\n",
            "Train Epoch: 1 [38400/60000 (64%)]\tLoss: 0.298479\n",
            "Train Epoch: 1 [38720/60000 (65%)]\tLoss: 0.183727\n",
            "Train Epoch: 1 [39040/60000 (65%)]\tLoss: 0.412609\n",
            "Train Epoch: 1 [39360/60000 (66%)]\tLoss: 0.139609\n",
            "Train Epoch: 1 [39680/60000 (66%)]\tLoss: 0.214714\n",
            "Train Epoch: 1 [40000/60000 (67%)]\tLoss: 0.241302\n",
            "Train Epoch: 1 [40320/60000 (67%)]\tLoss: 0.107711\n",
            "Train Epoch: 1 [40640/60000 (68%)]\tLoss: 0.349077\n",
            "Train Epoch: 1 [40960/60000 (68%)]\tLoss: 0.049792\n",
            "Train Epoch: 1 [41280/60000 (69%)]\tLoss: 0.330852\n",
            "Train Epoch: 1 [41600/60000 (69%)]\tLoss: 0.255292\n",
            "Train Epoch: 1 [41920/60000 (70%)]\tLoss: 0.339543\n",
            "Train Epoch: 1 [42240/60000 (70%)]\tLoss: 0.192364\n",
            "Train Epoch: 1 [42560/60000 (71%)]\tLoss: 0.169319\n",
            "Train Epoch: 1 [42880/60000 (71%)]\tLoss: 0.152910\n",
            "Train Epoch: 1 [43200/60000 (72%)]\tLoss: 0.184399\n",
            "Train Epoch: 1 [43520/60000 (73%)]\tLoss: 0.079404\n",
            "Train Epoch: 1 [43840/60000 (73%)]\tLoss: 0.037523\n",
            "Train Epoch: 1 [44160/60000 (74%)]\tLoss: 0.348019\n",
            "Train Epoch: 1 [44480/60000 (74%)]\tLoss: 0.190606\n",
            "Train Epoch: 1 [44800/60000 (75%)]\tLoss: 0.314320\n",
            "Train Epoch: 1 [45120/60000 (75%)]\tLoss: 0.104228\n",
            "Train Epoch: 1 [45440/60000 (76%)]\tLoss: 0.186347\n",
            "Train Epoch: 1 [45760/60000 (76%)]\tLoss: 0.361625\n",
            "Train Epoch: 1 [46080/60000 (77%)]\tLoss: 0.257177\n",
            "Train Epoch: 1 [46400/60000 (77%)]\tLoss: 0.326452\n",
            "Train Epoch: 1 [46720/60000 (78%)]\tLoss: 0.294093\n",
            "Train Epoch: 1 [47040/60000 (78%)]\tLoss: 0.164783\n",
            "Train Epoch: 1 [47360/60000 (79%)]\tLoss: 0.212110\n",
            "Train Epoch: 1 [47680/60000 (79%)]\tLoss: 0.158090\n",
            "Train Epoch: 1 [48000/60000 (80%)]\tLoss: 0.263229\n",
            "Train Epoch: 1 [48320/60000 (81%)]\tLoss: 0.352698\n",
            "Train Epoch: 1 [48640/60000 (81%)]\tLoss: 0.062806\n",
            "Train Epoch: 1 [48960/60000 (82%)]\tLoss: 0.244389\n",
            "Train Epoch: 1 [49280/60000 (82%)]\tLoss: 0.239072\n",
            "Train Epoch: 1 [49600/60000 (83%)]\tLoss: 0.221011\n",
            "Train Epoch: 1 [49920/60000 (83%)]\tLoss: 0.200485\n",
            "Train Epoch: 1 [50240/60000 (84%)]\tLoss: 0.280983\n",
            "Train Epoch: 1 [50560/60000 (84%)]\tLoss: 0.200301\n",
            "Train Epoch: 1 [50880/60000 (85%)]\tLoss: 0.323370\n",
            "Train Epoch: 1 [51200/60000 (85%)]\tLoss: 0.229460\n",
            "Train Epoch: 1 [51520/60000 (86%)]\tLoss: 0.121189\n",
            "Train Epoch: 1 [51840/60000 (86%)]\tLoss: 0.152632\n",
            "Train Epoch: 1 [52160/60000 (87%)]\tLoss: 0.142713\n",
            "Train Epoch: 1 [52480/60000 (87%)]\tLoss: 0.134355\n",
            "Train Epoch: 1 [52800/60000 (88%)]\tLoss: 0.142916\n",
            "Train Epoch: 1 [53120/60000 (89%)]\tLoss: 0.330930\n",
            "Train Epoch: 1 [53440/60000 (89%)]\tLoss: 0.143811\n",
            "Train Epoch: 1 [53760/60000 (90%)]\tLoss: 0.065250\n",
            "Train Epoch: 1 [54080/60000 (90%)]\tLoss: 0.166346\n",
            "Train Epoch: 1 [54400/60000 (91%)]\tLoss: 0.309285\n",
            "Train Epoch: 1 [54720/60000 (91%)]\tLoss: 0.187145\n",
            "Train Epoch: 1 [55040/60000 (92%)]\tLoss: 0.128472\n",
            "Train Epoch: 1 [55360/60000 (92%)]\tLoss: 0.182930\n",
            "Train Epoch: 1 [55680/60000 (93%)]\tLoss: 0.614248\n",
            "Train Epoch: 1 [56000/60000 (93%)]\tLoss: 0.172193\n",
            "Train Epoch: 1 [56320/60000 (94%)]\tLoss: 0.295073\n",
            "Train Epoch: 1 [56640/60000 (94%)]\tLoss: 0.101129\n",
            "Train Epoch: 1 [56960/60000 (95%)]\tLoss: 0.171772\n",
            "Train Epoch: 1 [57280/60000 (95%)]\tLoss: 0.138497\n",
            "Train Epoch: 1 [57600/60000 (96%)]\tLoss: 0.271244\n",
            "Train Epoch: 1 [57920/60000 (97%)]\tLoss: 0.121994\n",
            "Train Epoch: 1 [58240/60000 (97%)]\tLoss: 0.279220\n",
            "Train Epoch: 1 [58560/60000 (98%)]\tLoss: 0.164934\n",
            "Train Epoch: 1 [58880/60000 (98%)]\tLoss: 0.166188\n",
            "Train Epoch: 1 [59200/60000 (99%)]\tLoss: 0.033701\n",
            "Train Epoch: 1 [59520/60000 (99%)]\tLoss: 0.073811\n",
            "Train Epoch: 1 [59840/60000 (100%)]\tLoss: 0.202645\n"
          ]
        },
        {
          "output_type": "stream",
          "name": "stderr",
          "text": [
            "/usr/local/lib/python3.10/dist-packages/torch/nn/_reduction.py:51: UserWarning: size_average and reduce args will be deprecated, please use reduction='sum' instead.\n",
            "  warnings.warn(warning.format(ret))\n"
          ]
        },
        {
          "output_type": "stream",
          "name": "stdout",
          "text": [
            "\n",
            "Test set: Average loss: 0.2059, Accuracy: 9387/10000 (94%)\n",
            "\n"
          ]
        }
      ]
    },
    {
      "cell_type": "code",
      "source": [],
      "metadata": {
        "id": "9m3--4A-nDL-"
      },
      "execution_count": null,
      "outputs": []
    }
  ]
}